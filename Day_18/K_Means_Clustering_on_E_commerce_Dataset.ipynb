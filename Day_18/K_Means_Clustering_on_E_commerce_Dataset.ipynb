{
  "cells": [
    {
      "cell_type": "markdown",
      "metadata": {},
      "source": [
        "## **K-Means Clustering Algorithm**\n",
        "\n",
        "**K-Means** is a popular unsupervised machine learning algorithm used for **clustering** data into **K** distinct groups (or clusters) based on feature similarity. The goal of K-Means is to partition the data into K clusters where each data point belongs to the cluster with the nearest mean (centroid).\n",
        "\n",
        "### **How K-Means Clustering Works**\n",
        "\n",
        "The algorithm operates iteratively and involves the following steps:\n",
        "\n",
        "1. **Initialization:**\n",
        "   - Select the number of clusters, **K**.\n",
        "   - Randomly initialize **K centroids** (points representing the center of each cluster) within the data space.\n",
        "\n",
        "2. **Assignment Step (E-Step):**\n",
        "   - Each data point is assigned to the nearest centroid based on a distance metric (typically Euclidean distance).\n",
        "   - This creates **K clusters**, where each cluster contains points that are closest to its centroid.\n",
        "\n",
        "3. **Update Step (M-Step):**\n",
        "   - After assigning the data points to the clusters, the centroids are recalculated by finding the **mean** of all the data points in each cluster.\n",
        "   - The new centroids are the updated \"center\" of the clusters.\n",
        "\n",
        "4. **Iteration:**\n",
        "   - Steps 2 and 3 are repeated iteratively until convergence. Convergence occurs when the centroids stop changing significantly or when a maximum number of iterations is reached.\n",
        "\n",
        "5. **Final Clusters:**\n",
        "   - After convergence, the algorithm outputs **K clusters**, with each point belonging to one of the clusters based on proximity to the centroid.\n",
        "\n",
        "### **Distance Calculation in K-Means**\n",
        "\n",
        "The most commonly used distance metric in K-Means clustering is the **Euclidean distance**. The Euclidean distance between two points \\( x \\) and \\( y \\) in an n-dimensional space is calculated using the formula:\n",
        "\n",
        "```\n",
        "d(x, y) = √((x₁ - y₁)² + (x₂ - y₂)² + ... + (xₙ - yₙ)²)\n",
        "```\n",
        "\n",
        "Where:\n",
        "- \\( x \\) and \\( y \\) are two data points with coordinates \\( (x₁, x₂, ..., xₙ) \\) and \\( (y₁, y₂, ..., yₙ) \\) in n-dimensional space.\n",
        "- The distance is the square root of the sum of squared differences between corresponding dimensions of the points.\n",
        "\n",
        "This distance metric is used during the **Assignment Step** to assign each point to the nearest centroid.\n",
        "\n",
        "### **Example of K-Means Clustering**\n",
        "\n",
        "Let's take a simple example with 2D data:\n",
        "\n",
        "1. **Initialization:**\n",
        "   - Suppose we have the following points: \\((1, 2), (2, 3), (3, 4), (10, 11), (11, 12)\\).\n",
        "   - Let’s choose \\( K = 2 \\) (i.e., we want 2 clusters).\n",
        "   - Randomly select 2 initial centroids, say \\((2, 3)\\) and \\((11, 12)\\).\n",
        "\n",
        "2. **Assignment Step:**\n",
        "   - Calculate the distance from each point to both centroids.\n",
        "   - Points closer to \\((2, 3)\\) form one cluster, while points closer to \\((11, 12)\\) form another cluster.\n",
        "\n",
        "3. **Update Step:**\n",
        "   - Compute the new centroid of each cluster by taking the mean of the points in each cluster.\n",
        "   - If the new centroids are different from the previous centroids, update the centroids and repeat the assignment step.\n",
        "\n",
        "4. **Iteration:**\n",
        "   - The algorithm continues to iterate until the centroids no longer change, finalizing the clusters.\n",
        "\n",
        "### **Advantages of K-Means**\n",
        "\n",
        "- **Simple and fast**: K-Means is computationally efficient and can scale to large datasets.\n",
        "- **Easy to implement**: The algorithm is relatively simple to understand and implement.\n",
        "- **Clusters with similar sizes**: K-Means tends to form clusters of similar size, making it suitable for problems where clusters have similar variance.\n",
        "\n",
        "### **Disadvantages of K-Means**\n",
        "\n",
        "- **Sensitive to initialization**: Random initialization of centroids can lead to different clusters for different runs.\n",
        "- **Fixed number of clusters**: The number of clusters, K, needs to be predefined, which is not always intuitive.\n",
        "- **Sensitive to outliers**: Outliers can disproportionately affect the position of centroids.\n",
        "- **Assumes spherical clusters**: The algorithm works well when clusters are roughly spherical and equally sized, but struggles with clusters of varying shapes and densities.\n",
        "\n",
        "### **Distance Metrics in K-Means**\n",
        "\n",
        "Though Euclidean distance is the most common metric, other distance metrics can also be used depending on the nature of the data:\n",
        "\n",
        "1. **Manhattan Distance**:\n",
        "   - Formula: \n",
        "   ``` \n",
        "   d(x, y) = |x₁ - y₁| + |x₂ - y₂| + ... + |xₙ - yₙ| \n",
        "   ```\n",
        "   - Often used when the data is grid-like or for high-dimensional sparse data.\n",
        "\n",
        "2. **Cosine Distance**:\n",
        "   - Measures the cosine of the angle between two vectors, which can be useful when direction is more important than magnitude.\n",
        "\n",
        "3. **Minkowski Distance**:\n",
        "   - A generalization of both Euclidean and Manhattan distances.\n",
        "\n",
        "In practice, **K-Means++** is a variant of K-Means that addresses the sensitivity to centroid initialization by choosing initial centroids in a smarter way, improving convergence."
      ]
    },
    {
      "cell_type": "markdown",
      "metadata": {},
      "source": [
        "## **Mathematics Behind K-Means Clustering**\n",
        "\n",
        "At the core of K-Means clustering, the goal is to minimize the **within-cluster sum of squares (WCSS)**, which measures the variability of the points within each cluster. The steps are as follows:\n",
        "\n",
        "1. **Initial Centroid Selection**: Start by randomly selecting \\( K \\) centroids, where \\( K \\) is the number of clusters.\n",
        "\n",
        "2. **Assignment Step**:\n",
        "   - Each data point \\( x_i \\) is assigned to the closest centroid \\( \\mu_j \\) using the Euclidean distance formula:\n",
        "   ``` \n",
        "   d(x_i, \\mu_j) = \\sqrt{\\sum_{k=1}^{n} (x_{ik} - \\mu_{jk})^2} \n",
        "   ```\n",
        "   Where:\n",
        "   - \\( x_{ik} \\) is the \\( k \\)-th feature of the \\( i \\)-th data point.\n",
        "   - \\( \\mu_{jk} \\) is the \\( k \\)-th feature of the centroid of the \\( j \\)-th cluster.\n",
        "\n",
        "3. **Update Step**:\n",
        "   - The centroid of each cluster is updated by calculating the **mean** of all data points assigned to that cluster:\n",
        "   ```\n",
        "   \\mu_j = \\frac{1}{n_j} \\sum_{i \\in C_j} x_i\n",
        "   ```\n",
        "   Where:\n",
        "   - \\( C_j \\) is the set of all points assigned to cluster \\( j \\).\n",
        "   - \\( n_j \\) is the number of points in cluster \\( j \\).\n",
        "\n",
        "4. **Minimization of Objective Function**:\n",
        "   - K-Means minimizes the following **objective function**:\n",
        "   ```\n",
        "   \\text{WCSS} = \\sum_{j=1}^{K} \\sum_{i \\in C_j} ||x_i - \\mu_j||^2\n",
        "   ```\n",
        "   This represents the sum of squared distances between each point and its cluster centroid (within-cluster variance).\n",
        "\n",
        "### **Stopping Criteria**\n",
        "\n",
        "K-Means algorithm iterates through the assignment and update steps until one of the following stopping criteria is met:\n",
        "1. **Centroids do not change**: The centroids remain unchanged between two iterations.\n",
        "2. **Convergence threshold**: The change in the positions of centroids between iterations is less than a predefined threshold.\n",
        "3. **Maximum iterations**: A predefined maximum number of iterations is reached.\n",
        "\n",
        "### **K-Means++**\n",
        "\n",
        "**K-Means++** is an enhancement to the standard K-Means algorithm that improves the initial centroid selection. It avoids poor clustering due to random initialization by using the following steps:\n",
        "\n",
        "1. **First Centroid**: Select the first centroid randomly from the data points.\n",
        "2. **Subsequent Centroids**:\n",
        "   - For each remaining centroid, compute the squared distance between each data point and its nearest existing centroid.\n",
        "   - Select a new centroid with a probability proportional to the squared distance. This increases the likelihood of selecting centroids that are further apart from one another.\n",
        "\n",
        "K-Means++ initialization results in faster convergence and often leads to better clustering solutions compared to random initialization.\n",
        "\n",
        "### **Within-Cluster Sum of Squares (WCSS)**\n",
        "\n",
        "**WCSS** (Within-Cluster Sum of Squares) is a measure of the compactness of the clusters. It is computed as:\n",
        "```\n",
        "\\text{WCSS} = \\sum_{j=1}^{K} \\sum_{i \\in C_j} ||x_i - \\mu_j||^2\n",
        "```\n",
        "Where \\( ||x_i - \\mu_j||^2 \\) is the squared distance between the data point \\( x_i \\) and its cluster centroid \\( \\mu_j \\).\n",
        "\n",
        "- **Lower WCSS** indicates better clustering since data points are closely grouped around their centroids.\n",
        "- **Higher WCSS** implies greater spread within the clusters.\n",
        "\n",
        "### **Elbow Method**\n",
        "\n",
        "The **Elbow Method** is a technique used to determine the optimal number of clusters \\( K \\). It involves:\n",
        "\n",
        "1. **Run K-Means for various values of \\( K \\)**: Compute the WCSS for different numbers of clusters (typically \\( K = 1 \\) to a higher number).\n",
        "2. **Plot \\( K \\) vs. WCSS**: The x-axis represents the number of clusters \\( K \\), and the y-axis represents the WCSS.\n",
        "3. **Identify the \"Elbow\"**: The \"elbow\" point on the plot is the value of \\( K \\) where the reduction in WCSS slows down significantly. This value of \\( K \\) is considered optimal.\n",
        "\n",
        "### **Example of Elbow Method**\n",
        "\n",
        "Suppose we run K-Means with different values of \\( K \\) and obtain the following WCSS values:\n",
        "\n",
        "- \\( K = 1 \\): WCSS = 1000\n",
        "- \\( K = 2 \\): WCSS = 600\n",
        "- \\( K = 3 \\): WCSS = 400\n",
        "- \\( K = 4 \\): WCSS = 300\n",
        "- \\( K = 5 \\): WCSS = 250\n",
        "- \\( K = 6 \\): WCSS = 220\n",
        "\n",
        "Plotting these values on a graph, we observe that the decrease in WCSS becomes smaller after \\( K = 3 \\). Therefore, the \"elbow\" is at \\( K = 3 \\), which might be the optimal number of clusters.\n",
        "\n",
        "### **Key Takeaways**\n",
        "\n",
        "- **Mathematics**: K-Means clustering minimizes the WCSS by iteratively assigning points to clusters and updating centroids.\n",
        "- **Stopping Criteria**: K-Means stops when centroids stop changing, a threshold is met, or a maximum number of iterations is reached.\n",
        "- **K-Means++**: Improves the initialization of centroids, leading to faster convergence and better clusters.\n",
        "- **WCSS**: Measures the compactness of the clusters; the lower the WCSS, the better.\n",
        "- **Elbow Method**: Helps to determine the optimal number of clusters by identifying the point at which adding more clusters does not significantly improve the WCSS.\n"
      ]
    },
    {
      "cell_type": "markdown",
      "metadata": {
        "id": "-PMIhEdYtYuR"
      },
      "source": [
        "**Import of required libraries**"
      ]
    },
    {
      "cell_type": "code",
      "execution_count": 1,
      "metadata": {
        "id": "DexLoh-JsSZq"
      },
      "outputs": [],
      "source": [
        "import numpy as np\n",
        "import pandas as pd\n",
        "import matplotlib.pyplot as plt\n",
        "import seaborn as sns\n",
        "from sklearn.cluster import KMeans"
      ]
    },
    {
      "cell_type": "markdown",
      "metadata": {
        "id": "VdYUN5J6tgE7"
      },
      "source": [
        "**Records of the given dataset**"
      ]
    },
    {
      "cell_type": "code",
      "execution_count": 3,
      "metadata": {},
      "outputs": [
        {
          "data": {
            "text/html": [
              "<div>\n",
              "<style scoped>\n",
              "    .dataframe tbody tr th:only-of-type {\n",
              "        vertical-align: middle;\n",
              "    }\n",
              "\n",
              "    .dataframe tbody tr th {\n",
              "        vertical-align: top;\n",
              "    }\n",
              "\n",
              "    .dataframe thead th {\n",
              "        text-align: right;\n",
              "    }\n",
              "</style>\n",
              "<table border=\"1\" class=\"dataframe\">\n",
              "  <thead>\n",
              "    <tr style=\"text-align: right;\">\n",
              "      <th></th>\n",
              "      <th>InvoiceNo</th>\n",
              "      <th>StockCode</th>\n",
              "      <th>Description</th>\n",
              "      <th>Quantity</th>\n",
              "      <th>InvoiceDate</th>\n",
              "      <th>UnitPrice</th>\n",
              "      <th>CustomerID</th>\n",
              "      <th>Country</th>\n",
              "    </tr>\n",
              "  </thead>\n",
              "  <tbody>\n",
              "    <tr>\n",
              "      <th>0</th>\n",
              "      <td>536365</td>\n",
              "      <td>85123A</td>\n",
              "      <td>WHITE HANGING HEART T-LIGHT HOLDER</td>\n",
              "      <td>6</td>\n",
              "      <td>12/1/2010 8:26</td>\n",
              "      <td>2.55</td>\n",
              "      <td>17850.0</td>\n",
              "      <td>United Kingdom</td>\n",
              "    </tr>\n",
              "    <tr>\n",
              "      <th>1</th>\n",
              "      <td>536365</td>\n",
              "      <td>71053</td>\n",
              "      <td>WHITE METAL LANTERN</td>\n",
              "      <td>6</td>\n",
              "      <td>12/1/2010 8:26</td>\n",
              "      <td>3.39</td>\n",
              "      <td>17850.0</td>\n",
              "      <td>United Kingdom</td>\n",
              "    </tr>\n",
              "    <tr>\n",
              "      <th>2</th>\n",
              "      <td>536365</td>\n",
              "      <td>84406B</td>\n",
              "      <td>CREAM CUPID HEARTS COAT HANGER</td>\n",
              "      <td>8</td>\n",
              "      <td>12/1/2010 8:26</td>\n",
              "      <td>2.75</td>\n",
              "      <td>17850.0</td>\n",
              "      <td>United Kingdom</td>\n",
              "    </tr>\n",
              "    <tr>\n",
              "      <th>3</th>\n",
              "      <td>536365</td>\n",
              "      <td>84029G</td>\n",
              "      <td>KNITTED UNION FLAG HOT WATER BOTTLE</td>\n",
              "      <td>6</td>\n",
              "      <td>12/1/2010 8:26</td>\n",
              "      <td>3.39</td>\n",
              "      <td>17850.0</td>\n",
              "      <td>United Kingdom</td>\n",
              "    </tr>\n",
              "    <tr>\n",
              "      <th>4</th>\n",
              "      <td>536365</td>\n",
              "      <td>84029E</td>\n",
              "      <td>RED WOOLLY HOTTIE WHITE HEART.</td>\n",
              "      <td>6</td>\n",
              "      <td>12/1/2010 8:26</td>\n",
              "      <td>3.39</td>\n",
              "      <td>17850.0</td>\n",
              "      <td>United Kingdom</td>\n",
              "    </tr>\n",
              "    <tr>\n",
              "      <th>5</th>\n",
              "      <td>536365</td>\n",
              "      <td>22752</td>\n",
              "      <td>SET 7 BABUSHKA NESTING BOXES</td>\n",
              "      <td>2</td>\n",
              "      <td>12/1/2010 8:26</td>\n",
              "      <td>7.65</td>\n",
              "      <td>17850.0</td>\n",
              "      <td>United Kingdom</td>\n",
              "    </tr>\n",
              "    <tr>\n",
              "      <th>6</th>\n",
              "      <td>536365</td>\n",
              "      <td>21730</td>\n",
              "      <td>GLASS STAR FROSTED T-LIGHT HOLDER</td>\n",
              "      <td>6</td>\n",
              "      <td>12/1/2010 8:26</td>\n",
              "      <td>4.25</td>\n",
              "      <td>17850.0</td>\n",
              "      <td>United Kingdom</td>\n",
              "    </tr>\n",
              "    <tr>\n",
              "      <th>7</th>\n",
              "      <td>536366</td>\n",
              "      <td>22633</td>\n",
              "      <td>HAND WARMER UNION JACK</td>\n",
              "      <td>6</td>\n",
              "      <td>12/1/2010 8:28</td>\n",
              "      <td>1.85</td>\n",
              "      <td>17850.0</td>\n",
              "      <td>United Kingdom</td>\n",
              "    </tr>\n",
              "    <tr>\n",
              "      <th>8</th>\n",
              "      <td>536366</td>\n",
              "      <td>22632</td>\n",
              "      <td>HAND WARMER RED POLKA DOT</td>\n",
              "      <td>6</td>\n",
              "      <td>12/1/2010 8:28</td>\n",
              "      <td>1.85</td>\n",
              "      <td>17850.0</td>\n",
              "      <td>United Kingdom</td>\n",
              "    </tr>\n",
              "    <tr>\n",
              "      <th>9</th>\n",
              "      <td>536367</td>\n",
              "      <td>84879</td>\n",
              "      <td>ASSORTED COLOUR BIRD ORNAMENT</td>\n",
              "      <td>32</td>\n",
              "      <td>12/1/2010 8:34</td>\n",
              "      <td>1.69</td>\n",
              "      <td>13047.0</td>\n",
              "      <td>United Kingdom</td>\n",
              "    </tr>\n",
              "  </tbody>\n",
              "</table>\n",
              "</div>"
            ],
            "text/plain": [
              "  InvoiceNo StockCode                          Description  Quantity  \\\n",
              "0    536365    85123A   WHITE HANGING HEART T-LIGHT HOLDER         6   \n",
              "1    536365     71053                  WHITE METAL LANTERN         6   \n",
              "2    536365    84406B       CREAM CUPID HEARTS COAT HANGER         8   \n",
              "3    536365    84029G  KNITTED UNION FLAG HOT WATER BOTTLE         6   \n",
              "4    536365    84029E       RED WOOLLY HOTTIE WHITE HEART.         6   \n",
              "5    536365     22752         SET 7 BABUSHKA NESTING BOXES         2   \n",
              "6    536365     21730    GLASS STAR FROSTED T-LIGHT HOLDER         6   \n",
              "7    536366     22633               HAND WARMER UNION JACK         6   \n",
              "8    536366     22632            HAND WARMER RED POLKA DOT         6   \n",
              "9    536367     84879        ASSORTED COLOUR BIRD ORNAMENT        32   \n",
              "\n",
              "      InvoiceDate  UnitPrice  CustomerID         Country  \n",
              "0  12/1/2010 8:26       2.55     17850.0  United Kingdom  \n",
              "1  12/1/2010 8:26       3.39     17850.0  United Kingdom  \n",
              "2  12/1/2010 8:26       2.75     17850.0  United Kingdom  \n",
              "3  12/1/2010 8:26       3.39     17850.0  United Kingdom  \n",
              "4  12/1/2010 8:26       3.39     17850.0  United Kingdom  \n",
              "5  12/1/2010 8:26       7.65     17850.0  United Kingdom  \n",
              "6  12/1/2010 8:26       4.25     17850.0  United Kingdom  \n",
              "7  12/1/2010 8:28       1.85     17850.0  United Kingdom  \n",
              "8  12/1/2010 8:28       1.85     17850.0  United Kingdom  \n",
              "9  12/1/2010 8:34       1.69     13047.0  United Kingdom  "
            ]
          },
          "execution_count": 3,
          "metadata": {},
          "output_type": "execute_result"
        }
      ],
      "source": [
        "data = pd.read_csv(\"./data.csv\", delimiter=',', encoding = \"ISO-8859-1\")\n",
        "data.head(10)"
      ]
    },
    {
      "cell_type": "markdown",
      "metadata": {
        "id": "4q4sx2F5toyb"
      },
      "source": [
        "**Information of the columns in a data**"
      ]
    },
    {
      "cell_type": "code",
      "execution_count": 4,
      "metadata": {
        "colab": {
          "base_uri": "https://localhost:8080/"
        },
        "id": "U7HFxM6us5E3",
        "outputId": "49051575-de24-4e41-ebca-70e3680e15b0"
      },
      "outputs": [
        {
          "name": "stdout",
          "output_type": "stream",
          "text": [
            "<class 'pandas.core.frame.DataFrame'>\n",
            "RangeIndex: 541909 entries, 0 to 541908\n",
            "Data columns (total 8 columns):\n",
            " #   Column       Non-Null Count   Dtype  \n",
            "---  ------       --------------   -----  \n",
            " 0   InvoiceNo    541909 non-null  object \n",
            " 1   StockCode    541909 non-null  object \n",
            " 2   Description  540455 non-null  object \n",
            " 3   Quantity     541909 non-null  int64  \n",
            " 4   InvoiceDate  541909 non-null  object \n",
            " 5   UnitPrice    541909 non-null  float64\n",
            " 6   CustomerID   406829 non-null  float64\n",
            " 7   Country      541909 non-null  object \n",
            "dtypes: float64(2), int64(1), object(5)\n",
            "memory usage: 33.1+ MB\n"
          ]
        }
      ],
      "source": [
        "data.info()"
      ]
    },
    {
      "cell_type": "markdown",
      "metadata": {
        "id": "fJca630Ctu9A"
      },
      "source": [
        "**Description of numeric features**"
      ]
    },
    {
      "cell_type": "code",
      "execution_count": 5,
      "metadata": {
        "colab": {
          "base_uri": "https://localhost:8080/",
          "height": 143
        },
        "id": "z--PM-f2uJLH",
        "outputId": "09b09220-03b4-4623-f32f-0e00310589b4"
      },
      "outputs": [
        {
          "data": {
            "text/html": [
              "<div>\n",
              "<style scoped>\n",
              "    .dataframe tbody tr th:only-of-type {\n",
              "        vertical-align: middle;\n",
              "    }\n",
              "\n",
              "    .dataframe tbody tr th {\n",
              "        vertical-align: top;\n",
              "    }\n",
              "\n",
              "    .dataframe thead th {\n",
              "        text-align: right;\n",
              "    }\n",
              "</style>\n",
              "<table border=\"1\" class=\"dataframe\">\n",
              "  <thead>\n",
              "    <tr style=\"text-align: right;\">\n",
              "      <th></th>\n",
              "      <th>count</th>\n",
              "      <th>mean</th>\n",
              "      <th>std</th>\n",
              "      <th>min</th>\n",
              "      <th>25%</th>\n",
              "      <th>50%</th>\n",
              "      <th>75%</th>\n",
              "      <th>max</th>\n",
              "    </tr>\n",
              "  </thead>\n",
              "  <tbody>\n",
              "    <tr>\n",
              "      <th>Quantity</th>\n",
              "      <td>541909.0</td>\n",
              "      <td>9.552250</td>\n",
              "      <td>218.081158</td>\n",
              "      <td>-80995.00</td>\n",
              "      <td>1.00</td>\n",
              "      <td>3.00</td>\n",
              "      <td>10.00</td>\n",
              "      <td>80995.0</td>\n",
              "    </tr>\n",
              "    <tr>\n",
              "      <th>UnitPrice</th>\n",
              "      <td>541909.0</td>\n",
              "      <td>4.611114</td>\n",
              "      <td>96.759853</td>\n",
              "      <td>-11062.06</td>\n",
              "      <td>1.25</td>\n",
              "      <td>2.08</td>\n",
              "      <td>4.13</td>\n",
              "      <td>38970.0</td>\n",
              "    </tr>\n",
              "    <tr>\n",
              "      <th>CustomerID</th>\n",
              "      <td>406829.0</td>\n",
              "      <td>15287.690570</td>\n",
              "      <td>1713.600303</td>\n",
              "      <td>12346.00</td>\n",
              "      <td>13953.00</td>\n",
              "      <td>15152.00</td>\n",
              "      <td>16791.00</td>\n",
              "      <td>18287.0</td>\n",
              "    </tr>\n",
              "  </tbody>\n",
              "</table>\n",
              "</div>"
            ],
            "text/plain": [
              "               count          mean          std       min       25%       50%  \\\n",
              "Quantity    541909.0      9.552250   218.081158 -80995.00      1.00      3.00   \n",
              "UnitPrice   541909.0      4.611114    96.759853 -11062.06      1.25      2.08   \n",
              "CustomerID  406829.0  15287.690570  1713.600303  12346.00  13953.00  15152.00   \n",
              "\n",
              "                 75%      max  \n",
              "Quantity       10.00  80995.0  \n",
              "UnitPrice       4.13  38970.0  \n",
              "CustomerID  16791.00  18287.0  "
            ]
          },
          "execution_count": 5,
          "metadata": {},
          "output_type": "execute_result"
        }
      ],
      "source": [
        "data.describe().T"
      ]
    },
    {
      "cell_type": "markdown",
      "metadata": {
        "id": "WOL6AeOYuHTf"
      },
      "source": [
        "**Description of non numeric features**"
      ]
    },
    {
      "cell_type": "code",
      "execution_count": 6,
      "metadata": {
        "colab": {
          "base_uri": "https://localhost:8080/",
          "height": 206
        },
        "id": "q7iTS98EtExX",
        "outputId": "0fd347ec-175f-4dc9-f429-90c8afd26783"
      },
      "outputs": [
        {
          "data": {
            "text/html": [
              "<div>\n",
              "<style scoped>\n",
              "    .dataframe tbody tr th:only-of-type {\n",
              "        vertical-align: middle;\n",
              "    }\n",
              "\n",
              "    .dataframe tbody tr th {\n",
              "        vertical-align: top;\n",
              "    }\n",
              "\n",
              "    .dataframe thead th {\n",
              "        text-align: right;\n",
              "    }\n",
              "</style>\n",
              "<table border=\"1\" class=\"dataframe\">\n",
              "  <thead>\n",
              "    <tr style=\"text-align: right;\">\n",
              "      <th></th>\n",
              "      <th>count</th>\n",
              "      <th>unique</th>\n",
              "      <th>top</th>\n",
              "      <th>freq</th>\n",
              "    </tr>\n",
              "  </thead>\n",
              "  <tbody>\n",
              "    <tr>\n",
              "      <th>InvoiceNo</th>\n",
              "      <td>541909</td>\n",
              "      <td>25900</td>\n",
              "      <td>573585</td>\n",
              "      <td>1114</td>\n",
              "    </tr>\n",
              "    <tr>\n",
              "      <th>StockCode</th>\n",
              "      <td>541909</td>\n",
              "      <td>4070</td>\n",
              "      <td>85123A</td>\n",
              "      <td>2313</td>\n",
              "    </tr>\n",
              "    <tr>\n",
              "      <th>Description</th>\n",
              "      <td>540455</td>\n",
              "      <td>4223</td>\n",
              "      <td>WHITE HANGING HEART T-LIGHT HOLDER</td>\n",
              "      <td>2369</td>\n",
              "    </tr>\n",
              "    <tr>\n",
              "      <th>InvoiceDate</th>\n",
              "      <td>541909</td>\n",
              "      <td>23260</td>\n",
              "      <td>10/31/2011 14:41</td>\n",
              "      <td>1114</td>\n",
              "    </tr>\n",
              "    <tr>\n",
              "      <th>Country</th>\n",
              "      <td>541909</td>\n",
              "      <td>38</td>\n",
              "      <td>United Kingdom</td>\n",
              "      <td>495478</td>\n",
              "    </tr>\n",
              "  </tbody>\n",
              "</table>\n",
              "</div>"
            ],
            "text/plain": [
              "              count unique                                 top    freq\n",
              "InvoiceNo    541909  25900                              573585    1114\n",
              "StockCode    541909   4070                              85123A    2313\n",
              "Description  540455   4223  WHITE HANGING HEART T-LIGHT HOLDER    2369\n",
              "InvoiceDate  541909  23260                    10/31/2011 14:41    1114\n",
              "Country      541909     38                      United Kingdom  495478"
            ]
          },
          "execution_count": 6,
          "metadata": {},
          "output_type": "execute_result"
        }
      ],
      "source": [
        "data.describe(exclude=['int64', 'float64']).T"
      ]
    },
    {
      "cell_type": "markdown",
      "metadata": {
        "id": "qrnGCDB6uX5F"
      },
      "source": [
        "**Check for null values**"
      ]
    },
    {
      "cell_type": "code",
      "execution_count": 7,
      "metadata": {
        "colab": {
          "base_uri": "https://localhost:8080/"
        },
        "id": "jwkeDV-ht-kX",
        "outputId": "e687ba75-fd56-4eb0-ffae-afe0a5383abd"
      },
      "outputs": [
        {
          "data": {
            "text/plain": [
              "InvoiceNo           0\n",
              "StockCode           0\n",
              "Description      1454\n",
              "Quantity            0\n",
              "InvoiceDate         0\n",
              "UnitPrice           0\n",
              "CustomerID     135080\n",
              "Country             0\n",
              "dtype: int64"
            ]
          },
          "execution_count": 7,
          "metadata": {},
          "output_type": "execute_result"
        }
      ],
      "source": [
        "data.isnull().sum()"
      ]
    },
    {
      "cell_type": "markdown",
      "metadata": {
        "id": "K1u9QniMungj"
      },
      "source": [
        "**Shape of the available data**"
      ]
    },
    {
      "cell_type": "code",
      "execution_count": 8,
      "metadata": {
        "colab": {
          "base_uri": "https://localhost:8080/"
        },
        "id": "PkU4xxnaueJv",
        "outputId": "b4990b96-fea6-47e8-d9ae-d17823ac53a2"
      },
      "outputs": [
        {
          "data": {
            "text/plain": [
              "(541909, 8)"
            ]
          },
          "execution_count": 8,
          "metadata": {},
          "output_type": "execute_result"
        }
      ],
      "source": [
        "data.shape"
      ]
    },
    {
      "cell_type": "markdown",
      "metadata": {
        "id": "1hiZSSLyuq1y"
      },
      "source": [
        "**Delete all the missing records**"
      ]
    },
    {
      "cell_type": "code",
      "execution_count": 9,
      "metadata": {
        "id": "xyraYfKyujkn"
      },
      "outputs": [],
      "source": [
        "data.dropna(inplace=True)"
      ]
    },
    {
      "cell_type": "code",
      "execution_count": 10,
      "metadata": {
        "colab": {
          "base_uri": "https://localhost:8080/"
        },
        "id": "hHxmfeLTuynm",
        "outputId": "871a73d8-1eff-4a57-ebf0-318986ec5b7b"
      },
      "outputs": [
        {
          "data": {
            "text/plain": [
              "(406829, 8)"
            ]
          },
          "execution_count": 10,
          "metadata": {},
          "output_type": "execute_result"
        }
      ],
      "source": [
        "data.shape"
      ]
    },
    {
      "cell_type": "code",
      "execution_count": 11,
      "metadata": {
        "colab": {
          "base_uri": "https://localhost:8080/"
        },
        "id": "Cz-f3JKGu0Ee",
        "outputId": "97c88f89-966b-4b0c-ab42-252a4da44ac7"
      },
      "outputs": [
        {
          "data": {
            "text/plain": [
              "InvoiceNo      0\n",
              "StockCode      0\n",
              "Description    0\n",
              "Quantity       0\n",
              "InvoiceDate    0\n",
              "UnitPrice      0\n",
              "CustomerID     0\n",
              "Country        0\n",
              "dtype: int64"
            ]
          },
          "execution_count": 11,
          "metadata": {},
          "output_type": "execute_result"
        }
      ],
      "source": [
        "data.isnull().sum()"
      ]
    },
    {
      "cell_type": "markdown",
      "metadata": {
        "id": "461yrbtEvI2M"
      },
      "source": [
        "**Checking of whether negative values present in Quantity and Unit Price**"
      ]
    },
    {
      "cell_type": "code",
      "execution_count": 12,
      "metadata": {
        "colab": {
          "base_uri": "https://localhost:8080/",
          "height": 597
        },
        "id": "XSNJvGchu4om",
        "outputId": "0c8bddf5-81bf-49c8-9e82-cf66fc2c1122"
      },
      "outputs": [
        {
          "data": {
            "text/html": [
              "<div>\n",
              "<style scoped>\n",
              "    .dataframe tbody tr th:only-of-type {\n",
              "        vertical-align: middle;\n",
              "    }\n",
              "\n",
              "    .dataframe tbody tr th {\n",
              "        vertical-align: top;\n",
              "    }\n",
              "\n",
              "    .dataframe thead th {\n",
              "        text-align: right;\n",
              "    }\n",
              "</style>\n",
              "<table border=\"1\" class=\"dataframe\">\n",
              "  <thead>\n",
              "    <tr style=\"text-align: right;\">\n",
              "      <th></th>\n",
              "      <th>InvoiceNo</th>\n",
              "      <th>StockCode</th>\n",
              "      <th>Description</th>\n",
              "      <th>Quantity</th>\n",
              "      <th>InvoiceDate</th>\n",
              "      <th>UnitPrice</th>\n",
              "      <th>CustomerID</th>\n",
              "      <th>Country</th>\n",
              "    </tr>\n",
              "  </thead>\n",
              "  <tbody>\n",
              "    <tr>\n",
              "      <th>141</th>\n",
              "      <td>C536379</td>\n",
              "      <td>D</td>\n",
              "      <td>Discount</td>\n",
              "      <td>-1</td>\n",
              "      <td>12/1/2010 9:41</td>\n",
              "      <td>27.50</td>\n",
              "      <td>14527.0</td>\n",
              "      <td>United Kingdom</td>\n",
              "    </tr>\n",
              "    <tr>\n",
              "      <th>154</th>\n",
              "      <td>C536383</td>\n",
              "      <td>35004C</td>\n",
              "      <td>SET OF 3 COLOURED  FLYING DUCKS</td>\n",
              "      <td>-1</td>\n",
              "      <td>12/1/2010 9:49</td>\n",
              "      <td>4.65</td>\n",
              "      <td>15311.0</td>\n",
              "      <td>United Kingdom</td>\n",
              "    </tr>\n",
              "    <tr>\n",
              "      <th>235</th>\n",
              "      <td>C536391</td>\n",
              "      <td>22556</td>\n",
              "      <td>PLASTERS IN TIN CIRCUS PARADE</td>\n",
              "      <td>-12</td>\n",
              "      <td>12/1/2010 10:24</td>\n",
              "      <td>1.65</td>\n",
              "      <td>17548.0</td>\n",
              "      <td>United Kingdom</td>\n",
              "    </tr>\n",
              "    <tr>\n",
              "      <th>236</th>\n",
              "      <td>C536391</td>\n",
              "      <td>21984</td>\n",
              "      <td>PACK OF 12 PINK PAISLEY TISSUES</td>\n",
              "      <td>-24</td>\n",
              "      <td>12/1/2010 10:24</td>\n",
              "      <td>0.29</td>\n",
              "      <td>17548.0</td>\n",
              "      <td>United Kingdom</td>\n",
              "    </tr>\n",
              "    <tr>\n",
              "      <th>237</th>\n",
              "      <td>C536391</td>\n",
              "      <td>21983</td>\n",
              "      <td>PACK OF 12 BLUE PAISLEY TISSUES</td>\n",
              "      <td>-24</td>\n",
              "      <td>12/1/2010 10:24</td>\n",
              "      <td>0.29</td>\n",
              "      <td>17548.0</td>\n",
              "      <td>United Kingdom</td>\n",
              "    </tr>\n",
              "    <tr>\n",
              "      <th>...</th>\n",
              "      <td>...</td>\n",
              "      <td>...</td>\n",
              "      <td>...</td>\n",
              "      <td>...</td>\n",
              "      <td>...</td>\n",
              "      <td>...</td>\n",
              "      <td>...</td>\n",
              "      <td>...</td>\n",
              "    </tr>\n",
              "    <tr>\n",
              "      <th>540449</th>\n",
              "      <td>C581490</td>\n",
              "      <td>23144</td>\n",
              "      <td>ZINC T-LIGHT HOLDER STARS SMALL</td>\n",
              "      <td>-11</td>\n",
              "      <td>12/9/2011 9:57</td>\n",
              "      <td>0.83</td>\n",
              "      <td>14397.0</td>\n",
              "      <td>United Kingdom</td>\n",
              "    </tr>\n",
              "    <tr>\n",
              "      <th>541541</th>\n",
              "      <td>C581499</td>\n",
              "      <td>M</td>\n",
              "      <td>Manual</td>\n",
              "      <td>-1</td>\n",
              "      <td>12/9/2011 10:28</td>\n",
              "      <td>224.69</td>\n",
              "      <td>15498.0</td>\n",
              "      <td>United Kingdom</td>\n",
              "    </tr>\n",
              "    <tr>\n",
              "      <th>541715</th>\n",
              "      <td>C581568</td>\n",
              "      <td>21258</td>\n",
              "      <td>VICTORIAN SEWING BOX LARGE</td>\n",
              "      <td>-5</td>\n",
              "      <td>12/9/2011 11:57</td>\n",
              "      <td>10.95</td>\n",
              "      <td>15311.0</td>\n",
              "      <td>United Kingdom</td>\n",
              "    </tr>\n",
              "    <tr>\n",
              "      <th>541716</th>\n",
              "      <td>C581569</td>\n",
              "      <td>84978</td>\n",
              "      <td>HANGING HEART JAR T-LIGHT HOLDER</td>\n",
              "      <td>-1</td>\n",
              "      <td>12/9/2011 11:58</td>\n",
              "      <td>1.25</td>\n",
              "      <td>17315.0</td>\n",
              "      <td>United Kingdom</td>\n",
              "    </tr>\n",
              "    <tr>\n",
              "      <th>541717</th>\n",
              "      <td>C581569</td>\n",
              "      <td>20979</td>\n",
              "      <td>36 PENCILS TUBE RED RETROSPOT</td>\n",
              "      <td>-5</td>\n",
              "      <td>12/9/2011 11:58</td>\n",
              "      <td>1.25</td>\n",
              "      <td>17315.0</td>\n",
              "      <td>United Kingdom</td>\n",
              "    </tr>\n",
              "  </tbody>\n",
              "</table>\n",
              "<p>8905 rows × 8 columns</p>\n",
              "</div>"
            ],
            "text/plain": [
              "       InvoiceNo StockCode                       Description  Quantity  \\\n",
              "141      C536379         D                          Discount        -1   \n",
              "154      C536383    35004C   SET OF 3 COLOURED  FLYING DUCKS        -1   \n",
              "235      C536391     22556    PLASTERS IN TIN CIRCUS PARADE        -12   \n",
              "236      C536391     21984  PACK OF 12 PINK PAISLEY TISSUES        -24   \n",
              "237      C536391     21983  PACK OF 12 BLUE PAISLEY TISSUES        -24   \n",
              "...          ...       ...                               ...       ...   \n",
              "540449   C581490     23144   ZINC T-LIGHT HOLDER STARS SMALL       -11   \n",
              "541541   C581499         M                            Manual        -1   \n",
              "541715   C581568     21258        VICTORIAN SEWING BOX LARGE        -5   \n",
              "541716   C581569     84978  HANGING HEART JAR T-LIGHT HOLDER        -1   \n",
              "541717   C581569     20979     36 PENCILS TUBE RED RETROSPOT        -5   \n",
              "\n",
              "            InvoiceDate  UnitPrice  CustomerID         Country  \n",
              "141      12/1/2010 9:41      27.50     14527.0  United Kingdom  \n",
              "154      12/1/2010 9:49       4.65     15311.0  United Kingdom  \n",
              "235     12/1/2010 10:24       1.65     17548.0  United Kingdom  \n",
              "236     12/1/2010 10:24       0.29     17548.0  United Kingdom  \n",
              "237     12/1/2010 10:24       0.29     17548.0  United Kingdom  \n",
              "...                 ...        ...         ...             ...  \n",
              "540449   12/9/2011 9:57       0.83     14397.0  United Kingdom  \n",
              "541541  12/9/2011 10:28     224.69     15498.0  United Kingdom  \n",
              "541715  12/9/2011 11:57      10.95     15311.0  United Kingdom  \n",
              "541716  12/9/2011 11:58       1.25     17315.0  United Kingdom  \n",
              "541717  12/9/2011 11:58       1.25     17315.0  United Kingdom  \n",
              "\n",
              "[8905 rows x 8 columns]"
            ]
          },
          "execution_count": 12,
          "metadata": {},
          "output_type": "execute_result"
        }
      ],
      "source": [
        "data[data['Quantity']<0]"
      ]
    },
    {
      "cell_type": "code",
      "execution_count": 13,
      "metadata": {
        "colab": {
          "base_uri": "https://localhost:8080/"
        },
        "id": "4Kjb6ZZzw_1Y",
        "outputId": "1d6af285-9ac6-45f6-9aa6-ed3ee63be3a3"
      },
      "outputs": [
        {
          "data": {
            "text/plain": [
              "0"
            ]
          },
          "execution_count": 13,
          "metadata": {},
          "output_type": "execute_result"
        }
      ],
      "source": [
        "data[data['UnitPrice']<0].shape[0]"
      ]
    },
    {
      "cell_type": "markdown",
      "metadata": {
        "id": "veeQzd76xULq"
      },
      "source": [
        "**Drop the negative values or quantity**"
      ]
    },
    {
      "cell_type": "code",
      "execution_count": 14,
      "metadata": {
        "id": "v4XMfRrAxIhm"
      },
      "outputs": [],
      "source": [
        "data.drop(data[data['Quantity'] < 0].index, inplace=True)"
      ]
    },
    {
      "cell_type": "code",
      "execution_count": 15,
      "metadata": {
        "colab": {
          "base_uri": "https://localhost:8080/"
        },
        "id": "RV1hjsAPx8WH",
        "outputId": "1bc1ef96-334c-4412-ac02-35ee515d7563"
      },
      "outputs": [
        {
          "data": {
            "text/plain": [
              "(397924, 8)"
            ]
          },
          "execution_count": 15,
          "metadata": {},
          "output_type": "execute_result"
        }
      ],
      "source": [
        "data.shape"
      ]
    },
    {
      "cell_type": "markdown",
      "metadata": {
        "id": "UzPkmf9wyCU4"
      },
      "source": [
        "**Calculation of total amount or monetary value**"
      ]
    },
    {
      "cell_type": "code",
      "execution_count": 16,
      "metadata": {
        "colab": {
          "base_uri": "https://localhost:8080/",
          "height": 423
        },
        "id": "nh8BEbusx_CD",
        "outputId": "47226a95-c69d-40ec-fafe-fbe322b4a7c5"
      },
      "outputs": [
        {
          "data": {
            "text/html": [
              "<div>\n",
              "<style scoped>\n",
              "    .dataframe tbody tr th:only-of-type {\n",
              "        vertical-align: middle;\n",
              "    }\n",
              "\n",
              "    .dataframe tbody tr th {\n",
              "        vertical-align: top;\n",
              "    }\n",
              "\n",
              "    .dataframe thead th {\n",
              "        text-align: right;\n",
              "    }\n",
              "</style>\n",
              "<table border=\"1\" class=\"dataframe\">\n",
              "  <thead>\n",
              "    <tr style=\"text-align: right;\">\n",
              "      <th></th>\n",
              "      <th>CustomerID</th>\n",
              "      <th>Sales</th>\n",
              "    </tr>\n",
              "  </thead>\n",
              "  <tbody>\n",
              "    <tr>\n",
              "      <th>0</th>\n",
              "      <td>12346.0</td>\n",
              "      <td>77183.60</td>\n",
              "    </tr>\n",
              "    <tr>\n",
              "      <th>1</th>\n",
              "      <td>12347.0</td>\n",
              "      <td>4310.00</td>\n",
              "    </tr>\n",
              "    <tr>\n",
              "      <th>2</th>\n",
              "      <td>12348.0</td>\n",
              "      <td>1797.24</td>\n",
              "    </tr>\n",
              "    <tr>\n",
              "      <th>3</th>\n",
              "      <td>12349.0</td>\n",
              "      <td>1757.55</td>\n",
              "    </tr>\n",
              "    <tr>\n",
              "      <th>4</th>\n",
              "      <td>12350.0</td>\n",
              "      <td>334.40</td>\n",
              "    </tr>\n",
              "    <tr>\n",
              "      <th>...</th>\n",
              "      <td>...</td>\n",
              "      <td>...</td>\n",
              "    </tr>\n",
              "    <tr>\n",
              "      <th>4334</th>\n",
              "      <td>18280.0</td>\n",
              "      <td>180.60</td>\n",
              "    </tr>\n",
              "    <tr>\n",
              "      <th>4335</th>\n",
              "      <td>18281.0</td>\n",
              "      <td>80.82</td>\n",
              "    </tr>\n",
              "    <tr>\n",
              "      <th>4336</th>\n",
              "      <td>18282.0</td>\n",
              "      <td>178.05</td>\n",
              "    </tr>\n",
              "    <tr>\n",
              "      <th>4337</th>\n",
              "      <td>18283.0</td>\n",
              "      <td>2094.88</td>\n",
              "    </tr>\n",
              "    <tr>\n",
              "      <th>4338</th>\n",
              "      <td>18287.0</td>\n",
              "      <td>1837.28</td>\n",
              "    </tr>\n",
              "  </tbody>\n",
              "</table>\n",
              "<p>4339 rows × 2 columns</p>\n",
              "</div>"
            ],
            "text/plain": [
              "      CustomerID     Sales\n",
              "0        12346.0  77183.60\n",
              "1        12347.0   4310.00\n",
              "2        12348.0   1797.24\n",
              "3        12349.0   1757.55\n",
              "4        12350.0    334.40\n",
              "...          ...       ...\n",
              "4334     18280.0    180.60\n",
              "4335     18281.0     80.82\n",
              "4336     18282.0    178.05\n",
              "4337     18283.0   2094.88\n",
              "4338     18287.0   1837.28\n",
              "\n",
              "[4339 rows x 2 columns]"
            ]
          },
          "execution_count": 16,
          "metadata": {},
          "output_type": "execute_result"
        }
      ],
      "source": [
        "data['Sales'] = data['Quantity'] * data['UnitPrice']\n",
        "new_data = data.groupby('CustomerID')['Sales'].sum().reset_index()\n",
        "new_data"
      ]
    },
    {
      "cell_type": "code",
      "execution_count": 17,
      "metadata": {
        "colab": {
          "base_uri": "https://localhost:8080/",
          "height": 204
        },
        "id": "yFd-L0QyqZy7",
        "outputId": "9e4c0e0e-b9ec-484c-e4ab-346584be9bda"
      },
      "outputs": [
        {
          "data": {
            "text/plain": [
              "pandas.core.frame.DataFrame"
            ]
          },
          "execution_count": 17,
          "metadata": {},
          "output_type": "execute_result"
        }
      ],
      "source": [
        "type(new_data)"
      ]
    },
    {
      "cell_type": "markdown",
      "metadata": {
        "id": "KYlWP5bDylw6"
      },
      "source": [
        "**Calculating the number of transactions of each customer**"
      ]
    },
    {
      "cell_type": "code",
      "execution_count": 18,
      "metadata": {
        "colab": {
          "base_uri": "https://localhost:8080/",
          "height": 423
        },
        "id": "rPGS35WQyebG",
        "outputId": "55442f98-2ee7-4692-8928-3001c83705ed"
      },
      "outputs": [
        {
          "data": {
            "text/html": [
              "<div>\n",
              "<style scoped>\n",
              "    .dataframe tbody tr th:only-of-type {\n",
              "        vertical-align: middle;\n",
              "    }\n",
              "\n",
              "    .dataframe tbody tr th {\n",
              "        vertical-align: top;\n",
              "    }\n",
              "\n",
              "    .dataframe thead th {\n",
              "        text-align: right;\n",
              "    }\n",
              "</style>\n",
              "<table border=\"1\" class=\"dataframe\">\n",
              "  <thead>\n",
              "    <tr style=\"text-align: right;\">\n",
              "      <th></th>\n",
              "      <th>CustomerID</th>\n",
              "      <th>InvoiceNo</th>\n",
              "    </tr>\n",
              "  </thead>\n",
              "  <tbody>\n",
              "    <tr>\n",
              "      <th>0</th>\n",
              "      <td>12346.0</td>\n",
              "      <td>1</td>\n",
              "    </tr>\n",
              "    <tr>\n",
              "      <th>1</th>\n",
              "      <td>12347.0</td>\n",
              "      <td>182</td>\n",
              "    </tr>\n",
              "    <tr>\n",
              "      <th>2</th>\n",
              "      <td>12348.0</td>\n",
              "      <td>31</td>\n",
              "    </tr>\n",
              "    <tr>\n",
              "      <th>3</th>\n",
              "      <td>12349.0</td>\n",
              "      <td>73</td>\n",
              "    </tr>\n",
              "    <tr>\n",
              "      <th>4</th>\n",
              "      <td>12350.0</td>\n",
              "      <td>17</td>\n",
              "    </tr>\n",
              "    <tr>\n",
              "      <th>...</th>\n",
              "      <td>...</td>\n",
              "      <td>...</td>\n",
              "    </tr>\n",
              "    <tr>\n",
              "      <th>4334</th>\n",
              "      <td>18280.0</td>\n",
              "      <td>10</td>\n",
              "    </tr>\n",
              "    <tr>\n",
              "      <th>4335</th>\n",
              "      <td>18281.0</td>\n",
              "      <td>7</td>\n",
              "    </tr>\n",
              "    <tr>\n",
              "      <th>4336</th>\n",
              "      <td>18282.0</td>\n",
              "      <td>12</td>\n",
              "    </tr>\n",
              "    <tr>\n",
              "      <th>4337</th>\n",
              "      <td>18283.0</td>\n",
              "      <td>756</td>\n",
              "    </tr>\n",
              "    <tr>\n",
              "      <th>4338</th>\n",
              "      <td>18287.0</td>\n",
              "      <td>70</td>\n",
              "    </tr>\n",
              "  </tbody>\n",
              "</table>\n",
              "<p>4339 rows × 2 columns</p>\n",
              "</div>"
            ],
            "text/plain": [
              "      CustomerID  InvoiceNo\n",
              "0        12346.0          1\n",
              "1        12347.0        182\n",
              "2        12348.0         31\n",
              "3        12349.0         73\n",
              "4        12350.0         17\n",
              "...          ...        ...\n",
              "4334     18280.0         10\n",
              "4335     18281.0          7\n",
              "4336     18282.0         12\n",
              "4337     18283.0        756\n",
              "4338     18287.0         70\n",
              "\n",
              "[4339 rows x 2 columns]"
            ]
          },
          "execution_count": 18,
          "metadata": {},
          "output_type": "execute_result"
        }
      ],
      "source": [
        "num_trans = data.groupby('CustomerID')['InvoiceNo'].count().reset_index()\n",
        "num_trans"
      ]
    },
    {
      "cell_type": "code",
      "execution_count": 19,
      "metadata": {
        "colab": {
          "base_uri": "https://localhost:8080/",
          "height": 204
        },
        "id": "6STMqc1nqsj9",
        "outputId": "ef22d513-1cce-4b6b-8921-f4516fc26490"
      },
      "outputs": [
        {
          "data": {
            "text/plain": [
              "pandas.core.frame.DataFrame"
            ]
          },
          "execution_count": 19,
          "metadata": {},
          "output_type": "execute_result"
        }
      ],
      "source": [
        "type(num_trans)"
      ]
    },
    {
      "cell_type": "markdown",
      "metadata": {
        "id": "AHsf2tSXnMKg"
      },
      "source": [
        "**Calculate Last Transaction**"
      ]
    },
    {
      "cell_type": "code",
      "execution_count": 20,
      "metadata": {
        "id": "6BWwug8Gy0rl"
      },
      "outputs": [],
      "source": [
        "data['InvoiceDate'] = pd.to_datetime(data['InvoiceDate'])"
      ]
    },
    {
      "cell_type": "code",
      "execution_count": 21,
      "metadata": {
        "colab": {
          "base_uri": "https://localhost:8080/"
        },
        "id": "ScCGgSM_q9Y6",
        "outputId": "5c159e28-fb4b-497d-8776-b74f88b28ee3"
      },
      "outputs": [
        {
          "data": {
            "text/plain": [
              "0        2010-12-01 08:26:00\n",
              "1        2010-12-01 08:26:00\n",
              "2        2010-12-01 08:26:00\n",
              "3        2010-12-01 08:26:00\n",
              "4        2010-12-01 08:26:00\n",
              "                 ...        \n",
              "541904   2011-12-09 12:50:00\n",
              "541905   2011-12-09 12:50:00\n",
              "541906   2011-12-09 12:50:00\n",
              "541907   2011-12-09 12:50:00\n",
              "541908   2011-12-09 12:50:00\n",
              "Name: InvoiceDate, Length: 397924, dtype: datetime64[ns]"
            ]
          },
          "execution_count": 21,
          "metadata": {},
          "output_type": "execute_result"
        }
      ],
      "source": [
        "data['InvoiceDate']"
      ]
    },
    {
      "cell_type": "code",
      "execution_count": 22,
      "metadata": {
        "id": "JGNAhXOUnpDb"
      },
      "outputs": [],
      "source": [
        "data['Last Transaction'] = (data['InvoiceDate'].max() - data['InvoiceDate']).dt.days"
      ]
    },
    {
      "cell_type": "code",
      "execution_count": 23,
      "metadata": {
        "colab": {
          "base_uri": "https://localhost:8080/"
        },
        "id": "YbLFEDqhrNMj",
        "outputId": "6a2a14f2-4d62-4bd7-85ed-3d1c3915a6be"
      },
      "outputs": [
        {
          "data": {
            "text/plain": [
              "0         373\n",
              "1         373\n",
              "2         373\n",
              "3         373\n",
              "4         373\n",
              "         ... \n",
              "541904      0\n",
              "541905      0\n",
              "541906      0\n",
              "541907      0\n",
              "541908      0\n",
              "Name: Last Transaction, Length: 397924, dtype: int64"
            ]
          },
          "execution_count": 23,
          "metadata": {},
          "output_type": "execute_result"
        }
      ],
      "source": [
        "data['Last Transaction']"
      ]
    },
    {
      "cell_type": "code",
      "execution_count": 24,
      "metadata": {
        "colab": {
          "base_uri": "https://localhost:8080/",
          "height": 606
        },
        "id": "5kcee0Q6ntZI",
        "outputId": "86666875-5dc7-4166-e3a2-480c663c90b6"
      },
      "outputs": [
        {
          "data": {
            "text/html": [
              "<div>\n",
              "<style scoped>\n",
              "    .dataframe tbody tr th:only-of-type {\n",
              "        vertical-align: middle;\n",
              "    }\n",
              "\n",
              "    .dataframe tbody tr th {\n",
              "        vertical-align: top;\n",
              "    }\n",
              "\n",
              "    .dataframe thead th {\n",
              "        text-align: right;\n",
              "    }\n",
              "</style>\n",
              "<table border=\"1\" class=\"dataframe\">\n",
              "  <thead>\n",
              "    <tr style=\"text-align: right;\">\n",
              "      <th></th>\n",
              "      <th>InvoiceNo</th>\n",
              "      <th>StockCode</th>\n",
              "      <th>Description</th>\n",
              "      <th>Quantity</th>\n",
              "      <th>InvoiceDate</th>\n",
              "      <th>UnitPrice</th>\n",
              "      <th>CustomerID</th>\n",
              "      <th>Country</th>\n",
              "      <th>Sales</th>\n",
              "      <th>Last Transaction</th>\n",
              "    </tr>\n",
              "  </thead>\n",
              "  <tbody>\n",
              "    <tr>\n",
              "      <th>0</th>\n",
              "      <td>536365</td>\n",
              "      <td>85123A</td>\n",
              "      <td>WHITE HANGING HEART T-LIGHT HOLDER</td>\n",
              "      <td>6</td>\n",
              "      <td>2010-12-01 08:26:00</td>\n",
              "      <td>2.55</td>\n",
              "      <td>17850.0</td>\n",
              "      <td>United Kingdom</td>\n",
              "      <td>15.30</td>\n",
              "      <td>373</td>\n",
              "    </tr>\n",
              "    <tr>\n",
              "      <th>1</th>\n",
              "      <td>536365</td>\n",
              "      <td>71053</td>\n",
              "      <td>WHITE METAL LANTERN</td>\n",
              "      <td>6</td>\n",
              "      <td>2010-12-01 08:26:00</td>\n",
              "      <td>3.39</td>\n",
              "      <td>17850.0</td>\n",
              "      <td>United Kingdom</td>\n",
              "      <td>20.34</td>\n",
              "      <td>373</td>\n",
              "    </tr>\n",
              "    <tr>\n",
              "      <th>2</th>\n",
              "      <td>536365</td>\n",
              "      <td>84406B</td>\n",
              "      <td>CREAM CUPID HEARTS COAT HANGER</td>\n",
              "      <td>8</td>\n",
              "      <td>2010-12-01 08:26:00</td>\n",
              "      <td>2.75</td>\n",
              "      <td>17850.0</td>\n",
              "      <td>United Kingdom</td>\n",
              "      <td>22.00</td>\n",
              "      <td>373</td>\n",
              "    </tr>\n",
              "    <tr>\n",
              "      <th>3</th>\n",
              "      <td>536365</td>\n",
              "      <td>84029G</td>\n",
              "      <td>KNITTED UNION FLAG HOT WATER BOTTLE</td>\n",
              "      <td>6</td>\n",
              "      <td>2010-12-01 08:26:00</td>\n",
              "      <td>3.39</td>\n",
              "      <td>17850.0</td>\n",
              "      <td>United Kingdom</td>\n",
              "      <td>20.34</td>\n",
              "      <td>373</td>\n",
              "    </tr>\n",
              "    <tr>\n",
              "      <th>4</th>\n",
              "      <td>536365</td>\n",
              "      <td>84029E</td>\n",
              "      <td>RED WOOLLY HOTTIE WHITE HEART.</td>\n",
              "      <td>6</td>\n",
              "      <td>2010-12-01 08:26:00</td>\n",
              "      <td>3.39</td>\n",
              "      <td>17850.0</td>\n",
              "      <td>United Kingdom</td>\n",
              "      <td>20.34</td>\n",
              "      <td>373</td>\n",
              "    </tr>\n",
              "    <tr>\n",
              "      <th>5</th>\n",
              "      <td>536365</td>\n",
              "      <td>22752</td>\n",
              "      <td>SET 7 BABUSHKA NESTING BOXES</td>\n",
              "      <td>2</td>\n",
              "      <td>2010-12-01 08:26:00</td>\n",
              "      <td>7.65</td>\n",
              "      <td>17850.0</td>\n",
              "      <td>United Kingdom</td>\n",
              "      <td>15.30</td>\n",
              "      <td>373</td>\n",
              "    </tr>\n",
              "    <tr>\n",
              "      <th>6</th>\n",
              "      <td>536365</td>\n",
              "      <td>21730</td>\n",
              "      <td>GLASS STAR FROSTED T-LIGHT HOLDER</td>\n",
              "      <td>6</td>\n",
              "      <td>2010-12-01 08:26:00</td>\n",
              "      <td>4.25</td>\n",
              "      <td>17850.0</td>\n",
              "      <td>United Kingdom</td>\n",
              "      <td>25.50</td>\n",
              "      <td>373</td>\n",
              "    </tr>\n",
              "    <tr>\n",
              "      <th>7</th>\n",
              "      <td>536366</td>\n",
              "      <td>22633</td>\n",
              "      <td>HAND WARMER UNION JACK</td>\n",
              "      <td>6</td>\n",
              "      <td>2010-12-01 08:28:00</td>\n",
              "      <td>1.85</td>\n",
              "      <td>17850.0</td>\n",
              "      <td>United Kingdom</td>\n",
              "      <td>11.10</td>\n",
              "      <td>373</td>\n",
              "    </tr>\n",
              "    <tr>\n",
              "      <th>8</th>\n",
              "      <td>536366</td>\n",
              "      <td>22632</td>\n",
              "      <td>HAND WARMER RED POLKA DOT</td>\n",
              "      <td>6</td>\n",
              "      <td>2010-12-01 08:28:00</td>\n",
              "      <td>1.85</td>\n",
              "      <td>17850.0</td>\n",
              "      <td>United Kingdom</td>\n",
              "      <td>11.10</td>\n",
              "      <td>373</td>\n",
              "    </tr>\n",
              "    <tr>\n",
              "      <th>9</th>\n",
              "      <td>536367</td>\n",
              "      <td>84879</td>\n",
              "      <td>ASSORTED COLOUR BIRD ORNAMENT</td>\n",
              "      <td>32</td>\n",
              "      <td>2010-12-01 08:34:00</td>\n",
              "      <td>1.69</td>\n",
              "      <td>13047.0</td>\n",
              "      <td>United Kingdom</td>\n",
              "      <td>54.08</td>\n",
              "      <td>373</td>\n",
              "    </tr>\n",
              "  </tbody>\n",
              "</table>\n",
              "</div>"
            ],
            "text/plain": [
              "  InvoiceNo StockCode                          Description  Quantity  \\\n",
              "0    536365    85123A   WHITE HANGING HEART T-LIGHT HOLDER         6   \n",
              "1    536365     71053                  WHITE METAL LANTERN         6   \n",
              "2    536365    84406B       CREAM CUPID HEARTS COAT HANGER         8   \n",
              "3    536365    84029G  KNITTED UNION FLAG HOT WATER BOTTLE         6   \n",
              "4    536365    84029E       RED WOOLLY HOTTIE WHITE HEART.         6   \n",
              "5    536365     22752         SET 7 BABUSHKA NESTING BOXES         2   \n",
              "6    536365     21730    GLASS STAR FROSTED T-LIGHT HOLDER         6   \n",
              "7    536366     22633               HAND WARMER UNION JACK         6   \n",
              "8    536366     22632            HAND WARMER RED POLKA DOT         6   \n",
              "9    536367     84879        ASSORTED COLOUR BIRD ORNAMENT        32   \n",
              "\n",
              "          InvoiceDate  UnitPrice  CustomerID         Country  Sales  \\\n",
              "0 2010-12-01 08:26:00       2.55     17850.0  United Kingdom  15.30   \n",
              "1 2010-12-01 08:26:00       3.39     17850.0  United Kingdom  20.34   \n",
              "2 2010-12-01 08:26:00       2.75     17850.0  United Kingdom  22.00   \n",
              "3 2010-12-01 08:26:00       3.39     17850.0  United Kingdom  20.34   \n",
              "4 2010-12-01 08:26:00       3.39     17850.0  United Kingdom  20.34   \n",
              "5 2010-12-01 08:26:00       7.65     17850.0  United Kingdom  15.30   \n",
              "6 2010-12-01 08:26:00       4.25     17850.0  United Kingdom  25.50   \n",
              "7 2010-12-01 08:28:00       1.85     17850.0  United Kingdom  11.10   \n",
              "8 2010-12-01 08:28:00       1.85     17850.0  United Kingdom  11.10   \n",
              "9 2010-12-01 08:34:00       1.69     13047.0  United Kingdom  54.08   \n",
              "\n",
              "   Last Transaction  \n",
              "0               373  \n",
              "1               373  \n",
              "2               373  \n",
              "3               373  \n",
              "4               373  \n",
              "5               373  \n",
              "6               373  \n",
              "7               373  \n",
              "8               373  \n",
              "9               373  "
            ]
          },
          "execution_count": 24,
          "metadata": {},
          "output_type": "execute_result"
        }
      ],
      "source": [
        "data.head(10)"
      ]
    },
    {
      "cell_type": "code",
      "execution_count": 25,
      "metadata": {
        "id": "6bRKm2_Zn2K4"
      },
      "outputs": [],
      "source": [
        "lt = data.groupby(['CustomerID','Country'])['Last Transaction'].max().reset_index()"
      ]
    },
    {
      "cell_type": "code",
      "execution_count": 26,
      "metadata": {
        "colab": {
          "base_uri": "https://localhost:8080/",
          "height": 423
        },
        "id": "ejj4rGD7oaCh",
        "outputId": "9207b8a9-1a62-41d5-a8ad-73f913bd826a"
      },
      "outputs": [
        {
          "data": {
            "text/html": [
              "<div>\n",
              "<style scoped>\n",
              "    .dataframe tbody tr th:only-of-type {\n",
              "        vertical-align: middle;\n",
              "    }\n",
              "\n",
              "    .dataframe tbody tr th {\n",
              "        vertical-align: top;\n",
              "    }\n",
              "\n",
              "    .dataframe thead th {\n",
              "        text-align: right;\n",
              "    }\n",
              "</style>\n",
              "<table border=\"1\" class=\"dataframe\">\n",
              "  <thead>\n",
              "    <tr style=\"text-align: right;\">\n",
              "      <th></th>\n",
              "      <th>CustomerID</th>\n",
              "      <th>Country</th>\n",
              "      <th>Last Transaction</th>\n",
              "    </tr>\n",
              "  </thead>\n",
              "  <tbody>\n",
              "    <tr>\n",
              "      <th>0</th>\n",
              "      <td>12346.0</td>\n",
              "      <td>United Kingdom</td>\n",
              "      <td>325</td>\n",
              "    </tr>\n",
              "    <tr>\n",
              "      <th>1</th>\n",
              "      <td>12347.0</td>\n",
              "      <td>Iceland</td>\n",
              "      <td>366</td>\n",
              "    </tr>\n",
              "    <tr>\n",
              "      <th>2</th>\n",
              "      <td>12348.0</td>\n",
              "      <td>Finland</td>\n",
              "      <td>357</td>\n",
              "    </tr>\n",
              "    <tr>\n",
              "      <th>3</th>\n",
              "      <td>12349.0</td>\n",
              "      <td>Italy</td>\n",
              "      <td>18</td>\n",
              "    </tr>\n",
              "    <tr>\n",
              "      <th>4</th>\n",
              "      <td>12350.0</td>\n",
              "      <td>Norway</td>\n",
              "      <td>309</td>\n",
              "    </tr>\n",
              "    <tr>\n",
              "      <th>...</th>\n",
              "      <td>...</td>\n",
              "      <td>...</td>\n",
              "      <td>...</td>\n",
              "    </tr>\n",
              "    <tr>\n",
              "      <th>4342</th>\n",
              "      <td>18280.0</td>\n",
              "      <td>United Kingdom</td>\n",
              "      <td>277</td>\n",
              "    </tr>\n",
              "    <tr>\n",
              "      <th>4343</th>\n",
              "      <td>18281.0</td>\n",
              "      <td>United Kingdom</td>\n",
              "      <td>180</td>\n",
              "    </tr>\n",
              "    <tr>\n",
              "      <th>4344</th>\n",
              "      <td>18282.0</td>\n",
              "      <td>United Kingdom</td>\n",
              "      <td>125</td>\n",
              "    </tr>\n",
              "    <tr>\n",
              "      <th>4345</th>\n",
              "      <td>18283.0</td>\n",
              "      <td>United Kingdom</td>\n",
              "      <td>336</td>\n",
              "    </tr>\n",
              "    <tr>\n",
              "      <th>4346</th>\n",
              "      <td>18287.0</td>\n",
              "      <td>United Kingdom</td>\n",
              "      <td>201</td>\n",
              "    </tr>\n",
              "  </tbody>\n",
              "</table>\n",
              "<p>4347 rows × 3 columns</p>\n",
              "</div>"
            ],
            "text/plain": [
              "      CustomerID         Country  Last Transaction\n",
              "0        12346.0  United Kingdom               325\n",
              "1        12347.0         Iceland               366\n",
              "2        12348.0         Finland               357\n",
              "3        12349.0           Italy                18\n",
              "4        12350.0          Norway               309\n",
              "...          ...             ...               ...\n",
              "4342     18280.0  United Kingdom               277\n",
              "4343     18281.0  United Kingdom               180\n",
              "4344     18282.0  United Kingdom               125\n",
              "4345     18283.0  United Kingdom               336\n",
              "4346     18287.0  United Kingdom               201\n",
              "\n",
              "[4347 rows x 3 columns]"
            ]
          },
          "execution_count": 26,
          "metadata": {},
          "output_type": "execute_result"
        }
      ],
      "source": [
        "lt"
      ]
    },
    {
      "cell_type": "code",
      "execution_count": 27,
      "metadata": {
        "colab": {
          "base_uri": "https://localhost:8080/",
          "height": 423
        },
        "id": "D8x-rNstob9R",
        "outputId": "a90a0148-d309-4584-ca32-e09d3a158935"
      },
      "outputs": [
        {
          "data": {
            "text/html": [
              "<div>\n",
              "<style scoped>\n",
              "    .dataframe tbody tr th:only-of-type {\n",
              "        vertical-align: middle;\n",
              "    }\n",
              "\n",
              "    .dataframe tbody tr th {\n",
              "        vertical-align: top;\n",
              "    }\n",
              "\n",
              "    .dataframe thead th {\n",
              "        text-align: right;\n",
              "    }\n",
              "</style>\n",
              "<table border=\"1\" class=\"dataframe\">\n",
              "  <thead>\n",
              "    <tr style=\"text-align: right;\">\n",
              "      <th></th>\n",
              "      <th>CustomerID</th>\n",
              "      <th>Country</th>\n",
              "      <th>Last Transaction</th>\n",
              "      <th>InvoiceNo</th>\n",
              "      <th>Sales</th>\n",
              "    </tr>\n",
              "  </thead>\n",
              "  <tbody>\n",
              "    <tr>\n",
              "      <th>0</th>\n",
              "      <td>12346.0</td>\n",
              "      <td>United Kingdom</td>\n",
              "      <td>325</td>\n",
              "      <td>1</td>\n",
              "      <td>77183.60</td>\n",
              "    </tr>\n",
              "    <tr>\n",
              "      <th>1</th>\n",
              "      <td>12347.0</td>\n",
              "      <td>Iceland</td>\n",
              "      <td>366</td>\n",
              "      <td>182</td>\n",
              "      <td>4310.00</td>\n",
              "    </tr>\n",
              "    <tr>\n",
              "      <th>2</th>\n",
              "      <td>12348.0</td>\n",
              "      <td>Finland</td>\n",
              "      <td>357</td>\n",
              "      <td>31</td>\n",
              "      <td>1797.24</td>\n",
              "    </tr>\n",
              "    <tr>\n",
              "      <th>3</th>\n",
              "      <td>12349.0</td>\n",
              "      <td>Italy</td>\n",
              "      <td>18</td>\n",
              "      <td>73</td>\n",
              "      <td>1757.55</td>\n",
              "    </tr>\n",
              "    <tr>\n",
              "      <th>4</th>\n",
              "      <td>12350.0</td>\n",
              "      <td>Norway</td>\n",
              "      <td>309</td>\n",
              "      <td>17</td>\n",
              "      <td>334.40</td>\n",
              "    </tr>\n",
              "    <tr>\n",
              "      <th>...</th>\n",
              "      <td>...</td>\n",
              "      <td>...</td>\n",
              "      <td>...</td>\n",
              "      <td>...</td>\n",
              "      <td>...</td>\n",
              "    </tr>\n",
              "    <tr>\n",
              "      <th>4342</th>\n",
              "      <td>18280.0</td>\n",
              "      <td>United Kingdom</td>\n",
              "      <td>277</td>\n",
              "      <td>10</td>\n",
              "      <td>180.60</td>\n",
              "    </tr>\n",
              "    <tr>\n",
              "      <th>4343</th>\n",
              "      <td>18281.0</td>\n",
              "      <td>United Kingdom</td>\n",
              "      <td>180</td>\n",
              "      <td>7</td>\n",
              "      <td>80.82</td>\n",
              "    </tr>\n",
              "    <tr>\n",
              "      <th>4344</th>\n",
              "      <td>18282.0</td>\n",
              "      <td>United Kingdom</td>\n",
              "      <td>125</td>\n",
              "      <td>12</td>\n",
              "      <td>178.05</td>\n",
              "    </tr>\n",
              "    <tr>\n",
              "      <th>4345</th>\n",
              "      <td>18283.0</td>\n",
              "      <td>United Kingdom</td>\n",
              "      <td>336</td>\n",
              "      <td>756</td>\n",
              "      <td>2094.88</td>\n",
              "    </tr>\n",
              "    <tr>\n",
              "      <th>4346</th>\n",
              "      <td>18287.0</td>\n",
              "      <td>United Kingdom</td>\n",
              "      <td>201</td>\n",
              "      <td>70</td>\n",
              "      <td>1837.28</td>\n",
              "    </tr>\n",
              "  </tbody>\n",
              "</table>\n",
              "<p>4347 rows × 5 columns</p>\n",
              "</div>"
            ],
            "text/plain": [
              "      CustomerID         Country  Last Transaction  InvoiceNo     Sales\n",
              "0        12346.0  United Kingdom               325          1  77183.60\n",
              "1        12347.0         Iceland               366        182   4310.00\n",
              "2        12348.0         Finland               357         31   1797.24\n",
              "3        12349.0           Italy                18         73   1757.55\n",
              "4        12350.0          Norway               309         17    334.40\n",
              "...          ...             ...               ...        ...       ...\n",
              "4342     18280.0  United Kingdom               277         10    180.60\n",
              "4343     18281.0  United Kingdom               180          7     80.82\n",
              "4344     18282.0  United Kingdom               125         12    178.05\n",
              "4345     18283.0  United Kingdom               336        756   2094.88\n",
              "4346     18287.0  United Kingdom               201         70   1837.28\n",
              "\n",
              "[4347 rows x 5 columns]"
            ]
          },
          "execution_count": 27,
          "metadata": {},
          "output_type": "execute_result"
        }
      ],
      "source": [
        "merge_table = pd.merge(lt, num_trans, how='inner', on='CustomerID')\n",
        "new_df = pd.merge(merge_table, new_data, how='inner', on='CustomerID')\n",
        "new_df"
      ]
    },
    {
      "cell_type": "markdown",
      "metadata": {
        "id": "e2NdYbJpo-vP"
      },
      "source": [
        "**Removal of Outliers using boxplot**"
      ]
    },
    {
      "cell_type": "code",
      "execution_count": 28,
      "metadata": {
        "colab": {
          "base_uri": "https://localhost:8080/",
          "height": 990
        },
        "id": "K1nYx_Qro6jv",
        "outputId": "026fb950-ba6f-4883-d4af-36b91cce23c5"
      },
      "outputs": [
        {
          "data": {
            "image/png": "[encoded data removed]",
            "text/plain": [
              "<Figure size 2000x2000 with 1 Axes>"
            ]
          },
          "metadata": {},
          "output_type": "display_data"
        }
      ],
      "source": [
        "plt.figure(figsize=(20,20))\n",
        "sns.boxplot(data = new_df[['InvoiceNo', 'Last Transaction', 'Sales']])\n",
        "plt.show()"
      ]
    },
    {
      "cell_type": "code",
      "execution_count": 29,
      "metadata": {
        "colab": {
          "base_uri": "https://localhost:8080/"
        },
        "id": "kWiWzRfspU8f",
        "outputId": "7c13265a-6bdc-44f3-b3d7-8d0b1506e468"
      },
      "outputs": [
        {
          "data": {
            "text/plain": [
              "(3923, 5)"
            ]
          },
          "execution_count": 29,
          "metadata": {},
          "output_type": "execute_result"
        }
      ],
      "source": [
        "IQR = new_df['Sales'].quantile(0.75) - new_df['Sales'].quantile(0.25)\n",
        "lower_limit = new_df['Sales'].quantile(0.25) - 1.5*IQR\n",
        "upper_limit = new_df['Sales'].quantile(0.75) + 1.5*IQR\n",
        "new_df_iqr = new_df[(new_df['Sales'] < upper_limit) & (new_df['Sales']>lower_limit)]\n",
        "new_df_iqr.shape"
      ]
    },
    {
      "cell_type": "code",
      "execution_count": 30,
      "metadata": {
        "colab": {
          "base_uri": "https://localhost:8080/",
          "height": 1000
        },
        "id": "Vrt70hwxq1WX",
        "outputId": "efd3ac53-198a-44e2-c76c-ef65b419fab8"
      },
      "outputs": [
        {
          "data": {
            "image/png": "[encoded data removed]",
            "text/plain": [
              "<Figure size 2000x2000 with 1 Axes>"
            ]
          },
          "metadata": {},
          "output_type": "display_data"
        }
      ],
      "source": [
        "plt.figure(figsize=(20,20))\n",
        "sns.boxplot(data = new_df_iqr[['InvoiceNo', 'Last Transaction', 'Sales']])\n",
        "plt.show()"
      ]
    },
    {
      "cell_type": "code",
      "execution_count": 31,
      "metadata": {
        "colab": {
          "base_uri": "https://localhost:8080/",
          "height": 423
        },
        "id": "ZK8kvkq-q9CO",
        "outputId": "8c29d797-3fe5-417c-91fd-dd70467ea083"
      },
      "outputs": [
        {
          "data": {
            "text/html": [
              "<div>\n",
              "<style scoped>\n",
              "    .dataframe tbody tr th:only-of-type {\n",
              "        vertical-align: middle;\n",
              "    }\n",
              "\n",
              "    .dataframe tbody tr th {\n",
              "        vertical-align: top;\n",
              "    }\n",
              "\n",
              "    .dataframe thead th {\n",
              "        text-align: right;\n",
              "    }\n",
              "</style>\n",
              "<table border=\"1\" class=\"dataframe\">\n",
              "  <thead>\n",
              "    <tr style=\"text-align: right;\">\n",
              "      <th></th>\n",
              "      <th>CustomerID</th>\n",
              "      <th>Country</th>\n",
              "      <th>Last Transaction</th>\n",
              "      <th>InvoiceNo</th>\n",
              "      <th>Sales</th>\n",
              "    </tr>\n",
              "  </thead>\n",
              "  <tbody>\n",
              "    <tr>\n",
              "      <th>0</th>\n",
              "      <td>12348.0</td>\n",
              "      <td>Finland</td>\n",
              "      <td>357</td>\n",
              "      <td>31</td>\n",
              "      <td>1797.24</td>\n",
              "    </tr>\n",
              "    <tr>\n",
              "      <th>1</th>\n",
              "      <td>12349.0</td>\n",
              "      <td>Italy</td>\n",
              "      <td>18</td>\n",
              "      <td>73</td>\n",
              "      <td>1757.55</td>\n",
              "    </tr>\n",
              "    <tr>\n",
              "      <th>2</th>\n",
              "      <td>12350.0</td>\n",
              "      <td>Norway</td>\n",
              "      <td>309</td>\n",
              "      <td>17</td>\n",
              "      <td>334.40</td>\n",
              "    </tr>\n",
              "    <tr>\n",
              "      <th>3</th>\n",
              "      <td>12352.0</td>\n",
              "      <td>Norway</td>\n",
              "      <td>296</td>\n",
              "      <td>85</td>\n",
              "      <td>2506.04</td>\n",
              "    </tr>\n",
              "    <tr>\n",
              "      <th>4</th>\n",
              "      <td>12353.0</td>\n",
              "      <td>Bahrain</td>\n",
              "      <td>203</td>\n",
              "      <td>4</td>\n",
              "      <td>89.00</td>\n",
              "    </tr>\n",
              "    <tr>\n",
              "      <th>...</th>\n",
              "      <td>...</td>\n",
              "      <td>...</td>\n",
              "      <td>...</td>\n",
              "      <td>...</td>\n",
              "      <td>...</td>\n",
              "    </tr>\n",
              "    <tr>\n",
              "      <th>3918</th>\n",
              "      <td>18280.0</td>\n",
              "      <td>United Kingdom</td>\n",
              "      <td>277</td>\n",
              "      <td>10</td>\n",
              "      <td>180.60</td>\n",
              "    </tr>\n",
              "    <tr>\n",
              "      <th>3919</th>\n",
              "      <td>18281.0</td>\n",
              "      <td>United Kingdom</td>\n",
              "      <td>180</td>\n",
              "      <td>7</td>\n",
              "      <td>80.82</td>\n",
              "    </tr>\n",
              "    <tr>\n",
              "      <th>3920</th>\n",
              "      <td>18282.0</td>\n",
              "      <td>United Kingdom</td>\n",
              "      <td>125</td>\n",
              "      <td>12</td>\n",
              "      <td>178.05</td>\n",
              "    </tr>\n",
              "    <tr>\n",
              "      <th>3921</th>\n",
              "      <td>18283.0</td>\n",
              "      <td>United Kingdom</td>\n",
              "      <td>336</td>\n",
              "      <td>756</td>\n",
              "      <td>2094.88</td>\n",
              "    </tr>\n",
              "    <tr>\n",
              "      <th>3922</th>\n",
              "      <td>18287.0</td>\n",
              "      <td>United Kingdom</td>\n",
              "      <td>201</td>\n",
              "      <td>70</td>\n",
              "      <td>1837.28</td>\n",
              "    </tr>\n",
              "  </tbody>\n",
              "</table>\n",
              "<p>3923 rows × 5 columns</p>\n",
              "</div>"
            ],
            "text/plain": [
              "      CustomerID         Country  Last Transaction  InvoiceNo    Sales\n",
              "0        12348.0         Finland               357         31  1797.24\n",
              "1        12349.0           Italy                18         73  1757.55\n",
              "2        12350.0          Norway               309         17   334.40\n",
              "3        12352.0          Norway               296         85  2506.04\n",
              "4        12353.0         Bahrain               203          4    89.00\n",
              "...          ...             ...               ...        ...      ...\n",
              "3918     18280.0  United Kingdom               277         10   180.60\n",
              "3919     18281.0  United Kingdom               180          7    80.82\n",
              "3920     18282.0  United Kingdom               125         12   178.05\n",
              "3921     18283.0  United Kingdom               336        756  2094.88\n",
              "3922     18287.0  United Kingdom               201         70  1837.28\n",
              "\n",
              "[3923 rows x 5 columns]"
            ]
          },
          "execution_count": 31,
          "metadata": {},
          "output_type": "execute_result"
        }
      ],
      "source": [
        "new_df_iqr.reset_index(drop=True, inplace=True)\n",
        "new_df_iqr"
      ]
    },
    {
      "cell_type": "markdown",
      "metadata": {
        "id": "HGcXudWyrUxR"
      },
      "source": [
        "**Visualization of correlation matrix using heatmap**"
      ]
    },
    {
      "cell_type": "code",
      "execution_count": null,
      "metadata": {
        "colab": {
          "base_uri": "https://localhost:8080/",
          "height": 1000
        },
        "id": "Op0daU9YrPl_",
        "outputId": "4a533e1a-70c5-4c23-b97b-5d3d3a7021e4"
      },
      "outputs": [],
      "source": [
        "plt.figure(figsize=(20,20))\n",
        "sns.heatmap(new_df_iqr.corr(),cmap=\"Greens\", annot=True)\n",
        "plt.show()"
      ]
    },
    {
      "cell_type": "markdown",
      "metadata": {
        "id": "2pe94lQPrq8u"
      },
      "source": [
        "**Normalization of given dataset using MinMaxScaler**"
      ]
    },
    {
      "cell_type": "code",
      "execution_count": 35,
      "metadata": {
        "id": "pl6YxXAmsFtc"
      },
      "outputs": [],
      "source": [
        "from sklearn.preprocessing import MinMaxScaler"
      ]
    },
    {
      "cell_type": "code",
      "execution_count": 36,
      "metadata": {
        "colab": {
          "base_uri": "https://localhost:8080/",
          "height": 423
        },
        "id": "ScCU1WxLrln_",
        "outputId": "d0f38a36-47ab-49e8-d331-5d1606649709"
      },
      "outputs": [
        {
          "data": {
            "text/html": [
              "<div>\n",
              "<style scoped>\n",
              "    .dataframe tbody tr th:only-of-type {\n",
              "        vertical-align: middle;\n",
              "    }\n",
              "\n",
              "    .dataframe tbody tr th {\n",
              "        vertical-align: top;\n",
              "    }\n",
              "\n",
              "    .dataframe thead th {\n",
              "        text-align: right;\n",
              "    }\n",
              "</style>\n",
              "<table border=\"1\" class=\"dataframe\">\n",
              "  <thead>\n",
              "    <tr style=\"text-align: right;\">\n",
              "      <th></th>\n",
              "      <th>Last Transaction</th>\n",
              "      <th>InvoiceNo</th>\n",
              "      <th>Sales</th>\n",
              "      <th>Country</th>\n",
              "    </tr>\n",
              "  </thead>\n",
              "  <tbody>\n",
              "    <tr>\n",
              "      <th>0</th>\n",
              "      <td>0.957105</td>\n",
              "      <td>0.030960</td>\n",
              "      <td>0.484200</td>\n",
              "      <td>Finland</td>\n",
              "    </tr>\n",
              "    <tr>\n",
              "      <th>1</th>\n",
              "      <td>0.048257</td>\n",
              "      <td>0.074303</td>\n",
              "      <td>0.473507</td>\n",
              "      <td>Italy</td>\n",
              "    </tr>\n",
              "    <tr>\n",
              "      <th>2</th>\n",
              "      <td>0.828418</td>\n",
              "      <td>0.016512</td>\n",
              "      <td>0.090092</td>\n",
              "      <td>Norway</td>\n",
              "    </tr>\n",
              "    <tr>\n",
              "      <th>3</th>\n",
              "      <td>0.793566</td>\n",
              "      <td>0.086687</td>\n",
              "      <td>0.675160</td>\n",
              "      <td>Norway</td>\n",
              "    </tr>\n",
              "    <tr>\n",
              "      <th>4</th>\n",
              "      <td>0.544236</td>\n",
              "      <td>0.003096</td>\n",
              "      <td>0.023978</td>\n",
              "      <td>Bahrain</td>\n",
              "    </tr>\n",
              "    <tr>\n",
              "      <th>...</th>\n",
              "      <td>...</td>\n",
              "      <td>...</td>\n",
              "      <td>...</td>\n",
              "      <td>...</td>\n",
              "    </tr>\n",
              "    <tr>\n",
              "      <th>3918</th>\n",
              "      <td>0.742627</td>\n",
              "      <td>0.009288</td>\n",
              "      <td>0.048656</td>\n",
              "      <td>United Kingdom</td>\n",
              "    </tr>\n",
              "    <tr>\n",
              "      <th>3919</th>\n",
              "      <td>0.482574</td>\n",
              "      <td>0.006192</td>\n",
              "      <td>0.021774</td>\n",
              "      <td>United Kingdom</td>\n",
              "    </tr>\n",
              "    <tr>\n",
              "      <th>3920</th>\n",
              "      <td>0.335121</td>\n",
              "      <td>0.011352</td>\n",
              "      <td>0.047969</td>\n",
              "      <td>United Kingdom</td>\n",
              "    </tr>\n",
              "    <tr>\n",
              "      <th>3921</th>\n",
              "      <td>0.900804</td>\n",
              "      <td>0.779154</td>\n",
              "      <td>0.564388</td>\n",
              "      <td>United Kingdom</td>\n",
              "    </tr>\n",
              "    <tr>\n",
              "      <th>3922</th>\n",
              "      <td>0.538874</td>\n",
              "      <td>0.071207</td>\n",
              "      <td>0.494988</td>\n",
              "      <td>United Kingdom</td>\n",
              "    </tr>\n",
              "  </tbody>\n",
              "</table>\n",
              "<p>3923 rows × 4 columns</p>\n",
              "</div>"
            ],
            "text/plain": [
              "      Last Transaction  InvoiceNo     Sales         Country\n",
              "0             0.957105   0.030960  0.484200         Finland\n",
              "1             0.048257   0.074303  0.473507           Italy\n",
              "2             0.828418   0.016512  0.090092          Norway\n",
              "3             0.793566   0.086687  0.675160          Norway\n",
              "4             0.544236   0.003096  0.023978         Bahrain\n",
              "...                ...        ...       ...             ...\n",
              "3918          0.742627   0.009288  0.048656  United Kingdom\n",
              "3919          0.482574   0.006192  0.021774  United Kingdom\n",
              "3920          0.335121   0.011352  0.047969  United Kingdom\n",
              "3921          0.900804   0.779154  0.564388  United Kingdom\n",
              "3922          0.538874   0.071207  0.494988  United Kingdom\n",
              "\n",
              "[3923 rows x 4 columns]"
            ]
          },
          "execution_count": 36,
          "metadata": {},
          "output_type": "execute_result"
        }
      ],
      "source": [
        "new2_df= new_df_iqr[['Last Transaction','InvoiceNo','Sales']]\n",
        "scaler = MinMaxScaler()\n",
        "scaled_df = scaler.fit_transform(new2_df)\n",
        "scaled_df = pd.DataFrame(scaled_df)\n",
        "scaled_df.columns = ['Last Transaction','InvoiceNo','Sales']\n",
        "scaled_df['Country'] = new_df_iqr['Country']\n",
        "scaled_df"
      ]
    },
    {
      "cell_type": "markdown",
      "metadata": {
        "id": "JZA8RZXzsYJX"
      },
      "source": [
        "**K Means Clustering - Plot the graph using elbow method**"
      ]
    },
    {
      "cell_type": "code",
      "execution_count": null,
      "metadata": {},
      "outputs": [],
      "source": [
        "# !conda install -c districtdatalabs yellowbrick"
      ]
    },
    {
      "cell_type": "code",
      "execution_count": 39,
      "metadata": {
        "colab": {
          "base_uri": "https://localhost:8080/",
          "height": 908
        },
        "id": "g4k4MqvVsSBG",
        "outputId": "9b93a5ea-0ca1-445b-ecd5-18f2c74200fa"
      },
      "outputs": [
        {
          "data": {
            "image/png": "[encoded data removed]",
            "text/plain": [
              "<Figure size 800x550 with 1 Axes>"
            ]
          },
          "metadata": {},
          "output_type": "display_data"
        },
        {
          "data": {
            "text/plain": [
              "<Axes: title={'center': 'Distortion Score Elbow for KMeans Clustering'}, xlabel='k', ylabel='distortion score'>"
            ]
          },
          "execution_count": 39,
          "metadata": {},
          "output_type": "execute_result"
        }
      ],
      "source": [
        "df_k=scaled_df.drop(columns=['Country'],axis=1)\n",
        "# Elbow Method for K means\n",
        "# Import ElbowVisualizer\n",
        "from yellowbrick.cluster import KElbowVisualizer\n",
        "model = KMeans()\n",
        "# k is range of number of clusters.\n",
        "visualizer = KElbowVisualizer(model, k=(1,11), timings= False)\n",
        "visualizer.fit(df_k)        # Fit data to visualizer\n",
        "visualizer.show()"
      ]
    },
    {
      "cell_type": "code",
      "execution_count": 41,
      "metadata": {
        "colab": {
          "base_uri": "https://localhost:8080/",
          "height": 478
        },
        "id": "r9XkZMzRsm7g",
        "outputId": "9e84f8c0-1663-44ef-eee7-277281791edf"
      },
      "outputs": [
        {
          "data": {
            "text/html": [
              "<div>\n",
              "<style scoped>\n",
              "    .dataframe tbody tr th:only-of-type {\n",
              "        vertical-align: middle;\n",
              "    }\n",
              "\n",
              "    .dataframe tbody tr th {\n",
              "        vertical-align: top;\n",
              "    }\n",
              "\n",
              "    .dataframe thead th {\n",
              "        text-align: right;\n",
              "    }\n",
              "</style>\n",
              "<table border=\"1\" class=\"dataframe\">\n",
              "  <thead>\n",
              "    <tr style=\"text-align: right;\">\n",
              "      <th></th>\n",
              "      <th>Last Transaction</th>\n",
              "      <th>InvoiceNo</th>\n",
              "      <th>Sales</th>\n",
              "      <th>clusters</th>\n",
              "    </tr>\n",
              "  </thead>\n",
              "  <tbody>\n",
              "    <tr>\n",
              "      <th>0</th>\n",
              "      <td>0.957105</td>\n",
              "      <td>0.030960</td>\n",
              "      <td>0.484200</td>\n",
              "      <td>0</td>\n",
              "    </tr>\n",
              "    <tr>\n",
              "      <th>1</th>\n",
              "      <td>0.048257</td>\n",
              "      <td>0.074303</td>\n",
              "      <td>0.473507</td>\n",
              "      <td>1</td>\n",
              "    </tr>\n",
              "    <tr>\n",
              "      <th>2</th>\n",
              "      <td>0.828418</td>\n",
              "      <td>0.016512</td>\n",
              "      <td>0.090092</td>\n",
              "      <td>2</td>\n",
              "    </tr>\n",
              "    <tr>\n",
              "      <th>3</th>\n",
              "      <td>0.793566</td>\n",
              "      <td>0.086687</td>\n",
              "      <td>0.675160</td>\n",
              "      <td>0</td>\n",
              "    </tr>\n",
              "    <tr>\n",
              "      <th>4</th>\n",
              "      <td>0.544236</td>\n",
              "      <td>0.003096</td>\n",
              "      <td>0.023978</td>\n",
              "      <td>2</td>\n",
              "    </tr>\n",
              "    <tr>\n",
              "      <th>...</th>\n",
              "      <td>...</td>\n",
              "      <td>...</td>\n",
              "      <td>...</td>\n",
              "      <td>...</td>\n",
              "    </tr>\n",
              "    <tr>\n",
              "      <th>3918</th>\n",
              "      <td>0.742627</td>\n",
              "      <td>0.009288</td>\n",
              "      <td>0.048656</td>\n",
              "      <td>2</td>\n",
              "    </tr>\n",
              "    <tr>\n",
              "      <th>3919</th>\n",
              "      <td>0.482574</td>\n",
              "      <td>0.006192</td>\n",
              "      <td>0.021774</td>\n",
              "      <td>1</td>\n",
              "    </tr>\n",
              "    <tr>\n",
              "      <th>3920</th>\n",
              "      <td>0.335121</td>\n",
              "      <td>0.011352</td>\n",
              "      <td>0.047969</td>\n",
              "      <td>1</td>\n",
              "    </tr>\n",
              "    <tr>\n",
              "      <th>3921</th>\n",
              "      <td>0.900804</td>\n",
              "      <td>0.779154</td>\n",
              "      <td>0.564388</td>\n",
              "      <td>0</td>\n",
              "    </tr>\n",
              "    <tr>\n",
              "      <th>3922</th>\n",
              "      <td>0.538874</td>\n",
              "      <td>0.071207</td>\n",
              "      <td>0.494988</td>\n",
              "      <td>0</td>\n",
              "    </tr>\n",
              "  </tbody>\n",
              "</table>\n",
              "<p>3923 rows × 4 columns</p>\n",
              "</div>"
            ],
            "text/plain": [
              "      Last Transaction  InvoiceNo     Sales  clusters\n",
              "0             0.957105   0.030960  0.484200         0\n",
              "1             0.048257   0.074303  0.473507         1\n",
              "2             0.828418   0.016512  0.090092         2\n",
              "3             0.793566   0.086687  0.675160         0\n",
              "4             0.544236   0.003096  0.023978         2\n",
              "...                ...        ...       ...       ...\n",
              "3918          0.742627   0.009288  0.048656         2\n",
              "3919          0.482574   0.006192  0.021774         1\n",
              "3920          0.335121   0.011352  0.047969         1\n",
              "3921          0.900804   0.779154  0.564388         0\n",
              "3922          0.538874   0.071207  0.494988         0\n",
              "\n",
              "[3923 rows x 4 columns]"
            ]
          },
          "execution_count": 41,
          "metadata": {},
          "output_type": "execute_result"
        }
      ],
      "source": [
        "km = KMeans(n_clusters=3)\n",
        "y_predicted = km.fit_predict(df_k)\n",
        "df_k['clusters']= y_predicted\n",
        "df_k"
      ]
    },
    {
      "cell_type": "code",
      "execution_count": 42,
      "metadata": {
        "colab": {
          "base_uri": "https://localhost:8080/"
        },
        "id": "DA8EDuICszQG",
        "outputId": "4e0fbf57-1975-4e77-b764-3204fa58740d"
      },
      "outputs": [
        {
          "data": {
            "text/plain": [
              "array([[0.79768705, 0.15811971, 0.63364003],\n",
              "       [0.2209531 , 0.04001379, 0.14854249],\n",
              "       [0.7769415 , 0.04284432, 0.15758673]])"
            ]
          },
          "execution_count": 42,
          "metadata": {},
          "output_type": "execute_result"
        }
      ],
      "source": [
        "km.cluster_centers_"
      ]
    },
    {
      "cell_type": "markdown",
      "metadata": {
        "id": "j4AgN3pwtmUA"
      },
      "source": [
        "**Model Evaluation**"
      ]
    },
    {
      "cell_type": "code",
      "execution_count": 43,
      "metadata": {
        "colab": {
          "base_uri": "https://localhost:8080/"
        },
        "id": "GhJrvmvGs4Ag",
        "outputId": "431b84f2-b88b-4789-a290-75e24bcffce1"
      },
      "outputs": [
        {
          "name": "stdout",
          "output_type": "stream",
          "text": [
            "0.7825013360584594\n"
          ]
        }
      ],
      "source": [
        "from sklearn.metrics import silhouette_samples, silhouette_score\n",
        "score = silhouette_score(df_k, km.labels_, metric='euclidean')\n",
        "print(score)"
      ]
    }
  ],
  "metadata": {
    "accelerator": "GPU",
    "colab": {
      "provenance": []
    },
    "kernelspec": {
      "display_name": "Python 3",
      "name": "python3"
    },
    "language_info": {
      "codemirror_mode": {
        "name": "ipython",
        "version": 3
      },
      "file_extension": ".py",
      "mimetype": "text/x-python",
      "name": "python",
      "nbconvert_exporter": "python",
      "pygments_lexer": "ipython3",
      "version": "3.10.14"
    }
  },
  "nbformat": 4,
  "nbformat_minor": 0
}
