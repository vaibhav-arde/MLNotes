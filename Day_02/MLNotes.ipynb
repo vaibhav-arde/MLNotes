{
 "cells": [
  {
   "cell_type": "markdown",
   "metadata": {},
   "source": [
    "## Types of Machine Learning\n",
    "- 1. Supervised Machine Learning\n",
    "    - a. Training on labeled data\n",
    "    - b. Useful in classification and regression tasks\n",
    "- 2. Unsupervisied Machine Learning\n",
    "    - a. Training on unlabelled data\n",
    "    - b. Useful in clustering and anomaly detection\n",
    "- 3. Reinforcement Learning\n",
    "    - a. Training an agent to make actions that maximize a reward\n",
    "    - b. Useful in self-driving \n",
    "    \n",
    "- 4. Semisupervised Machine Learning\n",
    "    - a. Where we have data which has both labelled and unlabelled data\n",
    "    - b. We need to capture unlebelled data use unsupervised ML on it and get it clustered apply labels as per cluster and then add it back to complete data set\n",
    "    - c. Now on complete dataset use Supervised ML to solve it."
   ]
  },
  {
   "cell_type": "markdown",
   "metadata": {},
   "source": []
  },
  {
   "cell_type": "markdown",
   "metadata": {},
   "source": [
    "## Applications of Machine Learning\n",
    "- 1. Healthcare : Disease diagnosis, Drug discovery, Personalised treatment recommendations.\n",
    "- 2. Finance : Fraud detection, Credit risk assessment\n",
    "- 3. Marketing : Analyzing customer behaviour and preferences\n"
   ]
  },
  {
   "cell_type": "markdown",
   "metadata": {},
   "source": [
    "### Challenges of Machine Learning\n",
    "\n",
    "- **High Quality Data**: Machine learning models rely heavily on data quality. Poor quality data with inaccuracies, noise, or missing values can lead to unreliable or biased results. Ensuring data is clean, accurate, and relevant is crucial for model performance.\n",
    "\n",
    "- **Interpretability**: Many machine learning models, especially complex ones like deep learning, can be seen as \"black boxes.\" It can be difficult to understand how these models make decisions, which is a challenge when trying to explain the results or ensure that the model is functioning as intended.\n",
    "\n",
    "- **Privacy Concerns and Biases**: Machine learning models often require large amounts of data, which can include sensitive personal information. Ensuring that data is used ethically and securely is vital. Additionally, models can unintentionally perpetuate biases present in the training data, leading to unfair or discriminatory outcomes."
   ]
  },
  {
   "cell_type": "markdown",
   "metadata": {},
   "source": [
    "## Future of Machine Learning\n",
    "\n",
    "- The future of machine learning is bright, with continued advancements in technology and increasing demand for data-driven solutions. Some of the emerging trends in machine learning include deep learning, which involves the use of neural networks to model complex relationships in data, edge computing, which involves processing data locally on devices rather than in the cloud.\n",
    "\n",
    "- Other areas of growth include explainable AI, which aims to make machine learning models more transparent and interpretable, and federated learning, which enables multiple devices to collaborate on training machine learning models without sharing raw data. As machine learning continues to evolve, it has the potential to transform every aspect of our lives."
   ]
  },
  {
   "cell_type": "markdown",
   "metadata": {},
   "source": []
  }
 ],
 "metadata": {
  "kernelspec": {
   "display_name": "Python 3 (ipykernel)",
   "language": "python",
   "name": "python3"
  },
  "language_info": {
   "codemirror_mode": {
    "name": "ipython",
    "version": 3
   },
   "file_extension": ".py",
   "mimetype": "text/x-python",
   "name": "python",
   "nbconvert_exporter": "python",
   "pygments_lexer": "ipython3",
   "version": "3.11.9"
  }
 },
 "nbformat": 4,
 "nbformat_minor": 2
}
