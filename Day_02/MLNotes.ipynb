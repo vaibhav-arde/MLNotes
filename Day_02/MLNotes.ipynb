{
 "cells": [
  {
   "cell_type": "markdown",
   "metadata": {},
   "source": [
    "## Types of Machine Learning\n",
    "- 1. Supervised Machine Learning\n",
    "    - a. Training on labeled data\n",
    "    - b. Useful in classification and regression tasks\n",
    "- 2. Unsupervisied Machine Learning\n",
    "    - a. Training on unlabelled data\n",
    "    - b. Useful in clustering and anomaly detection\n",
    "- 3. Reinforcement Learning\n",
    "    - a. Training an agent to make actions that maximize a reward\n",
    "    - b. Useful in self-driving \n",
    "    \n",
    "- 4. Semisupervised Machine Learning\n",
    "    - a. Where we have data which has both labelled and unlabelled data\n",
    "    - b. We need to capture unlebelled data use unsupervised ML on it and get it clustered apply labels as per cluster and then add it back to complete data set\n",
    "    - c. Now on complete dataset use Supervised ML to solve it."
   ]
  },
  {
   "cell_type": "markdown",
   "metadata": {},
   "source": []
  },
  {
   "cell_type": "markdown",
   "metadata": {},
   "source": [
    "## Applications of Machine Learning\n",
    "- 1. Healthcare : Disease diagnosis, Drug discovery, Personalised treatment recommendations.\n",
    "- 2. Finance : Fraud detection, Credit risk assessment\n",
    "- 3. Marketing : Analyzing customer behaviour and preferences\n"
   ]
  },
  {
   "cell_type": "markdown",
   "metadata": {},
   "source": []
  }
 ],
 "metadata": {
  "kernelspec": {
   "display_name": "Python 3 (ipykernel)",
   "language": "python",
   "name": "python3"
  },
  "language_info": {
   "codemirror_mode": {
    "name": "ipython",
    "version": 3
   },
   "file_extension": ".py",
   "mimetype": "text/x-python",
   "name": "python",
   "nbconvert_exporter": "python",
   "pygments_lexer": "ipython3",
   "version": "3.11.9"
  }
 },
 "nbformat": 4,
 "nbformat_minor": 2
}
