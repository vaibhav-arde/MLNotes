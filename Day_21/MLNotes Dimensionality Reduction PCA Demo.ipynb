{
  "cells": [
    {
      "cell_type": "markdown",
      "metadata": {},
      "source": [
        "## Dimensionality Reduction\n",
        "\n",
        "Dimensionality reduction is a process used to reduce the number of input variables in a dataset, while retaining as much relevant information as possible. It transforms high-dimensional data into a lower-dimensional space, making it more manageable and interpretable without losing important patterns or relationships.\n",
        "\n",
        "### Why Do We Need Dimensionality Reduction?\n",
        "\n",
        "1. **Curse of Dimensionality**:\n",
        "   When dealing with high-dimensional data, certain algorithms (like k-NN, clustering, or regression models) can become less effective because distances between data points become harder to measure accurately. As the number of dimensions increases, the volume of the data space increases exponentially, making the data points sparse. This is known as the \"curse of dimensionality.\"\n",
        "\n",
        "2. **Computational Efficiency**:\n",
        "   High-dimensional datasets require more computational power for both processing and storage. By reducing the number of dimensions, we reduce the computational costs associated with training machine learning models, making algorithms faster.\n",
        "\n",
        "3. **Overfitting Prevention**:\n",
        "   High-dimensional data often contain irrelevant or noisy features that do not contribute meaningfully to the prediction task. These features can lead to overfitting, where the model becomes too specific to the training data and fails to generalize to new data. Reducing dimensions helps mitigate this risk.\n",
        "\n",
        "4. **Visualization**:\n",
        "   Visualization of high-dimensional data is difficult. By reducing dimensions to two or three, it becomes easier to visualize and understand the data, revealing underlying patterns or clusters.\n",
        "\n",
        "### Motivation Behind Dimensionality Reduction\n",
        "\n",
        "1. **Data Simplification**:\n",
        "   Often, not all features in a dataset are equally important. Many features might be redundant or highly correlated. Dimensionality reduction helps simplify data by removing such redundancies and preserving only the essential features, which improves the interpretability of models.\n",
        "\n",
        "2. **Improved Model Performance**:\n",
        "   With fewer dimensions, models may become more robust and generalizable. Simplified models can also improve accuracy, as irrelevant or noisy features are removed from consideration, focusing on the most informative aspects of the data.\n",
        "\n",
        "3. **Easier Data Storage and Transmission**:\n",
        "   Lower-dimensional data is smaller in size, which reduces storage requirements and makes data transmission faster and easier, particularly when working with large datasets or streaming data.\n",
        "\n",
        "### Common Dimensionality Reduction Techniques\n",
        "\n",
        "1. **Principal Component Analysis (PCA)**:\n",
        "   PCA transforms the data into new features called \"principal components,\" which are linear combinations of the original features. These components are chosen to maximize variance, preserving the most information in the data while reducing dimensions.\n",
        "\n",
        "2. **Linear Discriminant Analysis (LDA)**:\n",
        "   LDA is a supervised dimensionality reduction technique that maximizes the separation between different classes in the data by finding the linear discriminants.\n",
        "\n",
        "3. **t-SNE (t-Distributed Stochastic Neighbor Embedding)**:\n",
        "   t-SNE is a nonlinear dimensionality reduction technique that visualizes high-dimensional data by mapping it to a lower-dimensional space (usually 2D or 3D), while preserving the local relationships between data points.\n",
        "\n",
        "4. **Autoencoders**:\n",
        "   In deep learning, autoencoders are a type of neural network used to learn compressed representations of input data, often used for dimensionality reduction in complex, nonlinear datasets.\n",
        "\n",
        "### Conclusion\n",
        "\n",
        "Dimensionality reduction helps manage the challenges of high-dimensional data by reducing noise, improving computation efficiency, preventing overfitting, and facilitating data visualization. It is a crucial step when working with large datasets, ensuring models remain accurate and interpretable."
      ]
    },
    {
      "cell_type": "markdown",
      "metadata": {},
      "source": [
        "## Principal Component Analysis (PCA)\n",
        "\n",
        "**Principal Component Analysis (PCA)** is a dimensionality reduction technique used to transform high-dimensional data into a lower-dimensional space while preserving as much variance (information) as possible. It is commonly used for data compression, noise reduction, and as a preprocessing step for machine learning algorithms.\n",
        "\n",
        "The core idea of PCA is to identify the directions (principal components) in which the data varies the most and project the data onto these new directions. These directions are orthogonal (perpendicular) to each other and capture the maximum variance in the dataset.\n",
        "\n",
        "### How PCA Works (Step-by-Step)\n",
        "\n",
        "1. **Standardization**: \n",
        "   Since PCA is affected by the scale of the features, it's important to standardize the dataset (mean = 0, variance = 1).\n",
        "\n",
        "2. **Covariance Matrix Calculation**: \n",
        "   The covariance matrix of the data is calculated to understand how the variables are related to each other.\n",
        "\n",
        "3. **Eigenvalues and Eigenvectors**:\n",
        "   The covariance matrix is decomposed into its **eigenvectors** and **eigenvalues**. Eigenvectors represent the directions of the new feature space, and eigenvalues represent the magnitude of variance along these directions.\n",
        "\n",
        "4. **Principal Components**: \n",
        "   The eigenvectors corresponding to the largest eigenvalues are selected as the principal components. These are the new axes onto which the data is projected.\n",
        "\n",
        "5. **Projection**: \n",
        "   The data is projected onto the selected principal components to obtain a lower-dimensional representation while retaining the maximum amount of variance.\n",
        "\n",
        "### PCA Example\n",
        "\n",
        "Let's consider a simple example where we have a dataset with two features, `X1` and `X2`.\n",
        "\n",
        "```plaintext\n",
        "X1  X2\n",
        "2   4\n",
        "3   5\n",
        "4   6\n",
        "5   7\n",
        "6   8\n",
        "```\n",
        "\n",
        "#### Step 1: Standardization\n",
        "\n",
        "Standardize the data so that both features have a mean of 0 and variance of 1.\n",
        "\n",
        "```plaintext\n",
        "Standardized data:\n",
        "X1'  X2'\n",
        "-1.41  -1.41\n",
        "-0.71  -0.71\n",
        "0.00   0.00\n",
        "0.71   0.71\n",
        "1.41   1.41\n",
        "```\n",
        "\n",
        "#### Step 2: Covariance Matrix\n",
        "\n",
        "Next, we calculate the covariance matrix of the standardized data to understand how the variables are related.\n",
        "\n",
        "```plaintext\n",
        "Covariance Matrix:\n",
        "[1  1]\n",
        "[1  1]\n",
        "```\n",
        "\n",
        "#### Step 3: Eigenvectors and Eigenvalues\n",
        "\n",
        "We compute the eigenvalues and eigenvectors of the covariance matrix. These tell us the directions and the amount of variance in those directions.\n",
        "\n",
        "```plaintext\n",
        "Eigenvalues: 2, 0\n",
        "Eigenvectors: [0.71, 0.71], [-0.71, 0.71]\n",
        "```\n",
        "\n",
        "Here, the first eigenvector `[0.71, 0.71]` corresponds to the larger eigenvalue of `2`, meaning this is the principal component that captures the most variance in the data.\n",
        "\n",
        "#### Step 4: Projection\n",
        "\n",
        "Finally, we project the data onto the new axis (the principal component).\n",
        "\n",
        "```plaintext\n",
        "Projected Data:\n",
        "PC1  \n",
        "-1.99\n",
        "-0.99\n",
        "0.00\n",
        "0.99\n",
        "1.99\n",
        "```\n",
        "\n",
        "The data has now been reduced to a single dimension (`PC1`), retaining most of the variance.\n",
        "\n",
        "### Eigenvalues and Eigenvectors in PCA\n",
        "\n",
        "- **Eigenvalues**: Eigenvalues tell us how much variance there is along each principal component. A higher eigenvalue indicates that the principal component captures more variance in the data.\n",
        "- **Eigenvectors**: Eigenvectors represent the directions (or axes) of the principal components. They are orthogonal to each other and point in the direction of maximum variance.\n",
        "\n",
        "In PCA, the eigenvector with the largest eigenvalue is the first principal component, and it explains the most variance in the data. The eigenvector with the second largest eigenvalue is the second principal component, and so on.\n",
        "\n",
        "### Interpretation of PCA\n",
        "\n",
        "- **Dimensionality Reduction**: PCA allows us to reduce the number of dimensions in the dataset by selecting only the top `k` principal components that capture most of the variance. For example, in a 3D dataset, you might reduce it to 2D by selecting the two components with the highest eigenvalues.\n",
        "  \n",
        "- **Variance Explained**: The proportion of the total variance explained by each principal component can be computed as the ratio of the corresponding eigenvalue to the sum of all eigenvalues. This is often visualized using a **scree plot**, which shows the explained variance for each component.\n",
        "\n",
        "### Applications of PCA\n",
        "\n",
        "1. **Data Compression**: PCA is used to reduce the size of datasets while preserving important patterns and structures.\n",
        "2. **Noise Reduction**: By keeping only the principal components that capture significant variance, PCA helps filter out noise in the data.\n",
        "3. **Visualization**: PCA is often used for visualizing high-dimensional data in two or three dimensions.\n",
        "\n",
        "### Conclusion\n",
        "\n",
        "PCA is a powerful tool for reducing the dimensionality of large datasets while retaining essential information. It helps alleviate the \"curse of dimensionality\" and makes data easier to visualize and work with in machine learning models. The eigenvectors and eigenvalues computed during PCA provide the principal components and their importance in explaining the variance in the data."
      ]
    },
    {
      "cell_type": "code",
      "execution_count": 1,
      "metadata": {
        "id": "X-quiQ2F4SWU"
      },
      "outputs": [],
      "source": [
        "import numpy as np\n",
        "import pandas as pd"
      ]
    },
    {
      "cell_type": "code",
      "execution_count": 2,
      "metadata": {
        "id": "cskhwNSP4iW7"
      },
      "outputs": [],
      "source": [
        "data = np.array([[3, 7],\n",
        "                 [-4, -6],\n",
        "                 [1, -1],\n",
        "                 [7, 8],\n",
        "                 [-4, -1],\n",
        "                 [-3, -7]])"
      ]
    },
    {
      "cell_type": "code",
      "execution_count": 3,
      "metadata": {
        "id": "WyfiExc54s5p"
      },
      "outputs": [],
      "source": [
        "dataframe = pd.DataFrame(data, columns=['x1', 'x2'])"
      ]
    },
    {
      "cell_type": "markdown",
      "metadata": {
        "id": "3af1UvX16ws-"
      },
      "source": [
        "Standard Normal Form: If it contains mean as 0 and standard deviation as 1"
      ]
    },
    {
      "cell_type": "code",
      "execution_count": 4,
      "metadata": {
        "colab": {
          "base_uri": "https://localhost:8080/",
          "height": 237
        },
        "id": "W2AOtoOX440Z",
        "outputId": "d4c1c91b-6074-49f0-91df-a7ee76671ff7"
      },
      "outputs": [
        {
          "data": {
            "text/html": [
              "<div>\n",
              "<style scoped>\n",
              "    .dataframe tbody tr th:only-of-type {\n",
              "        vertical-align: middle;\n",
              "    }\n",
              "\n",
              "    .dataframe tbody tr th {\n",
              "        vertical-align: top;\n",
              "    }\n",
              "\n",
              "    .dataframe thead th {\n",
              "        text-align: right;\n",
              "    }\n",
              "</style>\n",
              "<table border=\"1\" class=\"dataframe\">\n",
              "  <thead>\n",
              "    <tr style=\"text-align: right;\">\n",
              "      <th></th>\n",
              "      <th>x1</th>\n",
              "      <th>x2</th>\n",
              "    </tr>\n",
              "  </thead>\n",
              "  <tbody>\n",
              "    <tr>\n",
              "      <th>0</th>\n",
              "      <td>3</td>\n",
              "      <td>7</td>\n",
              "    </tr>\n",
              "    <tr>\n",
              "      <th>1</th>\n",
              "      <td>-4</td>\n",
              "      <td>-6</td>\n",
              "    </tr>\n",
              "    <tr>\n",
              "      <th>2</th>\n",
              "      <td>1</td>\n",
              "      <td>-1</td>\n",
              "    </tr>\n",
              "    <tr>\n",
              "      <th>3</th>\n",
              "      <td>7</td>\n",
              "      <td>8</td>\n",
              "    </tr>\n",
              "    <tr>\n",
              "      <th>4</th>\n",
              "      <td>-4</td>\n",
              "      <td>-1</td>\n",
              "    </tr>\n",
              "    <tr>\n",
              "      <th>5</th>\n",
              "      <td>-3</td>\n",
              "      <td>-7</td>\n",
              "    </tr>\n",
              "  </tbody>\n",
              "</table>\n",
              "</div>"
            ],
            "text/plain": [
              "   x1  x2\n",
              "0   3   7\n",
              "1  -4  -6\n",
              "2   1  -1\n",
              "3   7   8\n",
              "4  -4  -1\n",
              "5  -3  -7"
            ]
          },
          "execution_count": 4,
          "metadata": {},
          "output_type": "execute_result"
        }
      ],
      "source": [
        "dataframe"
      ]
    },
    {
      "cell_type": "code",
      "execution_count": 5,
      "metadata": {
        "colab": {
          "base_uri": "https://localhost:8080/",
          "height": 300
        },
        "id": "hYe13wT07L3c",
        "outputId": "d567198a-dd4e-45ec-9576-9435e4487267"
      },
      "outputs": [
        {
          "data": {
            "text/html": [
              "<div>\n",
              "<style scoped>\n",
              "    .dataframe tbody tr th:only-of-type {\n",
              "        vertical-align: middle;\n",
              "    }\n",
              "\n",
              "    .dataframe tbody tr th {\n",
              "        vertical-align: top;\n",
              "    }\n",
              "\n",
              "    .dataframe thead th {\n",
              "        text-align: right;\n",
              "    }\n",
              "</style>\n",
              "<table border=\"1\" class=\"dataframe\">\n",
              "  <thead>\n",
              "    <tr style=\"text-align: right;\">\n",
              "      <th></th>\n",
              "      <th>x1</th>\n",
              "      <th>x2</th>\n",
              "    </tr>\n",
              "  </thead>\n",
              "  <tbody>\n",
              "    <tr>\n",
              "      <th>count</th>\n",
              "      <td>6.000000</td>\n",
              "      <td>6.000000</td>\n",
              "    </tr>\n",
              "    <tr>\n",
              "      <th>mean</th>\n",
              "      <td>0.000000</td>\n",
              "      <td>0.000000</td>\n",
              "    </tr>\n",
              "    <tr>\n",
              "      <th>std</th>\n",
              "      <td>4.472136</td>\n",
              "      <td>6.324555</td>\n",
              "    </tr>\n",
              "    <tr>\n",
              "      <th>min</th>\n",
              "      <td>-4.000000</td>\n",
              "      <td>-7.000000</td>\n",
              "    </tr>\n",
              "    <tr>\n",
              "      <th>25%</th>\n",
              "      <td>-3.750000</td>\n",
              "      <td>-4.750000</td>\n",
              "    </tr>\n",
              "    <tr>\n",
              "      <th>50%</th>\n",
              "      <td>-1.000000</td>\n",
              "      <td>-1.000000</td>\n",
              "    </tr>\n",
              "    <tr>\n",
              "      <th>75%</th>\n",
              "      <td>2.500000</td>\n",
              "      <td>5.000000</td>\n",
              "    </tr>\n",
              "    <tr>\n",
              "      <th>max</th>\n",
              "      <td>7.000000</td>\n",
              "      <td>8.000000</td>\n",
              "    </tr>\n",
              "  </tbody>\n",
              "</table>\n",
              "</div>"
            ],
            "text/plain": [
              "             x1        x2\n",
              "count  6.000000  6.000000\n",
              "mean   0.000000  0.000000\n",
              "std    4.472136  6.324555\n",
              "min   -4.000000 -7.000000\n",
              "25%   -3.750000 -4.750000\n",
              "50%   -1.000000 -1.000000\n",
              "75%    2.500000  5.000000\n",
              "max    7.000000  8.000000"
            ]
          },
          "execution_count": 5,
          "metadata": {},
          "output_type": "execute_result"
        }
      ],
      "source": [
        "dataframe.describe()"
      ]
    },
    {
      "cell_type": "code",
      "execution_count": 6,
      "metadata": {
        "id": "y4wcZ1hJ7XEi"
      },
      "outputs": [],
      "source": [
        "from sklearn.preprocessing import StandardScaler\n",
        "scaler = StandardScaler()\n",
        "dataScaled = scaler.fit_transform(dataframe)"
      ]
    },
    {
      "cell_type": "code",
      "execution_count": 7,
      "metadata": {
        "colab": {
          "base_uri": "https://localhost:8080/"
        },
        "id": "CY0GMQta7q7s",
        "outputId": "d2a0afad-9f33-4516-d288-66a8be71264f"
      },
      "outputs": [
        {
          "data": {
            "text/plain": [
              "numpy.ndarray"
            ]
          },
          "execution_count": 7,
          "metadata": {},
          "output_type": "execute_result"
        }
      ],
      "source": [
        "type(dataScaled)"
      ]
    },
    {
      "cell_type": "code",
      "execution_count": 8,
      "metadata": {
        "id": "g6vIjTmi7pPW"
      },
      "outputs": [],
      "source": [
        "dataframe = pd.DataFrame(dataScaled, columns=['x1', 'x2'])"
      ]
    },
    {
      "cell_type": "code",
      "execution_count": 9,
      "metadata": {
        "colab": {
          "base_uri": "https://localhost:8080/",
          "height": 300
        },
        "id": "Xj903SJS7lgO",
        "outputId": "010da071-0aba-4d6a-fdfb-6537bc443631"
      },
      "outputs": [
        {
          "data": {
            "text/html": [
              "<div>\n",
              "<style scoped>\n",
              "    .dataframe tbody tr th:only-of-type {\n",
              "        vertical-align: middle;\n",
              "    }\n",
              "\n",
              "    .dataframe tbody tr th {\n",
              "        vertical-align: top;\n",
              "    }\n",
              "\n",
              "    .dataframe thead th {\n",
              "        text-align: right;\n",
              "    }\n",
              "</style>\n",
              "<table border=\"1\" class=\"dataframe\">\n",
              "  <thead>\n",
              "    <tr style=\"text-align: right;\">\n",
              "      <th></th>\n",
              "      <th>x1</th>\n",
              "      <th>x2</th>\n",
              "    </tr>\n",
              "  </thead>\n",
              "  <tbody>\n",
              "    <tr>\n",
              "      <th>count</th>\n",
              "      <td>6.000000e+00</td>\n",
              "      <td>6.000000</td>\n",
              "    </tr>\n",
              "    <tr>\n",
              "      <th>mean</th>\n",
              "      <td>1.850372e-17</td>\n",
              "      <td>0.000000</td>\n",
              "    </tr>\n",
              "    <tr>\n",
              "      <th>std</th>\n",
              "      <td>1.095445e+00</td>\n",
              "      <td>1.095445</td>\n",
              "    </tr>\n",
              "    <tr>\n",
              "      <th>min</th>\n",
              "      <td>-9.797959e-01</td>\n",
              "      <td>-1.212436</td>\n",
              "    </tr>\n",
              "    <tr>\n",
              "      <th>25%</th>\n",
              "      <td>-9.185587e-01</td>\n",
              "      <td>-0.822724</td>\n",
              "    </tr>\n",
              "    <tr>\n",
              "      <th>50%</th>\n",
              "      <td>-2.449490e-01</td>\n",
              "      <td>-0.173205</td>\n",
              "    </tr>\n",
              "    <tr>\n",
              "      <th>75%</th>\n",
              "      <td>6.123724e-01</td>\n",
              "      <td>0.866025</td>\n",
              "    </tr>\n",
              "    <tr>\n",
              "      <th>max</th>\n",
              "      <td>1.714643e+00</td>\n",
              "      <td>1.385641</td>\n",
              "    </tr>\n",
              "  </tbody>\n",
              "</table>\n",
              "</div>"
            ],
            "text/plain": [
              "                 x1        x2\n",
              "count  6.000000e+00  6.000000\n",
              "mean   1.850372e-17  0.000000\n",
              "std    1.095445e+00  1.095445\n",
              "min   -9.797959e-01 -1.212436\n",
              "25%   -9.185587e-01 -0.822724\n",
              "50%   -2.449490e-01 -0.173205\n",
              "75%    6.123724e-01  0.866025\n",
              "max    1.714643e+00  1.385641"
            ]
          },
          "execution_count": 9,
          "metadata": {},
          "output_type": "execute_result"
        }
      ],
      "source": [
        "dataframe.describe()"
      ]
    },
    {
      "cell_type": "markdown",
      "metadata": {
        "id": "mPVAE2-X48HK"
      },
      "source": [
        "1. To check whether the data is in standard normal form or not. As our data is in standard normal form, we are skipping that step of coverting our data to standard normal form."
      ]
    },
    {
      "cell_type": "markdown",
      "metadata": {
        "id": "iEDx8KCE5JQm"
      },
      "source": [
        "2. Covariance Matrix between the two features that we have (x1, x2)"
      ]
    },
    {
      "cell_type": "code",
      "execution_count": 10,
      "metadata": {
        "colab": {
          "base_uri": "https://localhost:8080/"
        },
        "id": "dTktrkCj45tx",
        "outputId": "65aed166-f427-4208-ed78-ea435f8e01dd"
      },
      "outputs": [
        {
          "data": {
            "text/plain": [
              "array([[1.2       , 1.06066017],\n",
              "       [1.06066017, 1.2       ]])"
            ]
          },
          "execution_count": 10,
          "metadata": {},
          "output_type": "execute_result"
        }
      ],
      "source": [
        "## Approach 1\n",
        "c1 = dataframe.x1\n",
        "c2 = dataframe.x2\n",
        "np.cov(c1, c2)"
      ]
    },
    {
      "cell_type": "code",
      "execution_count": 11,
      "metadata": {
        "colab": {
          "base_uri": "https://localhost:8080/"
        },
        "id": "fiAtCNg19NxW",
        "outputId": "43fa7f0a-9f65-4d2b-b678-0d907128de4c"
      },
      "outputs": [
        {
          "data": {
            "text/plain": [
              "(6, 2)"
            ]
          },
          "execution_count": 11,
          "metadata": {},
          "output_type": "execute_result"
        }
      ],
      "source": [
        "dataframe.shape"
      ]
    },
    {
      "cell_type": "code",
      "execution_count": 12,
      "metadata": {
        "colab": {
          "base_uri": "https://localhost:8080/",
          "height": 125
        },
        "id": "2NP5CU2h6kzr",
        "outputId": "77b4ea1a-c83b-4ce7-91b7-b9368c618623"
      },
      "outputs": [
        {
          "data": {
            "text/html": [
              "<div>\n",
              "<style scoped>\n",
              "    .dataframe tbody tr th:only-of-type {\n",
              "        vertical-align: middle;\n",
              "    }\n",
              "\n",
              "    .dataframe tbody tr th {\n",
              "        vertical-align: top;\n",
              "    }\n",
              "\n",
              "    .dataframe thead th {\n",
              "        text-align: right;\n",
              "    }\n",
              "</style>\n",
              "<table border=\"1\" class=\"dataframe\">\n",
              "  <thead>\n",
              "    <tr style=\"text-align: right;\">\n",
              "      <th></th>\n",
              "      <th>x1</th>\n",
              "      <th>x2</th>\n",
              "    </tr>\n",
              "  </thead>\n",
              "  <tbody>\n",
              "    <tr>\n",
              "      <th>x1</th>\n",
              "      <td>1.20000</td>\n",
              "      <td>1.06066</td>\n",
              "    </tr>\n",
              "    <tr>\n",
              "      <th>x2</th>\n",
              "      <td>1.06066</td>\n",
              "      <td>1.20000</td>\n",
              "    </tr>\n",
              "  </tbody>\n",
              "</table>\n",
              "</div>"
            ],
            "text/plain": [
              "         x1       x2\n",
              "x1  1.20000  1.06066\n",
              "x2  1.06066  1.20000"
            ]
          },
          "execution_count": 12,
          "metadata": {},
          "output_type": "execute_result"
        }
      ],
      "source": [
        "## Approach 2\n",
        "covarianceMatrix = dataframe.T @ dataframe / 5\n",
        "covarianceMatrix"
      ]
    },
    {
      "cell_type": "code",
      "execution_count": 13,
      "metadata": {
        "colab": {
          "base_uri": "https://localhost:8080/"
        },
        "id": "wmvO9SW67KzZ",
        "outputId": "64cb8610-2c67-439f-b54d-e73eb0f150bf"
      },
      "outputs": [
        {
          "data": {
            "text/plain": [
              "1.0606601717798212"
            ]
          },
          "execution_count": 13,
          "metadata": {},
          "output_type": "execute_result"
        }
      ],
      "source": [
        "## Approach 3\n",
        "np.sum(c1 * c2)/5"
      ]
    },
    {
      "cell_type": "markdown",
      "metadata": {
        "id": "8wwCenBJ8QlE"
      },
      "source": [
        "3. Evaluate the eigen values and eigen vectors of the above coorelation matrix"
      ]
    },
    {
      "cell_type": "code",
      "execution_count": 14,
      "metadata": {
        "id": "me_Zxznw7puW"
      },
      "outputs": [],
      "source": [
        "eigenValues, eigenVectors = np.linalg.eig(covarianceMatrix)"
      ]
    },
    {
      "cell_type": "code",
      "execution_count": 15,
      "metadata": {
        "colab": {
          "base_uri": "https://localhost:8080/"
        },
        "id": "BF1PMHCb8cnX",
        "outputId": "f9220c46-0cb3-4293-f15b-a3bf8fd208e3"
      },
      "outputs": [
        {
          "data": {
            "text/plain": [
              "array([2.26066017, 0.13933983])"
            ]
          },
          "execution_count": 15,
          "metadata": {},
          "output_type": "execute_result"
        }
      ],
      "source": [
        "## eigenValues = # features\n",
        "## eigenValue represents the strength of the information given by the eigenVector\n",
        "eigenValues"
      ]
    },
    {
      "cell_type": "code",
      "execution_count": 16,
      "metadata": {
        "colab": {
          "base_uri": "https://localhost:8080/"
        },
        "id": "LfQM1cG68is1",
        "outputId": "b235481f-dd57-410f-8d8f-17f0d9c56b37"
      },
      "outputs": [
        {
          "data": {
            "text/plain": [
              "array([[ 0.70710678, -0.70710678],\n",
              "       [ 0.70710678,  0.70710678]])"
            ]
          },
          "execution_count": 16,
          "metadata": {},
          "output_type": "execute_result"
        }
      ],
      "source": [
        "eigenVectors"
      ]
    },
    {
      "cell_type": "code",
      "execution_count": 17,
      "metadata": {
        "colab": {
          "base_uri": "https://localhost:8080/"
        },
        "id": "hZ-yFo8T9qv8",
        "outputId": "b04cd73b-f1df-4ccc-ff05-c0093b21ba5c"
      },
      "outputs": [
        {
          "data": {
            "text/plain": [
              "array([0.70710678, 0.70710678])"
            ]
          },
          "execution_count": 17,
          "metadata": {},
          "output_type": "execute_result"
        }
      ],
      "source": [
        "eigenVectors[:, 0]"
      ]
    },
    {
      "cell_type": "code",
      "execution_count": 18,
      "metadata": {
        "colab": {
          "base_uri": "https://localhost:8080/",
          "height": 237
        },
        "id": "YjjGdMZH-Bii",
        "outputId": "c944e832-56ce-4492-9da5-55f58df12a12"
      },
      "outputs": [
        {
          "data": {
            "text/html": [
              "<div>\n",
              "<style scoped>\n",
              "    .dataframe tbody tr th:only-of-type {\n",
              "        vertical-align: middle;\n",
              "    }\n",
              "\n",
              "    .dataframe tbody tr th {\n",
              "        vertical-align: top;\n",
              "    }\n",
              "\n",
              "    .dataframe thead th {\n",
              "        text-align: right;\n",
              "    }\n",
              "</style>\n",
              "<table border=\"1\" class=\"dataframe\">\n",
              "  <thead>\n",
              "    <tr style=\"text-align: right;\">\n",
              "      <th></th>\n",
              "      <th>x1</th>\n",
              "      <th>x2</th>\n",
              "    </tr>\n",
              "  </thead>\n",
              "  <tbody>\n",
              "    <tr>\n",
              "      <th>0</th>\n",
              "      <td>0.734847</td>\n",
              "      <td>1.212436</td>\n",
              "    </tr>\n",
              "    <tr>\n",
              "      <th>1</th>\n",
              "      <td>-0.979796</td>\n",
              "      <td>-1.039230</td>\n",
              "    </tr>\n",
              "    <tr>\n",
              "      <th>2</th>\n",
              "      <td>0.244949</td>\n",
              "      <td>-0.173205</td>\n",
              "    </tr>\n",
              "    <tr>\n",
              "      <th>3</th>\n",
              "      <td>1.714643</td>\n",
              "      <td>1.385641</td>\n",
              "    </tr>\n",
              "    <tr>\n",
              "      <th>4</th>\n",
              "      <td>-0.979796</td>\n",
              "      <td>-0.173205</td>\n",
              "    </tr>\n",
              "    <tr>\n",
              "      <th>5</th>\n",
              "      <td>-0.734847</td>\n",
              "      <td>-1.212436</td>\n",
              "    </tr>\n",
              "  </tbody>\n",
              "</table>\n",
              "</div>"
            ],
            "text/plain": [
              "         x1        x2\n",
              "0  0.734847  1.212436\n",
              "1 -0.979796 -1.039230\n",
              "2  0.244949 -0.173205\n",
              "3  1.714643  1.385641\n",
              "4 -0.979796 -0.173205\n",
              "5 -0.734847 -1.212436"
            ]
          },
          "execution_count": 18,
          "metadata": {},
          "output_type": "execute_result"
        }
      ],
      "source": [
        "dataframe"
      ]
    },
    {
      "cell_type": "code",
      "execution_count": 19,
      "metadata": {
        "id": "B9Yxg4o-8j-d"
      },
      "outputs": [],
      "source": [
        "## PC1 - Contains the maximum information of the original two features that you have\n",
        "PC1 = dataframe @ eigenVectors[:, 0]"
      ]
    },
    {
      "cell_type": "code",
      "execution_count": 20,
      "metadata": {
        "colab": {
          "base_uri": "https://localhost:8080/"
        },
        "id": "DNsgPRlb9T16",
        "outputId": "b21c211d-9847-4f28-a980-f171e69e8a43"
      },
      "outputs": [
        {
          "data": {
            "text/plain": [
              "0    1.376937\n",
              "1   -1.427667\n",
              "2    0.050731\n",
              "3    2.192231\n",
              "4   -0.815295\n",
              "5   -1.376937\n",
              "dtype: float64"
            ]
          },
          "execution_count": 20,
          "metadata": {},
          "output_type": "execute_result"
        }
      ],
      "source": [
        "PC1"
      ]
    },
    {
      "cell_type": "code",
      "execution_count": 21,
      "metadata": {
        "colab": {
          "base_uri": "https://localhost:8080/"
        },
        "id": "4AHkl30w9VBF",
        "outputId": "15c35eae-78af-4628-ac04-ec5a7889bc56"
      },
      "outputs": [
        {
          "data": {
            "text/plain": [
              "0    0.337706\n",
              "1   -0.042027\n",
              "2   -0.295680\n",
              "3   -0.232640\n",
              "4    0.570346\n",
              "5   -0.337706\n",
              "dtype: float64"
            ]
          },
          "execution_count": 21,
          "metadata": {},
          "output_type": "execute_result"
        }
      ],
      "source": [
        "## PC2\n",
        "PC2 = dataframe @ eigenVectors[:, 1]\n",
        "PC2"
      ]
    },
    {
      "cell_type": "code",
      "execution_count": 22,
      "metadata": {
        "colab": {
          "base_uri": "https://localhost:8080/",
          "height": 237
        },
        "id": "tfnKDeun94fc",
        "outputId": "bb8a16f8-ca01-4429-97c4-6af97ce7b283"
      },
      "outputs": [
        {
          "data": {
            "text/html": [
              "<div>\n",
              "<style scoped>\n",
              "    .dataframe tbody tr th:only-of-type {\n",
              "        vertical-align: middle;\n",
              "    }\n",
              "\n",
              "    .dataframe tbody tr th {\n",
              "        vertical-align: top;\n",
              "    }\n",
              "\n",
              "    .dataframe thead th {\n",
              "        text-align: right;\n",
              "    }\n",
              "</style>\n",
              "<table border=\"1\" class=\"dataframe\">\n",
              "  <thead>\n",
              "    <tr style=\"text-align: right;\">\n",
              "      <th></th>\n",
              "      <th>x1</th>\n",
              "      <th>x2</th>\n",
              "    </tr>\n",
              "  </thead>\n",
              "  <tbody>\n",
              "    <tr>\n",
              "      <th>0</th>\n",
              "      <td>0.734847</td>\n",
              "      <td>1.212436</td>\n",
              "    </tr>\n",
              "    <tr>\n",
              "      <th>1</th>\n",
              "      <td>-0.979796</td>\n",
              "      <td>-1.039230</td>\n",
              "    </tr>\n",
              "    <tr>\n",
              "      <th>2</th>\n",
              "      <td>0.244949</td>\n",
              "      <td>-0.173205</td>\n",
              "    </tr>\n",
              "    <tr>\n",
              "      <th>3</th>\n",
              "      <td>1.714643</td>\n",
              "      <td>1.385641</td>\n",
              "    </tr>\n",
              "    <tr>\n",
              "      <th>4</th>\n",
              "      <td>-0.979796</td>\n",
              "      <td>-0.173205</td>\n",
              "    </tr>\n",
              "    <tr>\n",
              "      <th>5</th>\n",
              "      <td>-0.734847</td>\n",
              "      <td>-1.212436</td>\n",
              "    </tr>\n",
              "  </tbody>\n",
              "</table>\n",
              "</div>"
            ],
            "text/plain": [
              "         x1        x2\n",
              "0  0.734847  1.212436\n",
              "1 -0.979796 -1.039230\n",
              "2  0.244949 -0.173205\n",
              "3  1.714643  1.385641\n",
              "4 -0.979796 -0.173205\n",
              "5 -0.734847 -1.212436"
            ]
          },
          "execution_count": 22,
          "metadata": {},
          "output_type": "execute_result"
        }
      ],
      "source": [
        "dataframe"
      ]
    },
    {
      "cell_type": "code",
      "execution_count": null,
      "metadata": {
        "id": "cp6xn7-1-hgk"
      },
      "outputs": [],
      "source": []
    }
  ],
  "metadata": {
    "colab": {
      "provenance": []
    },
    "kernelspec": {
      "display_name": "Python 3",
      "name": "python3"
    },
    "language_info": {
      "codemirror_mode": {
        "name": "ipython",
        "version": 3
      },
      "file_extension": ".py",
      "mimetype": "text/x-python",
      "name": "python",
      "nbconvert_exporter": "python",
      "pygments_lexer": "ipython3",
      "version": "3.10.13"
    }
  },
  "nbformat": 4,
  "nbformat_minor": 0
}
