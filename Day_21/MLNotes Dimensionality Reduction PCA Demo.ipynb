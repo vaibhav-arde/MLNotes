{
  "cells": [
    {
      "cell_type": "markdown",
      "metadata": {},
      "source": [
        "## Dimensionality Reduction\n",
        "\n",
        "Dimensionality reduction is a process used to reduce the number of input variables in a dataset, while retaining as much relevant information as possible. It transforms high-dimensional data into a lower-dimensional space, making it more manageable and interpretable without losing important patterns or relationships.\n",
        "\n",
        "### Why Do We Need Dimensionality Reduction?\n",
        "\n",
        "1. **Curse of Dimensionality**:\n",
        "   When dealing with high-dimensional data, certain algorithms (like k-NN, clustering, or regression models) can become less effective because distances between data points become harder to measure accurately. As the number of dimensions increases, the volume of the data space increases exponentially, making the data points sparse. This is known as the \"curse of dimensionality.\"\n",
        "\n",
        "2. **Computational Efficiency**:\n",
        "   High-dimensional datasets require more computational power for both processing and storage. By reducing the number of dimensions, we reduce the computational costs associated with training machine learning models, making algorithms faster.\n",
        "\n",
        "3. **Overfitting Prevention**:\n",
        "   High-dimensional data often contain irrelevant or noisy features that do not contribute meaningfully to the prediction task. These features can lead to overfitting, where the model becomes too specific to the training data and fails to generalize to new data. Reducing dimensions helps mitigate this risk.\n",
        "\n",
        "4. **Visualization**:\n",
        "   Visualization of high-dimensional data is difficult. By reducing dimensions to two or three, it becomes easier to visualize and understand the data, revealing underlying patterns or clusters.\n",
        "\n",
        "### Motivation Behind Dimensionality Reduction\n",
        "\n",
        "1. **Data Simplification**:\n",
        "   Often, not all features in a dataset are equally important. Many features might be redundant or highly correlated. Dimensionality reduction helps simplify data by removing such redundancies and preserving only the essential features, which improves the interpretability of models.\n",
        "\n",
        "2. **Improved Model Performance**:\n",
        "   With fewer dimensions, models may become more robust and generalizable. Simplified models can also improve accuracy, as irrelevant or noisy features are removed from consideration, focusing on the most informative aspects of the data.\n",
        "\n",
        "3. **Easier Data Storage and Transmission**:\n",
        "   Lower-dimensional data is smaller in size, which reduces storage requirements and makes data transmission faster and easier, particularly when working with large datasets or streaming data.\n",
        "\n",
        "### Common Dimensionality Reduction Techniques\n",
        "\n",
        "1. **Principal Component Analysis (PCA)**:\n",
        "   PCA transforms the data into new features called \"principal components,\" which are linear combinations of the original features. These components are chosen to maximize variance, preserving the most information in the data while reducing dimensions.\n",
        "\n",
        "2. **Linear Discriminant Analysis (LDA)**:\n",
        "   LDA is a supervised dimensionality reduction technique that maximizes the separation between different classes in the data by finding the linear discriminants.\n",
        "\n",
        "3. **t-SNE (t-Distributed Stochastic Neighbor Embedding)**:\n",
        "   t-SNE is a nonlinear dimensionality reduction technique that visualizes high-dimensional data by mapping it to a lower-dimensional space (usually 2D or 3D), while preserving the local relationships between data points.\n",
        "\n",
        "4. **Autoencoders**:\n",
        "   In deep learning, autoencoders are a type of neural network used to learn compressed representations of input data, often used for dimensionality reduction in complex, nonlinear datasets.\n",
        "\n",
        "### Conclusion\n",
        "\n",
        "Dimensionality reduction helps manage the challenges of high-dimensional data by reducing noise, improving computation efficiency, preventing overfitting, and facilitating data visualization. It is a crucial step when working with large datasets, ensuring models remain accurate and interpretable."
      ]
    },
    {
      "cell_type": "markdown",
      "metadata": {},
      "source": [
        "## Principal Component Analysis (PCA)\n",
        "\n",
        "**Principal Component Analysis (PCA)** is a dimensionality reduction technique used to transform high-dimensional data into a lower-dimensional space while preserving as much variance (information) as possible. It is commonly used for data compression, noise reduction, and as a preprocessing step for machine learning algorithms.\n",
        "\n",
        "The core idea of PCA is to identify the directions (principal components) in which the data varies the most and project the data onto these new directions. These directions are orthogonal (perpendicular) to each other and capture the maximum variance in the dataset.\n",
        "\n",
        "### How PCA Works (Step-by-Step)\n",
        "\n",
        "1. **Standardization**: \n",
        "   Since PCA is affected by the scale of the features, it's important to standardize the dataset (mean = 0, variance = 1).\n",
        "\n",
        "2. **Covariance Matrix Calculation**: \n",
        "   The covariance matrix of the data is calculated to understand how the variables are related to each other.\n",
        "\n",
        "3. **Eigenvalues and Eigenvectors**:\n",
        "   The covariance matrix is decomposed into its **eigenvectors** and **eigenvalues**. Eigenvectors represent the directions of the new feature space, and eigenvalues represent the magnitude of variance along these directions.\n",
        "\n",
        "4. **Principal Components**: \n",
        "   The eigenvectors corresponding to the largest eigenvalues are selected as the principal components. These are the new axes onto which the data is projected.\n",
        "\n",
        "5. **Projection**: \n",
        "   The data is projected onto the selected principal components to obtain a lower-dimensional representation while retaining the maximum amount of variance.\n",
        "\n",
        "### PCA Example\n",
        "\n",
        "Let's consider a simple example where we have a dataset with two features, `X1` and `X2`.\n",
        "\n",
        "```plaintext\n",
        "X1  X2\n",
        "2   4\n",
        "3   5\n",
        "4   6\n",
        "5   7\n",
        "6   8\n",
        "```\n",
        "\n",
        "#### Step 1: Standardization\n",
        "\n",
        "Standardize the data so that both features have a mean of 0 and variance of 1.\n",
        "\n",
        "```plaintext\n",
        "Standardized data:\n",
        "X1'  X2'\n",
        "-1.41  -1.41\n",
        "-0.71  -0.71\n",
        "0.00   0.00\n",
        "0.71   0.71\n",
        "1.41   1.41\n",
        "```\n",
        "\n",
        "#### Step 2: Covariance Matrix\n",
        "\n",
        "Next, we calculate the covariance matrix of the standardized data to understand how the variables are related.\n",
        "\n",
        "```plaintext\n",
        "Covariance Matrix:\n",
        "[1  1]\n",
        "[1  1]\n",
        "```\n",
        "\n",
        "#### Step 3: Eigenvectors and Eigenvalues\n",
        "\n",
        "We compute the eigenvalues and eigenvectors of the covariance matrix. These tell us the directions and the amount of variance in those directions.\n",
        "\n",
        "```plaintext\n",
        "Eigenvalues: 2, 0\n",
        "Eigenvectors: [0.71, 0.71], [-0.71, 0.71]\n",
        "```\n",
        "\n",
        "Here, the first eigenvector `[0.71, 0.71]` corresponds to the larger eigenvalue of `2`, meaning this is the principal component that captures the most variance in the data.\n",
        "\n",
        "#### Step 4: Projection\n",
        "\n",
        "Finally, we project the data onto the new axis (the principal component).\n",
        "\n",
        "```plaintext\n",
        "Projected Data:\n",
        "PC1  \n",
        "-1.99\n",
        "-0.99\n",
        "0.00\n",
        "0.99\n",
        "1.99\n",
        "```\n",
        "\n",
        "The data has now been reduced to a single dimension (`PC1`), retaining most of the variance.\n",
        "\n",
        "### Eigenvalues and Eigenvectors in PCA\n",
        "\n",
        "- **Eigenvalues**: Eigenvalues tell us how much variance there is along each principal component. A higher eigenvalue indicates that the principal component captures more variance in the data.\n",
        "- **Eigenvectors**: Eigenvectors represent the directions (or axes) of the principal components. They are orthogonal to each other and point in the direction of maximum variance.\n",
        "\n",
        "In PCA, the eigenvector with the largest eigenvalue is the first principal component, and it explains the most variance in the data. The eigenvector with the second largest eigenvalue is the second principal component, and so on.\n",
        "\n",
        "### Interpretation of PCA\n",
        "\n",
        "- **Dimensionality Reduction**: PCA allows us to reduce the number of dimensions in the dataset by selecting only the top `k` principal components that capture most of the variance. For example, in a 3D dataset, you might reduce it to 2D by selecting the two components with the highest eigenvalues.\n",
        "  \n",
        "- **Variance Explained**: The proportion of the total variance explained by each principal component can be computed as the ratio of the corresponding eigenvalue to the sum of all eigenvalues. This is often visualized using a **scree plot**, which shows the explained variance for each component.\n",
        "\n",
        "### Applications of PCA\n",
        "\n",
        "1. **Data Compression**: PCA is used to reduce the size of datasets while preserving important patterns and structures.\n",
        "2. **Noise Reduction**: By keeping only the principal components that capture significant variance, PCA helps filter out noise in the data.\n",
        "3. **Visualization**: PCA is often used for visualizing high-dimensional data in two or three dimensions.\n",
        "\n",
        "### Conclusion\n",
        "\n",
        "PCA is a powerful tool for reducing the dimensionality of large datasets while retaining essential information. It helps alleviate the \"curse of dimensionality\" and makes data easier to visualize and work with in machine learning models. The eigenvectors and eigenvalues computed during PCA provide the principal components and their importance in explaining the variance in the data."
      ]
    },
    {
      "cell_type": "code",
      "execution_count": 1,
      "metadata": {
        "id": "X-quiQ2F4SWU"
      },
      "outputs": [],
      "source": [
        "import numpy as np\n",
        "import pandas as pd"
      ]
    },
    {
      "cell_type": "code",
      "execution_count": 2,
      "metadata": {
        "id": "cskhwNSP4iW7"
      },
      "outputs": [],
      "source": [
        "data = np.array([[3, 7],\n",
        "                 [-4, -6],\n",
        "                 [1, -1],\n",
        "                 [7, 8],\n",
        "                 [-4, -1],\n",
        "                 [-3, -7]])"
      ]
    },
    {
      "cell_type": "code",
      "execution_count": 3,
      "metadata": {
        "id": "WyfiExc54s5p"
      },
      "outputs": [],
      "source": [
        "dataframe = pd.DataFrame(data, columns=['x1', 'x2'])"
      ]
    },
    {
      "cell_type": "markdown",
      "metadata": {
        "id": "3af1UvX16ws-"
      },
      "source": [
        "Standard Normal Form: If it contains mean as 0 and standard deviation as 1"
      ]
    },
    {
      "cell_type": "code",
      "execution_count": 4,
      "metadata": {
        "colab": {
          "base_uri": "https://localhost:8080/",
          "height": 237
        },
        "id": "W2AOtoOX440Z",
        "outputId": "d4c1c91b-6074-49f0-91df-a7ee76671ff7"
      },
      "outputs": [
        {
          "data": {
            "text/html": [
              "<div>\n",
              "<style scoped>\n",
              "    .dataframe tbody tr th:only-of-type {\n",
              "        vertical-align: middle;\n",
              "    }\n",
              "\n",
              "    .dataframe tbody tr th {\n",
              "        vertical-align: top;\n",
              "    }\n",
              "\n",
              "    .dataframe thead th {\n",
              "        text-align: right;\n",
              "    }\n",
              "</style>\n",
              "<table border=\"1\" class=\"dataframe\">\n",
              "  <thead>\n",
              "    <tr style=\"text-align: right;\">\n",
              "      <th></th>\n",
              "      <th>x1</th>\n",
              "      <th>x2</th>\n",
              "    </tr>\n",
              "  </thead>\n",
              "  <tbody>\n",
              "    <tr>\n",
              "      <th>0</th>\n",
              "      <td>3</td>\n",
              "      <td>7</td>\n",
              "    </tr>\n",
              "    <tr>\n",
              "      <th>1</th>\n",
              "      <td>-4</td>\n",
              "      <td>-6</td>\n",
              "    </tr>\n",
              "    <tr>\n",
              "      <th>2</th>\n",
              "      <td>1</td>\n",
              "      <td>-1</td>\n",
              "    </tr>\n",
              "    <tr>\n",
              "      <th>3</th>\n",
              "      <td>7</td>\n",
              "      <td>8</td>\n",
              "    </tr>\n",
              "    <tr>\n",
              "      <th>4</th>\n",
              "      <td>-4</td>\n",
              "      <td>-1</td>\n",
              "    </tr>\n",
              "    <tr>\n",
              "      <th>5</th>\n",
              "      <td>-3</td>\n",
              "      <td>-7</td>\n",
              "    </tr>\n",
              "  </tbody>\n",
              "</table>\n",
              "</div>"
            ],
            "text/plain": [
              "   x1  x2\n",
              "0   3   7\n",
              "1  -4  -6\n",
              "2   1  -1\n",
              "3   7   8\n",
              "4  -4  -1\n",
              "5  -3  -7"
            ]
          },
          "execution_count": 4,
          "metadata": {},
          "output_type": "execute_result"
        }
      ],
      "source": [
        "dataframe"
      ]
    },
    {
      "cell_type": "code",
      "execution_count": 5,
      "metadata": {
        "colab": {
          "base_uri": "https://localhost:8080/",
          "height": 300
        },
        "id": "hYe13wT07L3c",
        "outputId": "d567198a-dd4e-45ec-9576-9435e4487267"
      },
      "outputs": [
        {
          "data": {
            "text/html": [
              "<div>\n",
              "<style scoped>\n",
              "    .dataframe tbody tr th:only-of-type {\n",
              "        vertical-align: middle;\n",
              "    }\n",
              "\n",
              "    .dataframe tbody tr th {\n",
              "        vertical-align: top;\n",
              "    }\n",
              "\n",
              "    .dataframe thead th {\n",
              "        text-align: right;\n",
              "    }\n",
              "</style>\n",
              "<table border=\"1\" class=\"dataframe\">\n",
              "  <thead>\n",
              "    <tr style=\"text-align: right;\">\n",
              "      <th></th>\n",
              "      <th>x1</th>\n",
              "      <th>x2</th>\n",
              "    </tr>\n",
              "  </thead>\n",
              "  <tbody>\n",
              "    <tr>\n",
              "      <th>count</th>\n",
              "      <td>6.000000</td>\n",
              "      <td>6.000000</td>\n",
              "    </tr>\n",
              "    <tr>\n",
              "      <th>mean</th>\n",
              "      <td>0.000000</td>\n",
              "      <td>0.000000</td>\n",
              "    </tr>\n",
              "    <tr>\n",
              "      <th>std</th>\n",
              "      <td>4.472136</td>\n",
              "      <td>6.324555</td>\n",
              "    </tr>\n",
              "    <tr>\n",
              "      <th>min</th>\n",
              "      <td>-4.000000</td>\n",
              "      <td>-7.000000</td>\n",
              "    </tr>\n",
              "    <tr>\n",
              "      <th>25%</th>\n",
              "      <td>-3.750000</td>\n",
              "      <td>-4.750000</td>\n",
              "    </tr>\n",
              "    <tr>\n",
              "      <th>50%</th>\n",
              "      <td>-1.000000</td>\n",
              "      <td>-1.000000</td>\n",
              "    </tr>\n",
              "    <tr>\n",
              "      <th>75%</th>\n",
              "      <td>2.500000</td>\n",
              "      <td>5.000000</td>\n",
              "    </tr>\n",
              "    <tr>\n",
              "      <th>max</th>\n",
              "      <td>7.000000</td>\n",
              "      <td>8.000000</td>\n",
              "    </tr>\n",
              "  </tbody>\n",
              "</table>\n",
              "</div>"
            ],
            "text/plain": [
              "             x1        x2\n",
              "count  6.000000  6.000000\n",
              "mean   0.000000  0.000000\n",
              "std    4.472136  6.324555\n",
              "min   -4.000000 -7.000000\n",
              "25%   -3.750000 -4.750000\n",
              "50%   -1.000000 -1.000000\n",
              "75%    2.500000  5.000000\n",
              "max    7.000000  8.000000"
            ]
          },
          "execution_count": 5,
          "metadata": {},
          "output_type": "execute_result"
        }
      ],
      "source": [
        "dataframe.describe()"
      ]
    },
    {
      "cell_type": "code",
      "execution_count": 6,
      "metadata": {
        "id": "y4wcZ1hJ7XEi"
      },
      "outputs": [],
      "source": [
        "from sklearn.preprocessing import StandardScaler\n",
        "scaler = StandardScaler()\n",
        "dataScaled = scaler.fit_transform(dataframe)"
      ]
    },
    {
      "cell_type": "code",
      "execution_count": 7,
      "metadata": {
        "colab": {
          "base_uri": "https://localhost:8080/"
        },
        "id": "CY0GMQta7q7s",
        "outputId": "d2a0afad-9f33-4516-d288-66a8be71264f"
      },
      "outputs": [
        {
          "data": {
            "text/plain": [
              "numpy.ndarray"
            ]
          },
          "execution_count": 7,
          "metadata": {},
          "output_type": "execute_result"
        }
      ],
      "source": [
        "type(dataScaled)"
      ]
    },
    {
      "cell_type": "code",
      "execution_count": 8,
      "metadata": {
        "id": "g6vIjTmi7pPW"
      },
      "outputs": [],
      "source": [
        "dataframe = pd.DataFrame(dataScaled, columns=['x1', 'x2'])"
      ]
    },
    {
      "cell_type": "code",
      "execution_count": 9,
      "metadata": {
        "colab": {
          "base_uri": "https://localhost:8080/",
          "height": 300
        },
        "id": "Xj903SJS7lgO",
        "outputId": "010da071-0aba-4d6a-fdfb-6537bc443631"
      },
      "outputs": [
        {
          "data": {
            "text/html": [
              "<div>\n",
              "<style scoped>\n",
              "    .dataframe tbody tr th:only-of-type {\n",
              "        vertical-align: middle;\n",
              "    }\n",
              "\n",
              "    .dataframe tbody tr th {\n",
              "        vertical-align: top;\n",
              "    }\n",
              "\n",
              "    .dataframe thead th {\n",
              "        text-align: right;\n",
              "    }\n",
              "</style>\n",
              "<table border=\"1\" class=\"dataframe\">\n",
              "  <thead>\n",
              "    <tr style=\"text-align: right;\">\n",
              "      <th></th>\n",
              "      <th>x1</th>\n",
              "      <th>x2</th>\n",
              "    </tr>\n",
              "  </thead>\n",
              "  <tbody>\n",
              "    <tr>\n",
              "      <th>count</th>\n",
              "      <td>6.000000e+00</td>\n",
              "      <td>6.000000</td>\n",
              "    </tr>\n",
              "    <tr>\n",
              "      <th>mean</th>\n",
              "      <td>1.850372e-17</td>\n",
              "      <td>0.000000</td>\n",
              "    </tr>\n",
              "    <tr>\n",
              "      <th>std</th>\n",
              "      <td>1.095445e+00</td>\n",
              "      <td>1.095445</td>\n",
              "    </tr>\n",
              "    <tr>\n",
              "      <th>min</th>\n",
              "      <td>-9.797959e-01</td>\n",
              "      <td>-1.212436</td>\n",
              "    </tr>\n",
              "    <tr>\n",
              "      <th>25%</th>\n",
              "      <td>-9.185587e-01</td>\n",
              "      <td>-0.822724</td>\n",
              "    </tr>\n",
              "    <tr>\n",
              "      <th>50%</th>\n",
              "      <td>-2.449490e-01</td>\n",
              "      <td>-0.173205</td>\n",
              "    </tr>\n",
              "    <tr>\n",
              "      <th>75%</th>\n",
              "      <td>6.123724e-01</td>\n",
              "      <td>0.866025</td>\n",
              "    </tr>\n",
              "    <tr>\n",
              "      <th>max</th>\n",
              "      <td>1.714643e+00</td>\n",
              "      <td>1.385641</td>\n",
              "    </tr>\n",
              "  </tbody>\n",
              "</table>\n",
              "</div>"
            ],
            "text/plain": [
              "                 x1        x2\n",
              "count  6.000000e+00  6.000000\n",
              "mean   1.850372e-17  0.000000\n",
              "std    1.095445e+00  1.095445\n",
              "min   -9.797959e-01 -1.212436\n",
              "25%   -9.185587e-01 -0.822724\n",
              "50%   -2.449490e-01 -0.173205\n",
              "75%    6.123724e-01  0.866025\n",
              "max    1.714643e+00  1.385641"
            ]
          },
          "execution_count": 9,
          "metadata": {},
          "output_type": "execute_result"
        }
      ],
      "source": [
        "dataframe.describe()"
      ]
    },
    {
      "cell_type": "markdown",
      "metadata": {
        "id": "mPVAE2-X48HK"
      },
      "source": [
        "1. To check whether the data is in standard normal form or not. As our data is in standard normal form, we are skipping that step of coverting our data to standard normal form."
      ]
    },
    {
      "cell_type": "markdown",
      "metadata": {
        "id": "iEDx8KCE5JQm"
      },
      "source": [
        "2. Covariance Matrix between the two features that we have (x1, x2)"
      ]
    },
    {
      "cell_type": "code",
      "execution_count": 10,
      "metadata": {
        "colab": {
          "base_uri": "https://localhost:8080/"
        },
        "id": "dTktrkCj45tx",
        "outputId": "65aed166-f427-4208-ed78-ea435f8e01dd"
      },
      "outputs": [
        {
          "data": {
            "text/plain": [
              "array([[1.2       , 1.06066017],\n",
              "       [1.06066017, 1.2       ]])"
            ]
          },
          "execution_count": 10,
          "metadata": {},
          "output_type": "execute_result"
        }
      ],
      "source": [
        "## Approach 1\n",
        "c1 = dataframe.x1\n",
        "c2 = dataframe.x2\n",
        "np.cov(c1, c2)"
      ]
    },
    {
      "cell_type": "code",
      "execution_count": 11,
      "metadata": {
        "colab": {
          "base_uri": "https://localhost:8080/"
        },
        "id": "fiAtCNg19NxW",
        "outputId": "43fa7f0a-9f65-4d2b-b678-0d907128de4c"
      },
      "outputs": [
        {
          "data": {
            "text/plain": [
              "(6, 2)"
            ]
          },
          "execution_count": 11,
          "metadata": {},
          "output_type": "execute_result"
        }
      ],
      "source": [
        "dataframe.shape"
      ]
    },
    {
      "cell_type": "code",
      "execution_count": 12,
      "metadata": {
        "colab": {
          "base_uri": "https://localhost:8080/",
          "height": 125
        },
        "id": "2NP5CU2h6kzr",
        "outputId": "77b4ea1a-c83b-4ce7-91b7-b9368c618623"
      },
      "outputs": [
        {
          "data": {
            "text/html": [
              "<div>\n",
              "<style scoped>\n",
              "    .dataframe tbody tr th:only-of-type {\n",
              "        vertical-align: middle;\n",
              "    }\n",
              "\n",
              "    .dataframe tbody tr th {\n",
              "        vertical-align: top;\n",
              "    }\n",
              "\n",
              "    .dataframe thead th {\n",
              "        text-align: right;\n",
              "    }\n",
              "</style>\n",
              "<table border=\"1\" class=\"dataframe\">\n",
              "  <thead>\n",
              "    <tr style=\"text-align: right;\">\n",
              "      <th></th>\n",
              "      <th>x1</th>\n",
              "      <th>x2</th>\n",
              "    </tr>\n",
              "  </thead>\n",
              "  <tbody>\n",
              "    <tr>\n",
              "      <th>x1</th>\n",
              "      <td>1.20000</td>\n",
              "      <td>1.06066</td>\n",
              "    </tr>\n",
              "    <tr>\n",
              "      <th>x2</th>\n",
              "      <td>1.06066</td>\n",
              "      <td>1.20000</td>\n",
              "    </tr>\n",
              "  </tbody>\n",
              "</table>\n",
              "</div>"
            ],
            "text/plain": [
              "         x1       x2\n",
              "x1  1.20000  1.06066\n",
              "x2  1.06066  1.20000"
            ]
          },
          "execution_count": 12,
          "metadata": {},
          "output_type": "execute_result"
        }
      ],
      "source": [
        "## Approach 2\n",
        "covarianceMatrix = dataframe.T @ dataframe / 5\n",
        "covarianceMatrix"
      ]
    },
    {
      "cell_type": "code",
      "execution_count": 13,
      "metadata": {
        "colab": {
          "base_uri": "https://localhost:8080/"
        },
        "id": "wmvO9SW67KzZ",
        "outputId": "64cb8610-2c67-439f-b54d-e73eb0f150bf"
      },
      "outputs": [
        {
          "data": {
            "text/plain": [
              "1.0606601717798212"
            ]
          },
          "execution_count": 13,
          "metadata": {},
          "output_type": "execute_result"
        }
      ],
      "source": [
        "## Approach 3\n",
        "np.sum(c1 * c2)/5"
      ]
    },
    {
      "cell_type": "markdown",
      "metadata": {
        "id": "8wwCenBJ8QlE"
      },
      "source": [
        "3. Evaluate the eigen values and eigen vectors of the above coorelation matrix"
      ]
    },
    {
      "cell_type": "code",
      "execution_count": 14,
      "metadata": {
        "id": "me_Zxznw7puW"
      },
      "outputs": [],
      "source": [
        "eigenValues, eigenVectors = np.linalg.eig(covarianceMatrix)"
      ]
    },
    {
      "cell_type": "code",
      "execution_count": 15,
      "metadata": {
        "colab": {
          "base_uri": "https://localhost:8080/"
        },
        "id": "BF1PMHCb8cnX",
        "outputId": "f9220c46-0cb3-4293-f15b-a3bf8fd208e3"
      },
      "outputs": [
        {
          "data": {
            "text/plain": [
              "array([2.26066017, 0.13933983])"
            ]
          },
          "execution_count": 15,
          "metadata": {},
          "output_type": "execute_result"
        }
      ],
      "source": [
        "## eigenValues = # features\n",
        "## eigenValue represents the strength of the information given by the eigenVector\n",
        "eigenValues"
      ]
    },
    {
      "cell_type": "code",
      "execution_count": 16,
      "metadata": {
        "colab": {
          "base_uri": "https://localhost:8080/"
        },
        "id": "LfQM1cG68is1",
        "outputId": "b235481f-dd57-410f-8d8f-17f0d9c56b37"
      },
      "outputs": [
        {
          "data": {
            "text/plain": [
              "array([[ 0.70710678, -0.70710678],\n",
              "       [ 0.70710678,  0.70710678]])"
            ]
          },
          "execution_count": 16,
          "metadata": {},
          "output_type": "execute_result"
        }
      ],
      "source": [
        "eigenVectors"
      ]
    },
    {
      "cell_type": "code",
      "execution_count": 17,
      "metadata": {
        "colab": {
          "base_uri": "https://localhost:8080/"
        },
        "id": "hZ-yFo8T9qv8",
        "outputId": "b04cd73b-f1df-4ccc-ff05-c0093b21ba5c"
      },
      "outputs": [
        {
          "data": {
            "text/plain": [
              "array([0.70710678, 0.70710678])"
            ]
          },
          "execution_count": 17,
          "metadata": {},
          "output_type": "execute_result"
        }
      ],
      "source": [
        "eigenVectors[:, 0]"
      ]
    },
    {
      "cell_type": "code",
      "execution_count": 18,
      "metadata": {
        "colab": {
          "base_uri": "https://localhost:8080/",
          "height": 237
        },
        "id": "YjjGdMZH-Bii",
        "outputId": "c944e832-56ce-4492-9da5-55f58df12a12"
      },
      "outputs": [
        {
          "data": {
            "text/html": [
              "<div>\n",
              "<style scoped>\n",
              "    .dataframe tbody tr th:only-of-type {\n",
              "        vertical-align: middle;\n",
              "    }\n",
              "\n",
              "    .dataframe tbody tr th {\n",
              "        vertical-align: top;\n",
              "    }\n",
              "\n",
              "    .dataframe thead th {\n",
              "        text-align: right;\n",
              "    }\n",
              "</style>\n",
              "<table border=\"1\" class=\"dataframe\">\n",
              "  <thead>\n",
              "    <tr style=\"text-align: right;\">\n",
              "      <th></th>\n",
              "      <th>x1</th>\n",
              "      <th>x2</th>\n",
              "    </tr>\n",
              "  </thead>\n",
              "  <tbody>\n",
              "    <tr>\n",
              "      <th>0</th>\n",
              "      <td>0.734847</td>\n",
              "      <td>1.212436</td>\n",
              "    </tr>\n",
              "    <tr>\n",
              "      <th>1</th>\n",
              "      <td>-0.979796</td>\n",
              "      <td>-1.039230</td>\n",
              "    </tr>\n",
              "    <tr>\n",
              "      <th>2</th>\n",
              "      <td>0.244949</td>\n",
              "      <td>-0.173205</td>\n",
              "    </tr>\n",
              "    <tr>\n",
              "      <th>3</th>\n",
              "      <td>1.714643</td>\n",
              "      <td>1.385641</td>\n",
              "    </tr>\n",
              "    <tr>\n",
              "      <th>4</th>\n",
              "      <td>-0.979796</td>\n",
              "      <td>-0.173205</td>\n",
              "    </tr>\n",
              "    <tr>\n",
              "      <th>5</th>\n",
              "      <td>-0.734847</td>\n",
              "      <td>-1.212436</td>\n",
              "    </tr>\n",
              "  </tbody>\n",
              "</table>\n",
              "</div>"
            ],
            "text/plain": [
              "         x1        x2\n",
              "0  0.734847  1.212436\n",
              "1 -0.979796 -1.039230\n",
              "2  0.244949 -0.173205\n",
              "3  1.714643  1.385641\n",
              "4 -0.979796 -0.173205\n",
              "5 -0.734847 -1.212436"
            ]
          },
          "execution_count": 18,
          "metadata": {},
          "output_type": "execute_result"
        }
      ],
      "source": [
        "dataframe"
      ]
    },
    {
      "cell_type": "code",
      "execution_count": 19,
      "metadata": {
        "id": "B9Yxg4o-8j-d"
      },
      "outputs": [],
      "source": [
        "## PC1 - Contains the maximum information of the original two features that you have\n",
        "PC1 = dataframe @ eigenVectors[:, 0]"
      ]
    },
    {
      "cell_type": "code",
      "execution_count": 20,
      "metadata": {
        "colab": {
          "base_uri": "https://localhost:8080/"
        },
        "id": "DNsgPRlb9T16",
        "outputId": "b21c211d-9847-4f28-a980-f171e69e8a43"
      },
      "outputs": [
        {
          "data": {
            "text/plain": [
              "0    1.376937\n",
              "1   -1.427667\n",
              "2    0.050731\n",
              "3    2.192231\n",
              "4   -0.815295\n",
              "5   -1.376937\n",
              "dtype: float64"
            ]
          },
          "execution_count": 20,
          "metadata": {},
          "output_type": "execute_result"
        }
      ],
      "source": [
        "PC1"
      ]
    },
    {
      "cell_type": "code",
      "execution_count": 21,
      "metadata": {
        "colab": {
          "base_uri": "https://localhost:8080/"
        },
        "id": "4AHkl30w9VBF",
        "outputId": "15c35eae-78af-4628-ac04-ec5a7889bc56"
      },
      "outputs": [
        {
          "data": {
            "text/plain": [
              "0    0.337706\n",
              "1   -0.042027\n",
              "2   -0.295680\n",
              "3   -0.232640\n",
              "4    0.570346\n",
              "5   -0.337706\n",
              "dtype: float64"
            ]
          },
          "execution_count": 21,
          "metadata": {},
          "output_type": "execute_result"
        }
      ],
      "source": [
        "## PC2\n",
        "PC2 = dataframe @ eigenVectors[:, 1]\n",
        "PC2"
      ]
    },
    {
      "cell_type": "code",
      "execution_count": 22,
      "metadata": {
        "colab": {
          "base_uri": "https://localhost:8080/",
          "height": 237
        },
        "id": "tfnKDeun94fc",
        "outputId": "bb8a16f8-ca01-4429-97c4-6af97ce7b283"
      },
      "outputs": [
        {
          "data": {
            "text/html": [
              "<div>\n",
              "<style scoped>\n",
              "    .dataframe tbody tr th:only-of-type {\n",
              "        vertical-align: middle;\n",
              "    }\n",
              "\n",
              "    .dataframe tbody tr th {\n",
              "        vertical-align: top;\n",
              "    }\n",
              "\n",
              "    .dataframe thead th {\n",
              "        text-align: right;\n",
              "    }\n",
              "</style>\n",
              "<table border=\"1\" class=\"dataframe\">\n",
              "  <thead>\n",
              "    <tr style=\"text-align: right;\">\n",
              "      <th></th>\n",
              "      <th>x1</th>\n",
              "      <th>x2</th>\n",
              "    </tr>\n",
              "  </thead>\n",
              "  <tbody>\n",
              "    <tr>\n",
              "      <th>0</th>\n",
              "      <td>0.734847</td>\n",
              "      <td>1.212436</td>\n",
              "    </tr>\n",
              "    <tr>\n",
              "      <th>1</th>\n",
              "      <td>-0.979796</td>\n",
              "      <td>-1.039230</td>\n",
              "    </tr>\n",
              "    <tr>\n",
              "      <th>2</th>\n",
              "      <td>0.244949</td>\n",
              "      <td>-0.173205</td>\n",
              "    </tr>\n",
              "    <tr>\n",
              "      <th>3</th>\n",
              "      <td>1.714643</td>\n",
              "      <td>1.385641</td>\n",
              "    </tr>\n",
              "    <tr>\n",
              "      <th>4</th>\n",
              "      <td>-0.979796</td>\n",
              "      <td>-0.173205</td>\n",
              "    </tr>\n",
              "    <tr>\n",
              "      <th>5</th>\n",
              "      <td>-0.734847</td>\n",
              "      <td>-1.212436</td>\n",
              "    </tr>\n",
              "  </tbody>\n",
              "</table>\n",
              "</div>"
            ],
            "text/plain": [
              "         x1        x2\n",
              "0  0.734847  1.212436\n",
              "1 -0.979796 -1.039230\n",
              "2  0.244949 -0.173205\n",
              "3  1.714643  1.385641\n",
              "4 -0.979796 -0.173205\n",
              "5 -0.734847 -1.212436"
            ]
          },
          "execution_count": 22,
          "metadata": {},
          "output_type": "execute_result"
        }
      ],
      "source": [
        "dataframe"
      ]
    },
    {
      "cell_type": "markdown",
      "metadata": {},
      "source": [
        "## **Applications of Dimensionality reduction**\n",
        " techniques, including Principal Component Analysis (PCA), t-SNE, and others, are widely used in real-world applications to simplify complex, high-dimensional datasets while preserving key information. These techniques make data analysis more efficient, improve model performance, and reduce computational costs. Below are some real-time applications of dimensionality reduction:\n",
        "\n",
        "### 1. **Image Compression**\n",
        "   - **Application**: Dimensionality reduction techniques like PCA are used to reduce the size of image files by representing them with fewer components without losing significant detail.\n",
        "   - **Example**: JPEG compression uses PCA to reduce the dimensionality of color images, allowing for faster storage and transmission.\n",
        "\n",
        "### 2. **Facial Recognition**\n",
        "   - **Application**: In facial recognition systems, dimensionality reduction is used to reduce the complexity of the high-dimensional image data while preserving the unique features necessary to distinguish between faces.\n",
        "   - **Example**: Eigenfaces and Fisherfaces are popular methods based on PCA that reduce image data to a lower-dimensional space for faster and more accurate face recognition.\n",
        "\n",
        "### 3. **Data Visualization**\n",
        "   - **Application**: In cases where data has many dimensions (features), it is hard to visualize and analyze. Dimensionality reduction techniques help to project the data into 2D or 3D space, making it easier to explore and interpret.\n",
        "   - **Example**: t-SNE and PCA are frequently used in exploratory data analysis (EDA) to visualize complex datasets like genomic data, sensor data, or high-dimensional machine learning features.\n",
        "\n",
        "### 4. **Text Data Analysis and NLP**\n",
        "   - **Application**: Natural Language Processing (NLP) applications often deal with very high-dimensional data, such as the bag-of-words or TF-IDF representations of text. Dimensionality reduction helps in reducing the complexity of such data while retaining essential semantic information.\n",
        "   - **Example**: In topic modeling, techniques like Latent Semantic Analysis (LSA) use dimensionality reduction to find patterns and relationships in the text corpus by reducing the number of features (words) to key topics.\n",
        "\n",
        "### 5. **Recommender Systems**\n",
        "   - **Application**: Recommender systems rely on user-item interaction data, which can be extremely high-dimensional. Dimensionality reduction helps in reducing the number of latent features used to represent user preferences and item characteristics.\n",
        "   - **Example**: Matrix factorization techniques, like Singular Value Decomposition (SVD), are commonly used in collaborative filtering to predict user preferences based on lower-dimensional latent factors.\n",
        "\n",
        "### 6. **Genome Data Analysis**\n",
        "   - **Application**: Genomic data contains thousands of features representing different genes. Dimensionality reduction is crucial for analyzing this data efficiently by reducing the number of features while preserving key biological information.\n",
        "   - **Example**: PCA and t-SNE are used in genomics to identify patterns in gene expression data, classify diseases, and discover subgroups of patients with similar genetic profiles.\n",
        "\n",
        "### 7. **Anomaly Detection**\n",
        "   - **Application**: In anomaly detection, reducing the dimensionality of the data can help highlight key features that distinguish normal from abnormal behavior.\n",
        "   - **Example**: PCA is used in network security to reduce the dimensionality of network traffic data to identify abnormal patterns that may indicate cyber threats.\n",
        "\n",
        "### 8. **Sensor Data Analysis**\n",
        "   - **Application**: IoT devices and sensors generate high-dimensional data streams, making it difficult to analyze in real-time. Dimensionality reduction techniques simplify the data while retaining important signals.\n",
        "   - **Example**: PCA is used in predictive maintenance systems to reduce the dimensionality of sensor data and detect equipment failures or operational anomalies in industrial environments.\n",
        "\n",
        "### 9. **Medical Imaging**\n",
        "   - **Application**: In medical imaging, high-resolution images like MRIs and CT scans generate massive amounts of data. Dimensionality reduction helps in compressing these images and extracting essential features for diagnosis.\n",
        "   - **Example**: PCA and autoencoders are used to reduce the dimensionality of MRI or CT scan images, making them easier to process and analyze for disease detection, segmentation, or 3D reconstruction.\n",
        "\n",
        "### 10. **Speech Recognition**\n",
        "   - **Application**: Speech data is high-dimensional and complex, especially when dealing with raw audio signals. Dimensionality reduction helps in extracting important features for speech recognition systems.\n",
        "   - **Example**: Techniques like PCA or Mel-frequency cepstral coefficients (MFCCs) are used to reduce the dimensionality of audio data, making it more manageable for speech-to-text algorithms.\n",
        "\n",
        "### 11. **Financial Market Analysis**\n",
        "   - **Application**: Financial data often includes many correlated variables like stock prices, interest rates, and economic indicators. Dimensionality reduction is used to simplify this data and find patterns or trends.\n",
        "   - **Example**: PCA is used to reduce the number of correlated variables in financial data to create models that predict market movements, manage risks, or optimize portfolios.\n",
        "\n",
        "### 12. **Customer Segmentation**\n",
        "   - **Application**: In marketing and customer relationship management, dimensionality reduction is used to group customers based on behaviors, preferences, or demographics, allowing businesses to create targeted marketing strategies.\n",
        "   - **Example**: PCA can reduce customer data features like purchase history and demographics into a few key components, making it easier to segment customers for personalized offers.\n",
        "\n",
        "### 13. **Drug Discovery**\n",
        "   - **Application**: Dimensionality reduction is crucial in drug discovery, where datasets often consist of thousands of chemical compounds with numerous features.\n",
        "   - **Example**: Techniques like PCA and t-SNE are used to reduce the number of variables in chemical compound datasets, making it easier to identify promising candidates for drug development.\n",
        "\n",
        "### 14. **Robotics**\n",
        "   - **Application**: Robots often operate in complex environments, generating high-dimensional sensor data. Dimensionality reduction helps robots navigate, recognize objects, and make decisions more efficiently.\n",
        "   - **Example**: Dimensionality reduction techniques are used in robotics for object recognition, reducing the complexity of sensor data inputs and improving decision-making algorithms.\n",
        "\n",
        "---\n",
        "\n",
        "### Why Dimensionality Reduction Is Needed:\n",
        "\n",
        "- **Improves Performance**: High-dimensional data can lead to overfitting in machine learning models. Reducing dimensionality simplifies the model, making it more generalizable.\n",
        "- **Computational Efficiency**: High-dimensional data requires significant computational power. Reducing dimensions speeds up model training and prediction.\n",
        "- **Removes Noise**: Dimensionality reduction helps filter out irrelevant features, making it easier to identify underlying patterns in the data.\n",
        "- **Storage and Transmission**: In applications like image compression or sensor data analysis, dimensionality reduction reduces the data's size, making it easier to store and transmit.\n",
        "\n",
        "In summary, dimensionality reduction is a critical step in making high-dimensional data more manageable, interpretable, and computationally feasible for real-world applications across various industries."
      ]
    },
    {
      "cell_type": "markdown",
      "metadata": {},
      "source": [
        "## **Implimentation of Dimensionality reduction**\n",
        "Using SKlearn"
      ]
    },
    {
      "cell_type": "code",
      "execution_count": 24,
      "metadata": {
        "id": "cp6xn7-1-hgk"
      },
      "outputs": [],
      "source": [
        "import pandas as pd\n",
        "import numpy as np"
      ]
    },
    {
      "cell_type": "code",
      "execution_count": 25,
      "metadata": {},
      "outputs": [
        {
          "data": {
            "text/html": [
              "<div>\n",
              "<style scoped>\n",
              "    .dataframe tbody tr th:only-of-type {\n",
              "        vertical-align: middle;\n",
              "    }\n",
              "\n",
              "    .dataframe tbody tr th {\n",
              "        vertical-align: top;\n",
              "    }\n",
              "\n",
              "    .dataframe thead th {\n",
              "        text-align: right;\n",
              "    }\n",
              "</style>\n",
              "<table border=\"1\" class=\"dataframe\">\n",
              "  <thead>\n",
              "    <tr style=\"text-align: right;\">\n",
              "      <th></th>\n",
              "      <th>Pregnancies</th>\n",
              "      <th>Glucose</th>\n",
              "      <th>BloodPressure</th>\n",
              "      <th>SkinThickness</th>\n",
              "      <th>Insulin</th>\n",
              "      <th>BMI</th>\n",
              "      <th>DiabetesPedigreeFunction</th>\n",
              "      <th>Age</th>\n",
              "      <th>Outcome</th>\n",
              "    </tr>\n",
              "  </thead>\n",
              "  <tbody>\n",
              "    <tr>\n",
              "      <th>0</th>\n",
              "      <td>6</td>\n",
              "      <td>148</td>\n",
              "      <td>72</td>\n",
              "      <td>35</td>\n",
              "      <td>0</td>\n",
              "      <td>33.6</td>\n",
              "      <td>0.627</td>\n",
              "      <td>50</td>\n",
              "      <td>1</td>\n",
              "    </tr>\n",
              "    <tr>\n",
              "      <th>1</th>\n",
              "      <td>1</td>\n",
              "      <td>85</td>\n",
              "      <td>66</td>\n",
              "      <td>29</td>\n",
              "      <td>0</td>\n",
              "      <td>26.6</td>\n",
              "      <td>0.351</td>\n",
              "      <td>31</td>\n",
              "      <td>0</td>\n",
              "    </tr>\n",
              "    <tr>\n",
              "      <th>2</th>\n",
              "      <td>8</td>\n",
              "      <td>183</td>\n",
              "      <td>64</td>\n",
              "      <td>0</td>\n",
              "      <td>0</td>\n",
              "      <td>23.3</td>\n",
              "      <td>0.672</td>\n",
              "      <td>32</td>\n",
              "      <td>1</td>\n",
              "    </tr>\n",
              "    <tr>\n",
              "      <th>3</th>\n",
              "      <td>1</td>\n",
              "      <td>89</td>\n",
              "      <td>66</td>\n",
              "      <td>23</td>\n",
              "      <td>94</td>\n",
              "      <td>28.1</td>\n",
              "      <td>0.167</td>\n",
              "      <td>21</td>\n",
              "      <td>0</td>\n",
              "    </tr>\n",
              "    <tr>\n",
              "      <th>4</th>\n",
              "      <td>0</td>\n",
              "      <td>137</td>\n",
              "      <td>40</td>\n",
              "      <td>35</td>\n",
              "      <td>168</td>\n",
              "      <td>43.1</td>\n",
              "      <td>2.288</td>\n",
              "      <td>33</td>\n",
              "      <td>1</td>\n",
              "    </tr>\n",
              "  </tbody>\n",
              "</table>\n",
              "</div>"
            ],
            "text/plain": [
              "   Pregnancies  Glucose  BloodPressure  SkinThickness  Insulin   BMI  \\\n",
              "0            6      148             72             35        0  33.6   \n",
              "1            1       85             66             29        0  26.6   \n",
              "2            8      183             64              0        0  23.3   \n",
              "3            1       89             66             23       94  28.1   \n",
              "4            0      137             40             35      168  43.1   \n",
              "\n",
              "   DiabetesPedigreeFunction  Age  Outcome  \n",
              "0                     0.627   50        1  \n",
              "1                     0.351   31        0  \n",
              "2                     0.672   32        1  \n",
              "3                     0.167   21        0  \n",
              "4                     2.288   33        1  "
            ]
          },
          "execution_count": 25,
          "metadata": {},
          "output_type": "execute_result"
        }
      ],
      "source": [
        "data = pd.read_csv('./diabetes.csv')\n",
        "data.head()"
      ]
    },
    {
      "cell_type": "markdown",
      "metadata": {},
      "source": [
        "**1. Check the Standard Normal Form**"
      ]
    },
    {
      "cell_type": "code",
      "execution_count": 26,
      "metadata": {},
      "outputs": [
        {
          "data": {
            "text/html": [
              "<div>\n",
              "<style scoped>\n",
              "    .dataframe tbody tr th:only-of-type {\n",
              "        vertical-align: middle;\n",
              "    }\n",
              "\n",
              "    .dataframe tbody tr th {\n",
              "        vertical-align: top;\n",
              "    }\n",
              "\n",
              "    .dataframe thead th {\n",
              "        text-align: right;\n",
              "    }\n",
              "</style>\n",
              "<table border=\"1\" class=\"dataframe\">\n",
              "  <thead>\n",
              "    <tr style=\"text-align: right;\">\n",
              "      <th></th>\n",
              "      <th>Pregnancies</th>\n",
              "      <th>Glucose</th>\n",
              "      <th>BloodPressure</th>\n",
              "      <th>SkinThickness</th>\n",
              "      <th>Insulin</th>\n",
              "      <th>BMI</th>\n",
              "      <th>DiabetesPedigreeFunction</th>\n",
              "      <th>Age</th>\n",
              "      <th>Outcome</th>\n",
              "    </tr>\n",
              "  </thead>\n",
              "  <tbody>\n",
              "    <tr>\n",
              "      <th>count</th>\n",
              "      <td>768.000000</td>\n",
              "      <td>768.000000</td>\n",
              "      <td>768.000000</td>\n",
              "      <td>768.000000</td>\n",
              "      <td>768.000000</td>\n",
              "      <td>768.000000</td>\n",
              "      <td>768.000000</td>\n",
              "      <td>768.000000</td>\n",
              "      <td>768.000000</td>\n",
              "    </tr>\n",
              "    <tr>\n",
              "      <th>mean</th>\n",
              "      <td>3.845052</td>\n",
              "      <td>120.894531</td>\n",
              "      <td>69.105469</td>\n",
              "      <td>20.536458</td>\n",
              "      <td>79.799479</td>\n",
              "      <td>31.992578</td>\n",
              "      <td>0.471876</td>\n",
              "      <td>33.240885</td>\n",
              "      <td>0.348958</td>\n",
              "    </tr>\n",
              "    <tr>\n",
              "      <th>std</th>\n",
              "      <td>3.369578</td>\n",
              "      <td>31.972618</td>\n",
              "      <td>19.355807</td>\n",
              "      <td>15.952218</td>\n",
              "      <td>115.244002</td>\n",
              "      <td>7.884160</td>\n",
              "      <td>0.331329</td>\n",
              "      <td>11.760232</td>\n",
              "      <td>0.476951</td>\n",
              "    </tr>\n",
              "    <tr>\n",
              "      <th>min</th>\n",
              "      <td>0.000000</td>\n",
              "      <td>0.000000</td>\n",
              "      <td>0.000000</td>\n",
              "      <td>0.000000</td>\n",
              "      <td>0.000000</td>\n",
              "      <td>0.000000</td>\n",
              "      <td>0.078000</td>\n",
              "      <td>21.000000</td>\n",
              "      <td>0.000000</td>\n",
              "    </tr>\n",
              "    <tr>\n",
              "      <th>25%</th>\n",
              "      <td>1.000000</td>\n",
              "      <td>99.000000</td>\n",
              "      <td>62.000000</td>\n",
              "      <td>0.000000</td>\n",
              "      <td>0.000000</td>\n",
              "      <td>27.300000</td>\n",
              "      <td>0.243750</td>\n",
              "      <td>24.000000</td>\n",
              "      <td>0.000000</td>\n",
              "    </tr>\n",
              "    <tr>\n",
              "      <th>50%</th>\n",
              "      <td>3.000000</td>\n",
              "      <td>117.000000</td>\n",
              "      <td>72.000000</td>\n",
              "      <td>23.000000</td>\n",
              "      <td>30.500000</td>\n",
              "      <td>32.000000</td>\n",
              "      <td>0.372500</td>\n",
              "      <td>29.000000</td>\n",
              "      <td>0.000000</td>\n",
              "    </tr>\n",
              "    <tr>\n",
              "      <th>75%</th>\n",
              "      <td>6.000000</td>\n",
              "      <td>140.250000</td>\n",
              "      <td>80.000000</td>\n",
              "      <td>32.000000</td>\n",
              "      <td>127.250000</td>\n",
              "      <td>36.600000</td>\n",
              "      <td>0.626250</td>\n",
              "      <td>41.000000</td>\n",
              "      <td>1.000000</td>\n",
              "    </tr>\n",
              "    <tr>\n",
              "      <th>max</th>\n",
              "      <td>17.000000</td>\n",
              "      <td>199.000000</td>\n",
              "      <td>122.000000</td>\n",
              "      <td>99.000000</td>\n",
              "      <td>846.000000</td>\n",
              "      <td>67.100000</td>\n",
              "      <td>2.420000</td>\n",
              "      <td>81.000000</td>\n",
              "      <td>1.000000</td>\n",
              "    </tr>\n",
              "  </tbody>\n",
              "</table>\n",
              "</div>"
            ],
            "text/plain": [
              "       Pregnancies     Glucose  BloodPressure  SkinThickness     Insulin  \\\n",
              "count   768.000000  768.000000     768.000000     768.000000  768.000000   \n",
              "mean      3.845052  120.894531      69.105469      20.536458   79.799479   \n",
              "std       3.369578   31.972618      19.355807      15.952218  115.244002   \n",
              "min       0.000000    0.000000       0.000000       0.000000    0.000000   \n",
              "25%       1.000000   99.000000      62.000000       0.000000    0.000000   \n",
              "50%       3.000000  117.000000      72.000000      23.000000   30.500000   \n",
              "75%       6.000000  140.250000      80.000000      32.000000  127.250000   \n",
              "max      17.000000  199.000000     122.000000      99.000000  846.000000   \n",
              "\n",
              "              BMI  DiabetesPedigreeFunction         Age     Outcome  \n",
              "count  768.000000                768.000000  768.000000  768.000000  \n",
              "mean    31.992578                  0.471876   33.240885    0.348958  \n",
              "std      7.884160                  0.331329   11.760232    0.476951  \n",
              "min      0.000000                  0.078000   21.000000    0.000000  \n",
              "25%     27.300000                  0.243750   24.000000    0.000000  \n",
              "50%     32.000000                  0.372500   29.000000    0.000000  \n",
              "75%     36.600000                  0.626250   41.000000    1.000000  \n",
              "max     67.100000                  2.420000   81.000000    1.000000  "
            ]
          },
          "execution_count": 26,
          "metadata": {},
          "output_type": "execute_result"
        }
      ],
      "source": [
        "## descriptive statistics of a given data\n",
        "data.describe()"
      ]
    },
    {
      "cell_type": "code",
      "execution_count": 27,
      "metadata": {},
      "outputs": [],
      "source": [
        "## input features only\n",
        "data = data.drop(columns=['Outcome'], axis=1)"
      ]
    },
    {
      "cell_type": "code",
      "execution_count": 28,
      "metadata": {},
      "outputs": [
        {
          "data": {
            "text/html": [
              "<div>\n",
              "<style scoped>\n",
              "    .dataframe tbody tr th:only-of-type {\n",
              "        vertical-align: middle;\n",
              "    }\n",
              "\n",
              "    .dataframe tbody tr th {\n",
              "        vertical-align: top;\n",
              "    }\n",
              "\n",
              "    .dataframe thead th {\n",
              "        text-align: right;\n",
              "    }\n",
              "</style>\n",
              "<table border=\"1\" class=\"dataframe\">\n",
              "  <thead>\n",
              "    <tr style=\"text-align: right;\">\n",
              "      <th></th>\n",
              "      <th>Pregnancies</th>\n",
              "      <th>Glucose</th>\n",
              "      <th>BloodPressure</th>\n",
              "      <th>SkinThickness</th>\n",
              "      <th>Insulin</th>\n",
              "      <th>BMI</th>\n",
              "      <th>DiabetesPedigreeFunction</th>\n",
              "      <th>Age</th>\n",
              "    </tr>\n",
              "  </thead>\n",
              "  <tbody>\n",
              "    <tr>\n",
              "      <th>0</th>\n",
              "      <td>6</td>\n",
              "      <td>148</td>\n",
              "      <td>72</td>\n",
              "      <td>35</td>\n",
              "      <td>0</td>\n",
              "      <td>33.6</td>\n",
              "      <td>0.627</td>\n",
              "      <td>50</td>\n",
              "    </tr>\n",
              "    <tr>\n",
              "      <th>1</th>\n",
              "      <td>1</td>\n",
              "      <td>85</td>\n",
              "      <td>66</td>\n",
              "      <td>29</td>\n",
              "      <td>0</td>\n",
              "      <td>26.6</td>\n",
              "      <td>0.351</td>\n",
              "      <td>31</td>\n",
              "    </tr>\n",
              "    <tr>\n",
              "      <th>2</th>\n",
              "      <td>8</td>\n",
              "      <td>183</td>\n",
              "      <td>64</td>\n",
              "      <td>0</td>\n",
              "      <td>0</td>\n",
              "      <td>23.3</td>\n",
              "      <td>0.672</td>\n",
              "      <td>32</td>\n",
              "    </tr>\n",
              "    <tr>\n",
              "      <th>3</th>\n",
              "      <td>1</td>\n",
              "      <td>89</td>\n",
              "      <td>66</td>\n",
              "      <td>23</td>\n",
              "      <td>94</td>\n",
              "      <td>28.1</td>\n",
              "      <td>0.167</td>\n",
              "      <td>21</td>\n",
              "    </tr>\n",
              "    <tr>\n",
              "      <th>4</th>\n",
              "      <td>0</td>\n",
              "      <td>137</td>\n",
              "      <td>40</td>\n",
              "      <td>35</td>\n",
              "      <td>168</td>\n",
              "      <td>43.1</td>\n",
              "      <td>2.288</td>\n",
              "      <td>33</td>\n",
              "    </tr>\n",
              "  </tbody>\n",
              "</table>\n",
              "</div>"
            ],
            "text/plain": [
              "   Pregnancies  Glucose  BloodPressure  SkinThickness  Insulin   BMI  \\\n",
              "0            6      148             72             35        0  33.6   \n",
              "1            1       85             66             29        0  26.6   \n",
              "2            8      183             64              0        0  23.3   \n",
              "3            1       89             66             23       94  28.1   \n",
              "4            0      137             40             35      168  43.1   \n",
              "\n",
              "   DiabetesPedigreeFunction  Age  \n",
              "0                     0.627   50  \n",
              "1                     0.351   31  \n",
              "2                     0.672   32  \n",
              "3                     0.167   21  \n",
              "4                     2.288   33  "
            ]
          },
          "execution_count": 28,
          "metadata": {},
          "output_type": "execute_result"
        }
      ],
      "source": [
        "data.head()"
      ]
    },
    {
      "cell_type": "code",
      "execution_count": 29,
      "metadata": {},
      "outputs": [],
      "source": [
        "## convert the data into standard scaler form\n",
        "## mean = 0 and standard deviation = 1\n",
        "from sklearn.preprocessing import StandardScaler\n",
        "scaler = StandardScaler()\n",
        "dataScaled = scaler.fit_transform(data)"
      ]
    },
    {
      "cell_type": "code",
      "execution_count": 30,
      "metadata": {},
      "outputs": [
        {
          "data": {
            "text/html": [
              "<div>\n",
              "<style scoped>\n",
              "    .dataframe tbody tr th:only-of-type {\n",
              "        vertical-align: middle;\n",
              "    }\n",
              "\n",
              "    .dataframe tbody tr th {\n",
              "        vertical-align: top;\n",
              "    }\n",
              "\n",
              "    .dataframe thead th {\n",
              "        text-align: right;\n",
              "    }\n",
              "</style>\n",
              "<table border=\"1\" class=\"dataframe\">\n",
              "  <thead>\n",
              "    <tr style=\"text-align: right;\">\n",
              "      <th></th>\n",
              "      <th>0</th>\n",
              "      <th>1</th>\n",
              "      <th>2</th>\n",
              "      <th>3</th>\n",
              "      <th>4</th>\n",
              "      <th>5</th>\n",
              "      <th>6</th>\n",
              "      <th>7</th>\n",
              "    </tr>\n",
              "  </thead>\n",
              "  <tbody>\n",
              "    <tr>\n",
              "      <th>0</th>\n",
              "      <td>0.639947</td>\n",
              "      <td>0.848324</td>\n",
              "      <td>0.149641</td>\n",
              "      <td>0.907270</td>\n",
              "      <td>-0.692891</td>\n",
              "      <td>0.204013</td>\n",
              "      <td>0.468492</td>\n",
              "      <td>1.425995</td>\n",
              "    </tr>\n",
              "    <tr>\n",
              "      <th>1</th>\n",
              "      <td>-0.844885</td>\n",
              "      <td>-1.123396</td>\n",
              "      <td>-0.160546</td>\n",
              "      <td>0.530902</td>\n",
              "      <td>-0.692891</td>\n",
              "      <td>-0.684422</td>\n",
              "      <td>-0.365061</td>\n",
              "      <td>-0.190672</td>\n",
              "    </tr>\n",
              "    <tr>\n",
              "      <th>2</th>\n",
              "      <td>1.233880</td>\n",
              "      <td>1.943724</td>\n",
              "      <td>-0.263941</td>\n",
              "      <td>-1.288212</td>\n",
              "      <td>-0.692891</td>\n",
              "      <td>-1.103255</td>\n",
              "      <td>0.604397</td>\n",
              "      <td>-0.105584</td>\n",
              "    </tr>\n",
              "    <tr>\n",
              "      <th>3</th>\n",
              "      <td>-0.844885</td>\n",
              "      <td>-0.998208</td>\n",
              "      <td>-0.160546</td>\n",
              "      <td>0.154533</td>\n",
              "      <td>0.123302</td>\n",
              "      <td>-0.494043</td>\n",
              "      <td>-0.920763</td>\n",
              "      <td>-1.041549</td>\n",
              "    </tr>\n",
              "    <tr>\n",
              "      <th>4</th>\n",
              "      <td>-1.141852</td>\n",
              "      <td>0.504055</td>\n",
              "      <td>-1.504687</td>\n",
              "      <td>0.907270</td>\n",
              "      <td>0.765836</td>\n",
              "      <td>1.409746</td>\n",
              "      <td>5.484909</td>\n",
              "      <td>-0.020496</td>\n",
              "    </tr>\n",
              "  </tbody>\n",
              "</table>\n",
              "</div>"
            ],
            "text/plain": [
              "          0         1         2         3         4         5         6  \\\n",
              "0  0.639947  0.848324  0.149641  0.907270 -0.692891  0.204013  0.468492   \n",
              "1 -0.844885 -1.123396 -0.160546  0.530902 -0.692891 -0.684422 -0.365061   \n",
              "2  1.233880  1.943724 -0.263941 -1.288212 -0.692891 -1.103255  0.604397   \n",
              "3 -0.844885 -0.998208 -0.160546  0.154533  0.123302 -0.494043 -0.920763   \n",
              "4 -1.141852  0.504055 -1.504687  0.907270  0.765836  1.409746  5.484909   \n",
              "\n",
              "          7  \n",
              "0  1.425995  \n",
              "1 -0.190672  \n",
              "2 -0.105584  \n",
              "3 -1.041549  \n",
              "4 -0.020496  "
            ]
          },
          "execution_count": 30,
          "metadata": {},
          "output_type": "execute_result"
        }
      ],
      "source": [
        "dataScaled = pd.DataFrame(dataScaled)\n",
        "dataScaled.head()"
      ]
    },
    {
      "cell_type": "code",
      "execution_count": 31,
      "metadata": {},
      "outputs": [
        {
          "data": {
            "text/html": [
              "<div>\n",
              "<style scoped>\n",
              "    .dataframe tbody tr th:only-of-type {\n",
              "        vertical-align: middle;\n",
              "    }\n",
              "\n",
              "    .dataframe tbody tr th {\n",
              "        vertical-align: top;\n",
              "    }\n",
              "\n",
              "    .dataframe thead th {\n",
              "        text-align: right;\n",
              "    }\n",
              "</style>\n",
              "<table border=\"1\" class=\"dataframe\">\n",
              "  <thead>\n",
              "    <tr style=\"text-align: right;\">\n",
              "      <th></th>\n",
              "      <th>0</th>\n",
              "      <th>1</th>\n",
              "      <th>2</th>\n",
              "      <th>3</th>\n",
              "      <th>4</th>\n",
              "      <th>5</th>\n",
              "      <th>6</th>\n",
              "      <th>7</th>\n",
              "    </tr>\n",
              "  </thead>\n",
              "  <tbody>\n",
              "    <tr>\n",
              "      <th>count</th>\n",
              "      <td>7.680000e+02</td>\n",
              "      <td>7.680000e+02</td>\n",
              "      <td>7.680000e+02</td>\n",
              "      <td>7.680000e+02</td>\n",
              "      <td>7.680000e+02</td>\n",
              "      <td>7.680000e+02</td>\n",
              "      <td>7.680000e+02</td>\n",
              "      <td>7.680000e+02</td>\n",
              "    </tr>\n",
              "    <tr>\n",
              "      <th>mean</th>\n",
              "      <td>-6.476301e-17</td>\n",
              "      <td>-9.251859e-18</td>\n",
              "      <td>1.503427e-17</td>\n",
              "      <td>1.006140e-16</td>\n",
              "      <td>-3.006854e-17</td>\n",
              "      <td>2.590520e-16</td>\n",
              "      <td>2.451743e-16</td>\n",
              "      <td>1.931325e-16</td>\n",
              "    </tr>\n",
              "    <tr>\n",
              "      <th>std</th>\n",
              "      <td>1.000652e+00</td>\n",
              "      <td>1.000652e+00</td>\n",
              "      <td>1.000652e+00</td>\n",
              "      <td>1.000652e+00</td>\n",
              "      <td>1.000652e+00</td>\n",
              "      <td>1.000652e+00</td>\n",
              "      <td>1.000652e+00</td>\n",
              "      <td>1.000652e+00</td>\n",
              "    </tr>\n",
              "    <tr>\n",
              "      <th>min</th>\n",
              "      <td>-1.141852e+00</td>\n",
              "      <td>-3.783654e+00</td>\n",
              "      <td>-3.572597e+00</td>\n",
              "      <td>-1.288212e+00</td>\n",
              "      <td>-6.928906e-01</td>\n",
              "      <td>-4.060474e+00</td>\n",
              "      <td>-1.189553e+00</td>\n",
              "      <td>-1.041549e+00</td>\n",
              "    </tr>\n",
              "    <tr>\n",
              "      <th>25%</th>\n",
              "      <td>-8.448851e-01</td>\n",
              "      <td>-6.852363e-01</td>\n",
              "      <td>-3.673367e-01</td>\n",
              "      <td>-1.288212e+00</td>\n",
              "      <td>-6.928906e-01</td>\n",
              "      <td>-5.955785e-01</td>\n",
              "      <td>-6.889685e-01</td>\n",
              "      <td>-7.862862e-01</td>\n",
              "    </tr>\n",
              "    <tr>\n",
              "      <th>50%</th>\n",
              "      <td>-2.509521e-01</td>\n",
              "      <td>-1.218877e-01</td>\n",
              "      <td>1.496408e-01</td>\n",
              "      <td>1.545332e-01</td>\n",
              "      <td>-4.280622e-01</td>\n",
              "      <td>9.419788e-04</td>\n",
              "      <td>-3.001282e-01</td>\n",
              "      <td>-3.608474e-01</td>\n",
              "    </tr>\n",
              "    <tr>\n",
              "      <th>75%</th>\n",
              "      <td>6.399473e-01</td>\n",
              "      <td>6.057709e-01</td>\n",
              "      <td>5.632228e-01</td>\n",
              "      <td>7.190857e-01</td>\n",
              "      <td>4.120079e-01</td>\n",
              "      <td>5.847705e-01</td>\n",
              "      <td>4.662269e-01</td>\n",
              "      <td>6.602056e-01</td>\n",
              "    </tr>\n",
              "    <tr>\n",
              "      <th>max</th>\n",
              "      <td>3.906578e+00</td>\n",
              "      <td>2.444478e+00</td>\n",
              "      <td>2.734528e+00</td>\n",
              "      <td>4.921866e+00</td>\n",
              "      <td>6.652839e+00</td>\n",
              "      <td>4.455807e+00</td>\n",
              "      <td>5.883565e+00</td>\n",
              "      <td>4.063716e+00</td>\n",
              "    </tr>\n",
              "  </tbody>\n",
              "</table>\n",
              "</div>"
            ],
            "text/plain": [
              "                  0             1             2             3             4  \\\n",
              "count  7.680000e+02  7.680000e+02  7.680000e+02  7.680000e+02  7.680000e+02   \n",
              "mean  -6.476301e-17 -9.251859e-18  1.503427e-17  1.006140e-16 -3.006854e-17   \n",
              "std    1.000652e+00  1.000652e+00  1.000652e+00  1.000652e+00  1.000652e+00   \n",
              "min   -1.141852e+00 -3.783654e+00 -3.572597e+00 -1.288212e+00 -6.928906e-01   \n",
              "25%   -8.448851e-01 -6.852363e-01 -3.673367e-01 -1.288212e+00 -6.928906e-01   \n",
              "50%   -2.509521e-01 -1.218877e-01  1.496408e-01  1.545332e-01 -4.280622e-01   \n",
              "75%    6.399473e-01  6.057709e-01  5.632228e-01  7.190857e-01  4.120079e-01   \n",
              "max    3.906578e+00  2.444478e+00  2.734528e+00  4.921866e+00  6.652839e+00   \n",
              "\n",
              "                  5             6             7  \n",
              "count  7.680000e+02  7.680000e+02  7.680000e+02  \n",
              "mean   2.590520e-16  2.451743e-16  1.931325e-16  \n",
              "std    1.000652e+00  1.000652e+00  1.000652e+00  \n",
              "min   -4.060474e+00 -1.189553e+00 -1.041549e+00  \n",
              "25%   -5.955785e-01 -6.889685e-01 -7.862862e-01  \n",
              "50%    9.419788e-04 -3.001282e-01 -3.608474e-01  \n",
              "75%    5.847705e-01  4.662269e-01  6.602056e-01  \n",
              "max    4.455807e+00  5.883565e+00  4.063716e+00  "
            ]
          },
          "execution_count": 31,
          "metadata": {},
          "output_type": "execute_result"
        }
      ],
      "source": [
        "dataScaled.describe()"
      ]
    },
    {
      "cell_type": "code",
      "execution_count": 32,
      "metadata": {},
      "outputs": [
        {
          "data": {
            "text/plain": [
              "(768, 8)"
            ]
          },
          "execution_count": 32,
          "metadata": {},
          "output_type": "execute_result"
        }
      ],
      "source": [
        "dataScaled.shape"
      ]
    },
    {
      "cell_type": "markdown",
      "metadata": {},
      "source": [
        "**2. Covariance Matrix**"
      ]
    },
    {
      "cell_type": "code",
      "execution_count": 33,
      "metadata": {},
      "outputs": [
        {
          "data": {
            "text/html": [
              "<div>\n",
              "<style scoped>\n",
              "    .dataframe tbody tr th:only-of-type {\n",
              "        vertical-align: middle;\n",
              "    }\n",
              "\n",
              "    .dataframe tbody tr th {\n",
              "        vertical-align: top;\n",
              "    }\n",
              "\n",
              "    .dataframe thead th {\n",
              "        text-align: right;\n",
              "    }\n",
              "</style>\n",
              "<table border=\"1\" class=\"dataframe\">\n",
              "  <thead>\n",
              "    <tr style=\"text-align: right;\">\n",
              "      <th></th>\n",
              "      <th>0</th>\n",
              "      <th>1</th>\n",
              "      <th>2</th>\n",
              "      <th>3</th>\n",
              "      <th>4</th>\n",
              "      <th>5</th>\n",
              "      <th>6</th>\n",
              "      <th>7</th>\n",
              "    </tr>\n",
              "  </thead>\n",
              "  <tbody>\n",
              "    <tr>\n",
              "      <th>0</th>\n",
              "      <td>1.001304</td>\n",
              "      <td>0.129627</td>\n",
              "      <td>0.141466</td>\n",
              "      <td>-0.081778</td>\n",
              "      <td>-0.073630</td>\n",
              "      <td>0.017706</td>\n",
              "      <td>-0.033566</td>\n",
              "      <td>0.545051</td>\n",
              "    </tr>\n",
              "    <tr>\n",
              "      <th>1</th>\n",
              "      <td>0.129627</td>\n",
              "      <td>1.001304</td>\n",
              "      <td>0.152789</td>\n",
              "      <td>0.057403</td>\n",
              "      <td>0.331789</td>\n",
              "      <td>0.221359</td>\n",
              "      <td>0.137516</td>\n",
              "      <td>0.263858</td>\n",
              "    </tr>\n",
              "    <tr>\n",
              "      <th>2</th>\n",
              "      <td>0.141466</td>\n",
              "      <td>0.152789</td>\n",
              "      <td>1.001304</td>\n",
              "      <td>0.207641</td>\n",
              "      <td>0.089049</td>\n",
              "      <td>0.282173</td>\n",
              "      <td>0.041319</td>\n",
              "      <td>0.239840</td>\n",
              "    </tr>\n",
              "    <tr>\n",
              "      <th>3</th>\n",
              "      <td>-0.081778</td>\n",
              "      <td>0.057403</td>\n",
              "      <td>0.207641</td>\n",
              "      <td>1.001304</td>\n",
              "      <td>0.437352</td>\n",
              "      <td>0.393085</td>\n",
              "      <td>0.184167</td>\n",
              "      <td>-0.114119</td>\n",
              "    </tr>\n",
              "    <tr>\n",
              "      <th>4</th>\n",
              "      <td>-0.073630</td>\n",
              "      <td>0.331789</td>\n",
              "      <td>0.089049</td>\n",
              "      <td>0.437352</td>\n",
              "      <td>1.001304</td>\n",
              "      <td>0.198117</td>\n",
              "      <td>0.185312</td>\n",
              "      <td>-0.042218</td>\n",
              "    </tr>\n",
              "    <tr>\n",
              "      <th>5</th>\n",
              "      <td>0.017706</td>\n",
              "      <td>0.221359</td>\n",
              "      <td>0.282173</td>\n",
              "      <td>0.393085</td>\n",
              "      <td>0.198117</td>\n",
              "      <td>1.001304</td>\n",
              "      <td>0.140830</td>\n",
              "      <td>0.036289</td>\n",
              "    </tr>\n",
              "    <tr>\n",
              "      <th>6</th>\n",
              "      <td>-0.033566</td>\n",
              "      <td>0.137516</td>\n",
              "      <td>0.041319</td>\n",
              "      <td>0.184167</td>\n",
              "      <td>0.185312</td>\n",
              "      <td>0.140830</td>\n",
              "      <td>1.001304</td>\n",
              "      <td>0.033605</td>\n",
              "    </tr>\n",
              "    <tr>\n",
              "      <th>7</th>\n",
              "      <td>0.545051</td>\n",
              "      <td>0.263858</td>\n",
              "      <td>0.239840</td>\n",
              "      <td>-0.114119</td>\n",
              "      <td>-0.042218</td>\n",
              "      <td>0.036289</td>\n",
              "      <td>0.033605</td>\n",
              "      <td>1.001304</td>\n",
              "    </tr>\n",
              "  </tbody>\n",
              "</table>\n",
              "</div>"
            ],
            "text/plain": [
              "          0         1         2         3         4         5         6  \\\n",
              "0  1.001304  0.129627  0.141466 -0.081778 -0.073630  0.017706 -0.033566   \n",
              "1  0.129627  1.001304  0.152789  0.057403  0.331789  0.221359  0.137516   \n",
              "2  0.141466  0.152789  1.001304  0.207641  0.089049  0.282173  0.041319   \n",
              "3 -0.081778  0.057403  0.207641  1.001304  0.437352  0.393085  0.184167   \n",
              "4 -0.073630  0.331789  0.089049  0.437352  1.001304  0.198117  0.185312   \n",
              "5  0.017706  0.221359  0.282173  0.393085  0.198117  1.001304  0.140830   \n",
              "6 -0.033566  0.137516  0.041319  0.184167  0.185312  0.140830  1.001304   \n",
              "7  0.545051  0.263858  0.239840 -0.114119 -0.042218  0.036289  0.033605   \n",
              "\n",
              "          7  \n",
              "0  0.545051  \n",
              "1  0.263858  \n",
              "2  0.239840  \n",
              "3 -0.114119  \n",
              "4 -0.042218  \n",
              "5  0.036289  \n",
              "6  0.033605  \n",
              "7  1.001304  "
            ]
          },
          "execution_count": 33,
          "metadata": {},
          "output_type": "execute_result"
        }
      ],
      "source": [
        "covarianceMatrix = dataScaled.T @ dataScaled / 767\n",
        "covarianceMatrix"
      ]
    },
    {
      "cell_type": "markdown",
      "metadata": {},
      "source": [
        "**3. Evaluate the EigenValues and EigenVectors using the Covariance Matrix**"
      ]
    },
    {
      "cell_type": "code",
      "execution_count": 34,
      "metadata": {},
      "outputs": [],
      "source": [
        "eigenValues, eigenVectors = np.linalg.eig(covarianceMatrix)"
      ]
    },
    {
      "cell_type": "code",
      "execution_count": 35,
      "metadata": {},
      "outputs": [
        {
          "data": {
            "text/plain": [
              "array([2.09711056, 1.73346726, 0.42036353, 0.40498938, 0.68351839,\n",
              "       0.76333832, 0.87667054, 1.03097228])"
            ]
          },
          "execution_count": 35,
          "metadata": {},
          "output_type": "execute_result"
        }
      ],
      "source": [
        "## eigenValues = number of features\n",
        "eigenValues"
      ]
    },
    {
      "cell_type": "code",
      "execution_count": 36,
      "metadata": {},
      "outputs": [
        {
          "data": {
            "text/plain": [
              "array([[-0.1284321 , -0.59378583, -0.58879003,  0.11784098, -0.19359817,\n",
              "         0.47560573, -0.08069115,  0.01308692],\n",
              "       [-0.39308257, -0.17402908, -0.06015291,  0.45035526, -0.09416176,\n",
              "        -0.46632804,  0.40432871, -0.46792282],\n",
              "       [-0.36000261, -0.18389207, -0.19211793, -0.01129554,  0.6341159 ,\n",
              "        -0.32795306, -0.05598649,  0.53549442],\n",
              "       [-0.43982428,  0.33196534,  0.28221253,  0.5662838 , -0.00958944,\n",
              "         0.48786206, -0.03797608,  0.2376738 ],\n",
              "       [-0.43502617,  0.25078106, -0.13200992, -0.54862138,  0.27065061,\n",
              "         0.34693481,  0.34994376, -0.33670893],\n",
              "       [-0.45194134,  0.1009598 , -0.03536644, -0.34151764, -0.68537218,\n",
              "        -0.25320376, -0.05364595,  0.36186463],\n",
              "       [-0.27061144,  0.122069  , -0.08609107, -0.00825873,  0.08578409,\n",
              "        -0.11981049, -0.8336801 , -0.43318905],\n",
              "       [-0.19802707, -0.62058853,  0.71208542, -0.21166198,  0.03335717,\n",
              "         0.10928996, -0.0712006 , -0.07524755]])"
            ]
          },
          "execution_count": 36,
          "metadata": {},
          "output_type": "execute_result"
        }
      ],
      "source": [
        "eigenVectors"
      ]
    },
    {
      "cell_type": "code",
      "execution_count": 37,
      "metadata": {},
      "outputs": [
        {
          "data": {
            "text/plain": [
              "0     -1.068503\n",
              "1      1.121683\n",
              "2      0.396477\n",
              "3      1.115781\n",
              "4     -2.359334\n",
              "         ...   \n",
              "763   -1.562085\n",
              "764    0.100405\n",
              "765    0.283475\n",
              "766    1.060324\n",
              "767    0.839892\n",
              "Length: 768, dtype: float64"
            ]
          },
          "execution_count": 37,
          "metadata": {},
          "output_type": "execute_result"
        }
      ],
      "source": [
        "## PC1 data\n",
        "PC1_data = dataScaled @ eigenVectors[:, 0]\n",
        "PC1_data"
      ]
    },
    {
      "cell_type": "code",
      "execution_count": 38,
      "metadata": {},
      "outputs": [
        {
          "data": {
            "text/plain": [
              "0     -1.234895\n",
              "1      0.733852\n",
              "2     -1.595876\n",
              "3      1.271241\n",
              "4      2.184819\n",
              "         ...   \n",
              "763   -1.923150\n",
              "764    0.614181\n",
              "765   -0.097065\n",
              "766   -0.837062\n",
              "767    1.151755\n",
              "Length: 768, dtype: float64"
            ]
          },
          "execution_count": 38,
          "metadata": {},
          "output_type": "execute_result"
        }
      ],
      "source": [
        "## PC2 data\n",
        "PC2_data = dataScaled @ eigenVectors[:, 1]\n",
        "PC2_data"
      ]
    },
    {
      "cell_type": "code",
      "execution_count": 39,
      "metadata": {},
      "outputs": [
        {
          "data": {
            "text/plain": [
              "0     -0.095930\n",
              "1      0.712938\n",
              "2     -1.760678\n",
              "3      0.663729\n",
              "4     -2.963107\n",
              "         ...   \n",
              "763    0.867408\n",
              "764    0.764353\n",
              "765    0.077192\n",
              "766   -0.425030\n",
              "767    1.009178\n",
              "Length: 768, dtype: float64"
            ]
          },
          "execution_count": 39,
          "metadata": {},
          "output_type": "execute_result"
        }
      ],
      "source": [
        "## PC3 data\n",
        "PC3_data = dataScaled @ eigenVectors[:, 7]\n",
        "PC3_data"
      ]
    },
    {
      "cell_type": "markdown",
      "metadata": {},
      "source": [
        "**PCA Implementation via the sklearn library**"
      ]
    },
    {
      "cell_type": "code",
      "execution_count": 40,
      "metadata": {},
      "outputs": [
        {
          "data": {
            "text/plain": [
              "array([[ 1.06850273,  1.23489499, -0.09592984],\n",
              "       [-1.12168331, -0.73385167,  0.71293816],\n",
              "       [-0.39647671,  1.59587594, -1.76067844],\n",
              "       ...,\n",
              "       [-0.28347525,  0.09706503,  0.07719194],\n",
              "       [-1.06032431,  0.83706234, -0.42503045],\n",
              "       [-0.83989172, -1.15175485,  1.00917817]])"
            ]
          },
          "execution_count": 40,
          "metadata": {},
          "output_type": "execute_result"
        }
      ],
      "source": [
        "from sklearn.decomposition import PCA\n",
        "pca = PCA(n_components=3)\n",
        "pca.fit_transform(dataScaled)"
      ]
    },
    {
      "cell_type": "code",
      "execution_count": 41,
      "metadata": {},
      "outputs": [],
      "source": [
        "from sklearn.decomposition import PCA\n",
        "pca = PCA()\n",
        "principalComponent = pca.fit_transform(dataScaled)"
      ]
    },
    {
      "cell_type": "code",
      "execution_count": 42,
      "metadata": {},
      "outputs": [
        {
          "data": {
            "text/plain": [
              "array([0.26179749, 0.21640127, 0.12870373, 0.10944113, 0.09529305,\n",
              "       0.08532855, 0.05247702, 0.05055776])"
            ]
          },
          "execution_count": 42,
          "metadata": {},
          "output_type": "execute_result"
        }
      ],
      "source": [
        "pca.explained_variance_ratio_"
      ]
    },
    {
      "cell_type": "markdown",
      "metadata": {},
      "source": [
        "`pca.explained_variance_ratio_` is an attribute of the Principal Component Analysis (PCA) object in Python's `scikit-learn` library. It provides a measure of how much variance in the data is captured by each principal component after applying PCA. Specifically, it returns an array that represents the proportion (or percentage) of the total variance explained by each of the selected principal components.\n",
        "\n",
        "### Key Points:\n",
        "- **Variance**: In the context of PCA, variance refers to how spread out the data is along the principal component axes.\n",
        "- **Principal Components**: These are the new axes (or directions) in the data that maximize the variance after transforming the original features.\n",
        "- **Explained Variance Ratio**: Each principal component explains a certain amount of the variance in the dataset. `pca.explained_variance_ratio_` tells you how much of the total variance is explained by each component.\n",
        "\n",
        "### Example:\n",
        "\n",
        "Suppose you perform PCA on a dataset with 5 features, and you select 2 principal components. After running the PCA, you get the following result:\n",
        "\n",
        "```python\n",
        "pca.explained_variance_ratio_\n",
        "```\n",
        "\n",
        "The output might look something like this:\n",
        "```python\n",
        "array([0.6, 0.3])\n",
        "```\n",
        "\n",
        "This tells us:\n",
        "- The first principal component explains 60% of the variance in the dataset.\n",
        "- The second principal component explains 30% of the variance.\n",
        "  \n",
        "Together, the two components explain 90% of the total variance in the data.\n",
        "\n",
        "### Usefulness:\n",
        "- **Dimensionality Reduction**: `explained_variance_ratio_` helps you decide how many components to keep by showing the variance explained by each. For example, you might decide to keep enough components to explain 95% of the variance.\n",
        "- **Model Interpretation**: It helps to understand the importance of each principal component and how well they capture the underlying structure of the data.\n",
        "\n",
        "In summary, `pca.explained_variance_ratio_` tells you how much of the variability in your data is captured by each of the principal components and helps in determining the optimal number of components to retain."
      ]
    },
    {
      "cell_type": "code",
      "execution_count": 43,
      "metadata": {},
      "outputs": [
        {
          "data": {
            "image/png": "[encoded data removed]",
            "text/plain": [
              "<Figure size 640x480 with 1 Axes>"
            ]
          },
          "metadata": {},
          "output_type": "display_data"
        }
      ],
      "source": [
        "import matplotlib.pyplot as plt\n",
        "plt.plot(np.cumsum(pca.explained_variance_ratio_))\n",
        "plt.xlabel(\"Dimensions\")\n",
        "plt.ylabel(\"Explained Variance Ratio\")\n",
        "plt.savefig(\"ScreenPlot.png\")\n",
        "plt.show()"
      ]
    }
  ],
  "metadata": {
    "colab": {
      "provenance": []
    },
    "kernelspec": {
      "display_name": "Python 3",
      "name": "python3"
    },
    "language_info": {
      "codemirror_mode": {
        "name": "ipython",
        "version": 3
      },
      "file_extension": ".py",
      "mimetype": "text/x-python",
      "name": "python",
      "nbconvert_exporter": "python",
      "pygments_lexer": "ipython3",
      "version": "3.10.13"
    }
  },
  "nbformat": 4,
  "nbformat_minor": 0
}
