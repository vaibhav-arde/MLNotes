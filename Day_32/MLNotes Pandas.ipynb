{
 "cells": [
  {
   "cell_type": "markdown",
   "metadata": {},
   "source": [
    "## **Let's use Leetcode**\n",
    "\n",
    "If you're on your journey to mastering data manipulation, especially using **Pandas**, I've got something exciting for you. One of the best ways to sharpen your skills is by solving real-world problems, and **LeetCode** has introduced an excellent **Introduction to Pandas Study Plan** that I highly recommend you dive into. You can check it out [here](https://leetcode.com/studyplan/introduction-to-pandas/).\n",
    "\n",
    "Why should you spend time solving these problems?\n",
    "\n",
    "### 1. **Strengthen Your Pandas Skills**\n",
    "Pandas is the go-to library for data manipulation in Python, and it's essential for anyone working in data science. This study plan will help you build a solid foundation in Pandas, from basic data manipulation to more advanced operations like grouping, merging, and reshaping data. You’ll face challenges that mimic real-world tasks, making it a practical learning experience.\n",
    "\n",
    "### 2. **Learn By Doing**\n",
    "Reading tutorials and watching videos is great, but nothing beats hands-on problem-solving. As you solve each problem, you'll become more confident in applying Pandas functions and writing efficient code. The interactive coding platform on LeetCode also provides instant feedback, which helps in refining your approach and learning better practices.\n",
    "\n",
    "### 3. **Prepare for Interviews**\n",
    "Pandas-related questions are common in data science and data analyst interviews. By tackling these problems, you'll be preparing yourself for common data challenges asked in technical interviews. It’s a double win — you're learning and also gearing up for interviews!\n",
    "\n",
    "### 4. **Build Problem-Solving Mindset**\n",
    "LeetCode is known for its vast collection of problems that not only focus on technical skills but also encourage a strong problem-solving mindset. As you progress, you’ll notice an improvement in your ability to break down a problem, figure out the best approach, and implement a solution efficiently — all key skills for a successful data science career.\n",
    "\n",
    "---\n",
    "\n",
    "### **I’ve Got Solutions to Share!**\n",
    "To give you a head start, I’ve already solved a few problems from this study plan, and I’m excited to share my solutions with you. I’ve worked through some interesting challenges and would be happy to discuss the thought process and approaches I used. If you're stuck on a problem, feel free to reach out or compare your solution with mine — it’s a great way to learn from different perspectives.\n",
    "\n",
    "---\n",
    "\n",
    "### **Take Action!**\n",
    "So, if you want to strengthen your Pandas knowledge while boosting your problem-solving skills, head over to the [LeetCode Pandas Study Plan](https://leetcode.com/studyplan/introduction-to-pandas/) and start solving. Whether you’re a beginner or someone looking to refresh your skills, this is a fantastic resource.\n",
    "\n",
    "And remember, it’s all about consistency. Even if you solve just one problem a day, that’s progress. Stay patient, stay curious, and before you know it, you’ll be much more confident in handling data using Pandas.\n"
   ]
  },
  {
   "cell_type": "markdown",
   "metadata": {},
   "source": [
    "Q1 : https://leetcode.com/problems/create-a-dataframe-from-list/description/?envType=study-plan-v2&envId=introduction-to-pandas&lang=pythondata"
   ]
  },
  {
   "cell_type": "code",
   "execution_count": null,
   "metadata": {},
   "outputs": [],
   "source": [
    "import pandas as pd\n",
    "\n",
    "def createDataframe(student_data: List[List[int]]) -> pd.DataFrame:\n",
    "    return pd.DataFrame(student_data, columns=['student_id', 'age'])"
   ]
  },
  {
   "cell_type": "markdown",
   "metadata": {},
   "source": [
    "Q2 : https://leetcode.com/problems/get-the-size-of-a-dataframe/?envType=study-plan-v2&envId=introduction-to-pandas&lang=pythondata"
   ]
  },
  {
   "cell_type": "code",
   "execution_count": null,
   "metadata": {},
   "outputs": [],
   "source": [
    "import pandas as pd\n",
    "\n",
    "def getDataframeSize(players: pd.DataFrame) -> List[int]:\n",
    "    row_num, column_num = players.shape\n",
    "    return [row_num, column_num]"
   ]
  },
  {
   "cell_type": "markdown",
   "metadata": {},
   "source": [
    "Q3: https://leetcode.com/problems/display-the-first-three-rows/?envType=study-plan-v2&envId=introduction-to-pandas&lang=pythondata"
   ]
  },
  {
   "cell_type": "code",
   "execution_count": null,
   "metadata": {},
   "outputs": [],
   "source": [
    "import pandas as pd\n",
    "\n",
    "def selectFirstRows(employees: pd.DataFrame) -> pd.DataFrame:\n",
    "    return employees.head(3)"
   ]
  },
  {
   "cell_type": "markdown",
   "metadata": {},
   "source": [
    "Q4 : https://leetcode.com/problems/select-data/?envType=study-plan-v2&envId=introduction-to-pandas&lang=pythondata"
   ]
  },
  {
   "cell_type": "code",
   "execution_count": null,
   "metadata": {},
   "outputs": [],
   "source": [
    "import pandas as pd\n",
    "\n",
    "def selectData(students: pd.DataFrame) -> pd.DataFrame:\n",
    "    return students.loc[students['student_id']==101, ['name', 'age']]"
   ]
  },
  {
   "cell_type": "markdown",
   "metadata": {},
   "source": [
    "Q5 : https://leetcode.com/problems/create-a-new-column/?envType=study-plan-v2&envId=introduction-to-pandas&lang=pythondata"
   ]
  },
  {
   "cell_type": "code",
   "execution_count": null,
   "metadata": {},
   "outputs": [],
   "source": [
    "import pandas as pd\n",
    "\n",
    "def createBonusColumn(employees: pd.DataFrame) -> pd.DataFrame:\n",
    "    employees['bonus'] = employees['salary']*2\n",
    "    return employees"
   ]
  },
  {
   "cell_type": "markdown",
   "metadata": {},
   "source": [
    "Q6 : https://leetcode.com/problems/drop-duplicate-rows/?envType=study-plan-v2&envId=introduction-to-pandas&lang=pythondata"
   ]
  },
  {
   "cell_type": "code",
   "execution_count": null,
   "metadata": {},
   "outputs": [],
   "source": [
    "import pandas as pd\n",
    "\n",
    "def dropDuplicateEmails(customers: pd.DataFrame) -> pd.DataFrame:\n",
    "    return customers.drop_duplicates(subset = 'email')"
   ]
  },
  {
   "cell_type": "markdown",
   "metadata": {},
   "source": [
    "Q7 : https://leetcode.com/problems/drop-missing-data/?envType=study-plan-v2&envId=introduction-to-pandas&lang=pythondata"
   ]
  },
  {
   "cell_type": "code",
   "execution_count": null,
   "metadata": {},
   "outputs": [],
   "source": [
    "import pandas as pd\n",
    "\n",
    "def dropMissingData(students: pd.DataFrame) -> pd.DataFrame:\n",
    "    return students.dropna(subset=\"name\")"
   ]
  },
  {
   "cell_type": "markdown",
   "metadata": {},
   "source": [
    "Q8 : https://leetcode.com/problems/modify-columns/?envType=study-plan-v2&envId=introduction-to-pandas&lang=pythondata"
   ]
  },
  {
   "cell_type": "code",
   "execution_count": null,
   "metadata": {},
   "outputs": [],
   "source": [
    "import pandas as pd\n",
    "\n",
    "def modifySalaryColumn(employees: pd.DataFrame) -> pd.DataFrame:\n",
    "    employees['salary']= employees['salary']*2\n",
    "    return employees"
   ]
  },
  {
   "cell_type": "markdown",
   "metadata": {},
   "source": [
    "Q9 : https://leetcode.com/problems/rename-columns/?envType=study-plan-v2&envId=introduction-to-pandas&lang=pythondata"
   ]
  },
  {
   "cell_type": "code",
   "execution_count": null,
   "metadata": {},
   "outputs": [],
   "source": [
    "import pandas as pd\n",
    "\n",
    "def renameColumns(students: pd.DataFrame) -> pd.DataFrame:\n",
    "    return students.rename(columns={'id': 'student_id', 'first':'first_name', 'last':'last_name', 'age':'age_in_years'})\n",
    "    "
   ]
  },
  {
   "cell_type": "markdown",
   "metadata": {},
   "source": [
    "Q10 : https://leetcode.com/problems/change-data-type/?envType=study-plan-v2&envId=introduction-to-pandas&lang=pythondata"
   ]
  },
  {
   "cell_type": "code",
   "execution_count": null,
   "metadata": {},
   "outputs": [],
   "source": [
    "import pandas as pd\n",
    "\n",
    "def changeDatatype(students: pd.DataFrame) -> pd.DataFrame:\n",
    "    students['grade'] = students['grade'].astype({\"grade\" : \"int\"})\n",
    "    return students"
   ]
  },
  {
   "cell_type": "markdown",
   "metadata": {},
   "source": [
    "Q11 : https://leetcode.com/problems/fill-missing-data/?envType=study-plan-v2&envId=introduction-to-pandas&lang=pythondata"
   ]
  },
  {
   "cell_type": "code",
   "execution_count": null,
   "metadata": {},
   "outputs": [],
   "source": [
    "import pandas as pd\n",
    "\n",
    "def fillMissingValues(products: pd.DataFrame) -> pd.DataFrame:\n",
    "    products['quantity'] = products['quantity'].fillna(0)\n",
    "    return products"
   ]
  },
  {
   "cell_type": "markdown",
   "metadata": {},
   "source": [
    "Q12 : https://leetcode.com/problems/reshape-data-concatenate/?envType=study-plan-v2&envId=introduction-to-pandas&lang=pythondata"
   ]
  },
  {
   "cell_type": "code",
   "execution_count": null,
   "metadata": {},
   "outputs": [],
   "source": [
    "import pandas as pd\n",
    "\n",
    "def concatenateTables(df1: pd.DataFrame, df2: pd.DataFrame) -> pd.DataFrame:\n",
    "    return pd.concat([df1,df2])"
   ]
  },
  {
   "cell_type": "markdown",
   "metadata": {},
   "source": [
    "Q13 : https://leetcode.com/problems/reshape-data-pivot/?envType=study-plan-v2&envId=introduction-to-pandas&lang=pythondata"
   ]
  },
  {
   "cell_type": "code",
   "execution_count": null,
   "metadata": {},
   "outputs": [],
   "source": [
    "import pandas as pd\n",
    "\n",
    "def pivotTable(weather: pd.DataFrame) -> pd.DataFrame:\n",
    "    pWeather = weather.pivot(index='month', columns='city', values='temperature')\n",
    "    return pWeather"
   ]
  },
  {
   "cell_type": "markdown",
   "metadata": {},
   "source": [
    "Q14: https://leetcode.com/problems/reshape-data-melt/?envType=study-plan-v2&envId=introduction-to-pandas&lang=pythondata"
   ]
  },
  {
   "cell_type": "code",
   "execution_count": null,
   "metadata": {},
   "outputs": [],
   "source": [
    "import pandas as pd\n",
    "\n",
    "def meltTable(report: pd.DataFrame) -> pd.DataFrame:\n",
    "    meltdf = pd.melt(report, id_vars=['product'], var_name = 'quarter', value_name ='sales')\n",
    "    return meltdf"
   ]
  },
  {
   "cell_type": "markdown",
   "metadata": {},
   "source": [
    "Q15 : https://leetcode.com/problems/method-chaining/?envType=study-plan-v2&envId=introduction-to-pandas&lang=pythondata"
   ]
  },
  {
   "cell_type": "code",
   "execution_count": null,
   "metadata": {},
   "outputs": [],
   "source": [
    "import pandas as pd\n",
    "\n",
    "def findHeavyAnimals(animals: pd.DataFrame) -> pd.DataFrame:\n",
    "    heavy_animals = animals[animals['weight'] > 100].sort_values(by='weight', ascending=False)\n",
    "    return pd.DataFrame(heavy_animals['name'])"
   ]
  },
  {
   "cell_type": "markdown",
   "metadata": {},
   "source": [
    "30 Day Challenge"
   ]
  },
  {
   "cell_type": "markdown",
   "metadata": {},
   "source": []
  },
  {
   "cell_type": "markdown",
   "metadata": {},
   "source": [
    "Q : https://leetcode.com/problems/big-countries/submissions/1395277988/?envType=study-plan-v2&envId=30-days-of-pandas&lang=pythondata"
   ]
  },
  {
   "cell_type": "code",
   "execution_count": null,
   "metadata": {},
   "outputs": [],
   "source": [
    "import pandas as pd\n",
    "\n",
    "def big_countries(world: pd.DataFrame) -> pd.DataFrame:\n",
    "    return world[(world.area >=3000000) | (world.population >= 25000000)][['name', 'population', 'area' ]]"
   ]
  },
  {
   "cell_type": "markdown",
   "metadata": {},
   "source": [
    "Q : https://leetcode.com/problems/recyclable-and-low-fat-products/?envType=study-plan-v2&envId=30-days-of-pandas&lang=pythondata"
   ]
  },
  {
   "cell_type": "code",
   "execution_count": null,
   "metadata": {},
   "outputs": [],
   "source": [
    "import pandas as pd\n",
    "\n",
    "def find_products(products: pd.DataFrame) -> pd.DataFrame:\n",
    "    return products[(products.low_fats == 'Y') & (products.recyclable == 'Y')][['product_id']]"
   ]
  },
  {
   "cell_type": "markdown",
   "metadata": {},
   "source": [
    "Q : https://leetcode.com/problems/customers-who-never-order/description/?envType=study-plan-v2&envId=30-days-of-pandas&lang=pythondata"
   ]
  },
  {
   "cell_type": "code",
   "execution_count": null,
   "metadata": {},
   "outputs": [],
   "source": [
    "import pandas as pd\n",
    "\n",
    "def find_customers(customers: pd.DataFrame, orders: pd.DataFrame) -> pd.DataFrame:\n",
    "    cust = customers[~customers['id'].isin(orders['customerId'])][['name']]\n",
    "    return cust.rename(columns = {\"name\":'Customers'})"
   ]
  },
  {
   "cell_type": "markdown",
   "metadata": {},
   "source": [
    "Q : https://leetcode.com/problems/article-views-i/submissions/1395339239/?envType=study-plan-v2&envId=30-days-of-pandas&lang=pythondata"
   ]
  },
  {
   "cell_type": "code",
   "execution_count": null,
   "metadata": {},
   "outputs": [],
   "source": [
    "import pandas as pd\n",
    "\n",
    "def article_views(views: pd.DataFrame) -> pd.DataFrame:\n",
    "    sameAuthor = views[(views['author_id']==views['viewer_id'])].sort_values(by='viewer_id', ascending=True)[['viewer_id']].drop_duplicates()\n",
    "    return sameAuthor.rename(columns={'viewer_id': 'id'})"
   ]
  },
  {
   "cell_type": "markdown",
   "metadata": {},
   "source": [
    "Q: https://leetcode.com/problems/invalid-tweets/?envType=study-plan-v2&envId=30-days-of-pandas&lang=pythondata"
   ]
  },
  {
   "cell_type": "code",
   "execution_count": null,
   "metadata": {},
   "outputs": [],
   "source": [
    "import pandas as pd\n",
    "\n",
    "def invalid_tweets(tweets: pd.DataFrame) -> pd.DataFrame:\n",
    "    return tweets[tweets['content'].str.len() >15][['tweet_id']]"
   ]
  },
  {
   "cell_type": "markdown",
   "metadata": {},
   "source": [
    "Q : https://leetcode.com/problems/calculate-special-bonus/description/?envType=study-plan-v2&envId=30-days-of-pandas&lang=pythondata"
   ]
  },
  {
   "cell_type": "code",
   "execution_count": null,
   "metadata": {},
   "outputs": [],
   "source": [
    "import pandas as pd\n",
    "\n",
    "def calculate_special_bonus(employees: pd.DataFrame) -> pd.DataFrame:\n",
    "    # Apply the bonus condition to each row\n",
    "    employees['bonus'] = employees.apply(\n",
    "        lambda row: row['salary'] if row['employee_id'] % 2 == 1 and not row['name'].startswith('M') else 0, axis=1\n",
    "    )\n",
    "    \n",
    "    # Select only the employee_id and bonus columns\n",
    "    result = employees[['employee_id', 'bonus']].sort_values(by='employee_id')\n",
    "    \n",
    "    return result"
   ]
  },
  {
   "cell_type": "markdown",
   "metadata": {},
   "source": [
    "Q : https://leetcode.com/problems/fix-names-in-a-table/description/?envType=study-plan-v2&envId=30-days-of-pandas&lang=pythondata"
   ]
  },
  {
   "cell_type": "code",
   "execution_count": null,
   "metadata": {},
   "outputs": [],
   "source": [
    "import pandas as pd\n",
    "\n",
    "def fix_names(users: pd.DataFrame) -> pd.DataFrame:\n",
    "    users['name'] = users['name'].str.capitalize()\n",
    "    return users.sort_values('user_id')"
   ]
  },
  {
   "cell_type": "markdown",
   "metadata": {},
   "source": [
    "Q : https://leetcode.com/problems/find-users-with-valid-e-mails/description/?envType=study-plan-v2&envId=30-days-of-pandas&lang=pythondata"
   ]
  },
  {
   "cell_type": "code",
   "execution_count": null,
   "metadata": {},
   "outputs": [],
   "source": [
    "import pandas as pd\n",
    "\n",
    "def valid_emails(users: pd.DataFrame) -> pd.DataFrame:\n",
    "    return users[users['mail'].str.match(r\"^[a-zA-Z][a-zA-Z0-9_.-]*\\@leetcode\\.com$\")]\n",
    "    "
   ]
  },
  {
   "cell_type": "markdown",
   "metadata": {},
   "source": [
    "Q : https://leetcode.com/problems/patients-with-a-condition/description/?envType=study-plan-v2&envId=30-days-of-pandas&lang=pythondata"
   ]
  },
  {
   "cell_type": "code",
   "execution_count": null,
   "metadata": {},
   "outputs": [],
   "source": [
    "import pandas as pd\n",
    "\n",
    "def find_patients(patients: pd.DataFrame) -> pd.DataFrame:\n",
    "    return patients[patients['conditions'].str.contains(r\"\\bDIAB1\")]"
   ]
  },
  {
   "cell_type": "markdown",
   "metadata": {},
   "source": [
    "### Question:\n",
    "\n",
    "You are given a dataset with two columns: `file_name` and `content`. Each row represents a file with its name and the textual content within that file. You need to determine how many files contain at least one occurrence of the words **\"bull\"** and **\"bear\"** as **standalone words**.\n",
    "\n",
    "### Task:\n",
    "\n",
    "1. Write a solution to count the number of files that have at least one standalone occurrence of the word **\"bull\"** and at least one standalone occurrence of the word **\"bear\"**, respectively. \n",
    "   \n",
    "   - A word is considered standalone if it has spaces or punctuation marks on both sides, or it appears at the beginning or end of the content without being part of another word. For example, the word \"bull\" in \"bull market\" should be counted, but not in \"bullish\". Similarly, count \"bear\" as a standalone word, but not \"bearish\".\n",
    "   \n",
    "2. The output should return a table with two rows: \n",
    "   - One row for the word **\"bull\"**, showing how many files contain the word as a standalone occurrence.\n",
    "   - One row for the word **\"bear\"**, showing how many files contain the word as a standalone occurrence.\n",
    "   \n",
    "3. The table should have the following columns:\n",
    "   - `word`: Either **\"bull\"** or **\"bear\"**.\n",
    "   - `occurrences`: The number of files that contain the word at least once as a standalone occurrence.\n",
    "\n",
    "4. Implement the solution in Python using **Pandas** and **regular expressions**.\n",
    "\n",
    "### Example:\n",
    "\n",
    "Given the following `Employees` dataset:\n",
    "\n",
    "| file_name | content                                                                |\n",
    "|-----------|-------------------------------------------------------------------------|\n",
    "| file1     | The bull market is strong, but beware of the bear market                |\n",
    "| file2     | Investors see a bear approaching but no bull in sight                   |\n",
    "| file3     | bull and bear are often used to describe market trends                  |\n",
    "| file4     | The bullfight was exciting, but no mention of bear                      |\n",
    "| file5     | A bullish trend may turn bearish at any moment                          |\n",
    "\n",
    "### Output:\n",
    "\n",
    "The output should be a DataFrame like this:\n",
    "\n",
    "| word  | occurrences |\n",
    "|-------|-------------|\n",
    "| bull  | 4           |\n",
    "| bear  | 4           |\n",
    "\n",
    "### Additional Clarification:\n",
    "- **\"bull\"** and **\"bear\"** should be counted only when they appear as standalone words, not part of other words like \"bullish\" or \"bearish\".\n",
    "- Case sensitivity should be ignored (i.e., \"Bull\" and \"bull\" should both be considered valid occurrences).\n",
    "\n",
    "### Constraints:\n",
    "- You are required to use **Pandas** for data manipulation and regular expressions for pattern matching.\n",
    "- Implement the solution in Python, returning the counts of occurrences of the words **\"bull\"** and **\"bear\"** in the specified format."
   ]
  },
  {
   "cell_type": "code",
   "execution_count": 10,
   "metadata": {},
   "outputs": [
    {
     "name": "stdout",
     "output_type": "stream",
     "text": [
      "   word  occurrences\n",
      "0  bull            3\n",
      "1  bear            4\n"
     ]
    }
   ],
   "source": [
    "import pandas as pd\n",
    "\n",
    "# Step 1: Create the DataFrame\n",
    "data = {\n",
    "    'file_name': ['file1', 'file2', 'file3', 'file4', 'file5'],\n",
    "    'content': [\n",
    "        'The bull market is strong, but beware of the bear market',\n",
    "        'Investors see a bear approaching but no bull in sight',\n",
    "        'bull and bear are often used to describe market trends',\n",
    "        'The bullfight was exciting, but no mention of bear',\n",
    "        'A bullish trend may turn bearish at any moment'\n",
    "    ]\n",
    "}\n",
    "\n",
    "df = pd.DataFrame(data)\n",
    "\n",
    "# Step 2: Define function to find standalone occurrences of 'bull' and 'bear'\n",
    "def count_occurrences(df):\n",
    "    # Use regular expressions with word boundaries to count standalone 'bull' and 'bear'\n",
    "    bull_count = df['content'].str.contains(r'\\bbull\\b', case=False).sum()\n",
    "    bear_count = df['content'].str.contains(r'\\bbear\\b', case=False).sum()\n",
    "    \n",
    "    # Return the counts as a DataFrame\n",
    "    result_df = pd.DataFrame({\n",
    "        'word': ['bull', 'bear'],\n",
    "        'occurrences': [bull_count, bear_count]\n",
    "    })\n",
    "    \n",
    "    return result_df\n",
    "\n",
    "# Step 3: Get the result\n",
    "result = count_occurrences(df)\n",
    "print(result)\n"
   ]
  }
 ],
 "metadata": {
  "kernelspec": {
   "display_name": "Python 3",
   "language": "python",
   "name": "python3"
  },
  "language_info": {
   "codemirror_mode": {
    "name": "ipython",
    "version": 3
   },
   "file_extension": ".py",
   "mimetype": "text/x-python",
   "name": "python",
   "nbconvert_exporter": "python",
   "pygments_lexer": "ipython3",
   "version": "3.10.13"
  }
 },
 "nbformat": 4,
 "nbformat_minor": 2
}
