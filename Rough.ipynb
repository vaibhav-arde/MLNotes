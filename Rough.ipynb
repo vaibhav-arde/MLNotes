{
 "cells": [
  {
   "cell_type": "code",
   "execution_count": 8,
   "id": "189f64b6",
   "metadata": {},
   "outputs": [
    {
     "name": "stdout",
     "output_type": "stream",
     "text": [
      "[NbConvertApp] Converting notebook ./Day_02/MLNotes.ipynb to html\n",
      "[NbConvertApp] Writing 293426 bytes to Day_02/MLNotes.html\n"
     ]
    }
   ],
   "source": [
    "!jupyter nbconvert './Day_02/MLNotes.ipynb' --to html"
   ]
  },
  {
   "cell_type": "code",
   "execution_count": 5,
   "id": "2d1f6d57",
   "metadata": {},
   "outputs": [
    {
     "name": "stdout",
     "output_type": "stream",
     "text": [
      "[NbConvertApp] Converting notebook ./Day_03/MLNotes Linear Regression.ipynb to html\n",
      "[NbConvertApp] Writing 273811 bytes to Day_03/MLNotes Linear Regression.html\n"
     ]
    }
   ],
   "source": [
    "\n",
    "!jupyter nbconvert './Day_03/MLNotes Linear Regression.ipynb' --to html\n"
   ]
  },
  {
   "cell_type": "code",
   "execution_count": 6,
   "id": "4a8e198c",
   "metadata": {},
   "outputs": [
    {
     "name": "stdout",
     "output_type": "stream",
     "text": [
      "[NbConvertApp] Converting notebook ./Day_04/MLNotes Linear Regression.ipynb to html\n",
      "[NbConvertApp] Writing 284306 bytes to Day_04/MLNotes Linear Regression.html\n"
     ]
    }
   ],
   "source": [
    "!jupyter nbconvert './Day_04/MLNotes Linear Regression.ipynb' --to html\n",
    "# Day_04/MLNotes Linear Regression.ipynb"
   ]
  }
 ],
 "metadata": {
  "kernelspec": {
   "display_name": "Python 3 (ipykernel)",
   "language": "python",
   "name": "python3"
  },
  "language_info": {
   "codemirror_mode": {
    "name": "ipython",
    "version": 3
   },
   "file_extension": ".py",
   "mimetype": "text/x-python",
   "name": "python",
   "nbconvert_exporter": "python",
   "pygments_lexer": "ipython3",
   "version": "3.11.9"
  }
 },
 "nbformat": 4,
 "nbformat_minor": 5
}
