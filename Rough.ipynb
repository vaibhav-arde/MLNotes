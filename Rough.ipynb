{
 "cells": [
  {
   "cell_type": "code",
   "execution_count": 10,
   "id": "0339d57a",
   "metadata": {},
   "outputs": [
    {
     "name": "stdout",
     "output_type": "stream",
     "text": [
      "[NbConvertApp] Converting notebook ./Day_01/MLRoles.ipynb to html\n",
      "[NbConvertApp] Writing 278906 bytes to Day_01/MLRoles.html\n"
     ]
    }
   ],
   "source": [
    "# Day_01/MLRoles.ipynb\n",
    "!jupyter nbconvert './Day_01/MLRoles.ipynb' --to html"
   ]
  },
  {
   "cell_type": "code",
   "execution_count": 13,
   "id": "189f64b6",
   "metadata": {},
   "outputs": [
    {
     "name": "stdout",
     "output_type": "stream",
     "text": [
      "[NbConvertApp] Converting notebook ./Day_02/MLNotes.ipynb to html\n",
      "[NbConvertApp] Writing 311051 bytes to Day_02/MLNotes.html\n"
     ]
    }
   ],
   "source": [
    "!jupyter nbconvert './Day_02/MLNotes.ipynb' --to html"
   ]
  },
  {
   "cell_type": "code",
   "execution_count": 5,
   "id": "2d1f6d57",
   "metadata": {},
   "outputs": [
    {
     "name": "stdout",
     "output_type": "stream",
     "text": [
      "[NbConvertApp] Converting notebook ./Day_03/MLNotes Linear Regression.ipynb to html\n",
      "[NbConvertApp] Writing 273811 bytes to Day_03/MLNotes Linear Regression.html\n"
     ]
    }
   ],
   "source": [
    "\n",
    "!jupyter nbconvert './Day_03/MLNotes Linear Regression.ipynb' --to html\n"
   ]
  },
  {
   "cell_type": "code",
   "execution_count": 12,
   "id": "5c103f37",
   "metadata": {},
   "outputs": [
    {
     "name": "stdout",
     "output_type": "stream",
     "text": [
      "[NbConvertApp] Converting notebook ./Day_03/MLNotes Tensors.ipynb to html\n",
      "[NbConvertApp] Writing 273496 bytes to Day_03/MLNotes Tensors.html\n"
     ]
    }
   ],
   "source": [
    "# Day_03/MLNotes Tensors.ipynb\n",
    "!jupyter nbconvert './Day_03/MLNotes Tensors.ipynb' --to html"
   ]
  },
  {
   "cell_type": "code",
   "execution_count": 6,
   "id": "4a8e198c",
   "metadata": {},
   "outputs": [
    {
     "name": "stdout",
     "output_type": "stream",
     "text": [
      "[NbConvertApp] Converting notebook ./Day_04/MLNotes Linear Regression.ipynb to html\n",
      "[NbConvertApp] Writing 284306 bytes to Day_04/MLNotes Linear Regression.html\n"
     ]
    }
   ],
   "source": [
    "!jupyter nbconvert './Day_04/MLNotes Linear Regression.ipynb' --to html\n",
    "# Day_04/MLNotes Linear Regression.ipynb"
   ]
  },
  {
   "cell_type": "code",
   "execution_count": 9,
   "id": "c1a5f81c",
   "metadata": {},
   "outputs": [
    {
     "name": "stdout",
     "output_type": "stream",
     "text": [
      "[NbConvertApp] Converting notebook ./Day_05/MLNotes Linear Regression.ipynb to html\n",
      "[NbConvertApp] Writing 305435 bytes to Day_05/MLNotes Linear Regression.html\n"
     ]
    }
   ],
   "source": [
    "!jupyter nbconvert './Day_05/MLNotes Linear Regression.ipynb' --to html"
   ]
  },
  {
   "cell_type": "code",
   "execution_count": 16,
   "id": "96f4fd49",
   "metadata": {},
   "outputs": [
    {
     "name": "stdout",
     "output_type": "stream",
     "text": [
      "[NbConvertApp] Converting notebook ./Day_06/Hands-On Prediction House Prices/Predicting_House_Prices.ipynb to html\n",
      "[NbConvertApp] WARNING | Alternative text is missing on 5 image(s).\n",
      "[NbConvertApp] Writing 2661345 bytes to Day_06/Hands-On Prediction House Prices/Predicting_House_Prices.html\n"
     ]
    }
   ],
   "source": [
    "!jupyter nbconvert './Day_06/Hands-On Prediction House Prices/Predicting_House_Prices.ipynb' --to html"
   ]
  },
  {
   "cell_type": "code",
   "execution_count": 18,
   "id": "60dea597",
   "metadata": {},
   "outputs": [
    {
     "name": "stdout",
     "output_type": "stream",
     "text": [
      "[NbConvertApp] Converting notebook ./Day_07/MLNotes_Bias_Variance_L1_L2.ipynb to html\n",
      "[NbConvertApp] Writing 332932 bytes to Day_07/MLNotes_Bias_Variance_L1_L2.html\n"
     ]
    }
   ],
   "source": [
    "!jupyter nbconvert './Day_07/MLNotes_Bias_Variance_L1_L2.ipynb' --to html"
   ]
  },
  {
   "cell_type": "code",
   "execution_count": 19,
   "id": "0b87c372",
   "metadata": {},
   "outputs": [
    {
     "name": "stdout",
     "output_type": "stream",
     "text": [
      "[NbConvertApp] Converting notebook ./Day_08/MLNotes Logistic Regression Cost Function Confusion Matrix.ipynb to html\n",
      "[NbConvertApp] Writing 288460 bytes to Day_08/MLNotes Logistic Regression Cost Function Confusion Matrix.html\n"
     ]
    }
   ],
   "source": [
    "!jupyter nbconvert './Day_08/MLNotes Logistic Regression Cost Function Confusion Matrix.ipynb' --to html"
   ]
  },
  {
   "cell_type": "code",
   "execution_count": 21,
   "id": "1b35196d",
   "metadata": {},
   "outputs": [
    {
     "name": "stdout",
     "output_type": "stream",
     "text": [
      "[NbConvertApp] Converting notebook ./Day_09/Hands-On Predective Analysis in Diabetes/Hands_On_Predictive_Analysis_in_Diabetes.ipynb to html\n",
      "[NbConvertApp] WARNING | Alternative text is missing on 15 image(s).\n",
      "[NbConvertApp] Writing 1154520 bytes to Day_09/Hands-On Predective Analysis in Diabetes/Hands_On_Predictive_Analysis_in_Diabetes.html\n"
     ]
    }
   ],
   "source": [
    "!jupyter nbconvert './Day_09/Hands-On Predective Analysis in Diabetes/Hands_On_Predictive_Analysis_in_Diabetes.ipynb' --to html"
   ]
  },
  {
   "cell_type": "code",
   "execution_count": 22,
   "id": "94189b78",
   "metadata": {},
   "outputs": [
    {
     "name": "stdout",
     "output_type": "stream",
     "text": [
      "[NbConvertApp] Converting notebook ./Day_10/MLNotes Decision Tree.ipynb to html\n",
      "[NbConvertApp] Writing 283953 bytes to Day_10/MLNotes Decision Tree.html\n"
     ]
    }
   ],
   "source": [
    "!jupyter nbconvert './Day_10/MLNotes Decision Tree.ipynb' --to html"
   ]
  },
  {
   "cell_type": "code",
   "execution_count": 23,
   "id": "8641ea95",
   "metadata": {},
   "outputs": [
    {
     "name": "stdout",
     "output_type": "stream",
     "text": [
      "[NbConvertApp] Converting notebook ./Day_11/MLNotes Decision Tree.ipynb to html\n",
      "[NbConvertApp] Writing 313177 bytes to Day_11/MLNotes Decision Tree.html\n"
     ]
    }
   ],
   "source": [
    "!jupyter nbconvert './Day_11/MLNotes Decision Tree.ipynb' --to html"
   ]
  },
  {
   "cell_type": "code",
   "execution_count": 3,
   "id": "401d6af8",
   "metadata": {},
   "outputs": [
    {
     "name": "stdout",
     "output_type": "stream",
     "text": [
      "[NbConvertApp] Converting notebook ./Day_12/Code Files/Decision_Tree_Live_Implementation.ipynb to html\n",
      "[NbConvertApp] WARNING | Alternative text is missing on 2 image(s).\n",
      "[NbConvertApp] Writing 1022749 bytes to Day_12/Code Files/Decision_Tree_Live_Implementation.html\n"
     ]
    }
   ],
   "source": [
    "!jupyter nbconvert './Day_12/Code Files/Decision_Tree_Live_Implementation.ipynb' --to html"
   ]
  },
  {
   "cell_type": "code",
   "execution_count": 5,
   "id": "7b5d011e",
   "metadata": {},
   "outputs": [
    {
     "name": "stdout",
     "output_type": "stream",
     "text": [
      "[NbConvertApp] Converting notebook ./Day_13/Random_Forests_Optimization_Hyperparameter_Tuning.ipynb to html\n",
      "[NbConvertApp] WARNING | Alternative text is missing on 4 image(s).\n",
      "[NbConvertApp] Writing 1528084 bytes to Day_13/Random_Forests_Optimization_Hyperparameter_Tuning.html\n"
     ]
    }
   ],
   "source": [
    "!jupyter nbconvert './Day_13/Random_Forests_Optimization_Hyperparameter_Tuning.ipynb' --to html"
   ]
  },
  {
   "cell_type": "code",
   "execution_count": 6,
   "id": "1cfcb35c",
   "metadata": {},
   "outputs": [
    {
     "name": "stdout",
     "output_type": "stream",
     "text": [
      "[NbConvertApp] Converting notebook ./Day_14/MLNotes_Hands_On_Implementation_of_Naive_Bayes_classifier.ipynb to html\n",
      "[NbConvertApp] WARNING | Alternative text is missing on 13 image(s).\n",
      "[NbConvertApp] Writing 1031764 bytes to Day_14/MLNotes_Hands_On_Implementation_of_Naive_Bayes_classifier.html\n"
     ]
    }
   ],
   "source": [
    "!jupyter nbconvert './Day_14/MLNotes_Hands_On_Implementation_of_Naive_Bayes_classifier.ipynb' --to html"
   ]
  }
 ],
 "metadata": {
  "kernelspec": {
   "display_name": "Python 3 (ipykernel)",
   "language": "python",
   "name": "python3"
  },
  "language_info": {
   "codemirror_mode": {
    "name": "ipython",
    "version": 3
   },
   "file_extension": ".py",
   "mimetype": "text/x-python",
   "name": "python",
   "nbconvert_exporter": "python",
   "pygments_lexer": "ipython3",
   "version": "3.11.9"
  }
 },
 "nbformat": 4,
 "nbformat_minor": 5
}
