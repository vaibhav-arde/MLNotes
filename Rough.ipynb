{
 "cells": [
  {
   "cell_type": "code",
   "execution_count": 10,
   "id": "0339d57a",
   "metadata": {},
   "outputs": [
    {
     "name": "stdout",
     "output_type": "stream",
     "text": [
      "[NbConvertApp] Converting notebook ./Day_01/MLRoles.ipynb to html\n",
      "[NbConvertApp] Writing 278906 bytes to Day_01/MLRoles.html\n"
     ]
    }
   ],
   "source": [
    "# Day_01/MLRoles.ipynb\n",
    "!jupyter nbconvert './Day_01/MLRoles.ipynb' --to html"
   ]
  },
  {
   "cell_type": "code",
   "execution_count": 13,
   "id": "189f64b6",
   "metadata": {},
   "outputs": [
    {
     "name": "stdout",
     "output_type": "stream",
     "text": [
      "[NbConvertApp] Converting notebook ./Day_02/MLNotes.ipynb to html\n",
      "[NbConvertApp] Writing 311051 bytes to Day_02/MLNotes.html\n"
     ]
    }
   ],
   "source": [
    "!jupyter nbconvert './Day_02/MLNotes.ipynb' --to html"
   ]
  },
  {
   "cell_type": "code",
   "execution_count": 5,
   "id": "2d1f6d57",
   "metadata": {},
   "outputs": [
    {
     "name": "stdout",
     "output_type": "stream",
     "text": [
      "[NbConvertApp] Converting notebook ./Day_03/MLNotes Linear Regression.ipynb to html\n",
      "[NbConvertApp] Writing 273811 bytes to Day_03/MLNotes Linear Regression.html\n"
     ]
    }
   ],
   "source": [
    "\n",
    "!jupyter nbconvert './Day_03/MLNotes Linear Regression.ipynb' --to html\n"
   ]
  },
  {
   "cell_type": "code",
   "execution_count": 12,
   "id": "5c103f37",
   "metadata": {},
   "outputs": [
    {
     "name": "stdout",
     "output_type": "stream",
     "text": [
      "[NbConvertApp] Converting notebook ./Day_03/MLNotes Tensors.ipynb to html\n",
      "[NbConvertApp] Writing 273496 bytes to Day_03/MLNotes Tensors.html\n"
     ]
    }
   ],
   "source": [
    "# Day_03/MLNotes Tensors.ipynb\n",
    "!jupyter nbconvert './Day_03/MLNotes Tensors.ipynb' --to html"
   ]
  },
  {
   "cell_type": "code",
   "execution_count": 6,
   "id": "4a8e198c",
   "metadata": {},
   "outputs": [
    {
     "name": "stdout",
     "output_type": "stream",
     "text": [
      "[NbConvertApp] Converting notebook ./Day_04/MLNotes Linear Regression.ipynb to html\n",
      "[NbConvertApp] Writing 284306 bytes to Day_04/MLNotes Linear Regression.html\n"
     ]
    }
   ],
   "source": [
    "!jupyter nbconvert './Day_04/MLNotes Linear Regression.ipynb' --to html\n",
    "# Day_04/MLNotes Linear Regression.ipynb"
   ]
  },
  {
   "cell_type": "code",
   "execution_count": 9,
   "id": "c1a5f81c",
   "metadata": {},
   "outputs": [
    {
     "name": "stdout",
     "output_type": "stream",
     "text": [
      "[NbConvertApp] Converting notebook ./Day_05/MLNotes Linear Regression.ipynb to html\n",
      "[NbConvertApp] Writing 305435 bytes to Day_05/MLNotes Linear Regression.html\n"
     ]
    }
   ],
   "source": [
    "!jupyter nbconvert './Day_05/MLNotes Linear Regression.ipynb' --to html"
   ]
  },
  {
   "cell_type": "code",
   "execution_count": 16,
   "id": "96f4fd49",
   "metadata": {},
   "outputs": [
    {
     "name": "stdout",
     "output_type": "stream",
     "text": [
      "[NbConvertApp] Converting notebook ./Day_06/Hands-On Prediction House Prices/Predicting_House_Prices.ipynb to html\n",
      "[NbConvertApp] WARNING | Alternative text is missing on 5 image(s).\n",
      "[NbConvertApp] Writing 2661345 bytes to Day_06/Hands-On Prediction House Prices/Predicting_House_Prices.html\n"
     ]
    }
   ],
   "source": [
    "!jupyter nbconvert './Day_06/Hands-On Prediction House Prices/Predicting_House_Prices.ipynb' --to html"
   ]
  }
 ],
 "metadata": {
  "kernelspec": {
   "display_name": "Python 3 (ipykernel)",
   "language": "python",
   "name": "python3"
  },
  "language_info": {
   "codemirror_mode": {
    "name": "ipython",
    "version": 3
   },
   "file_extension": ".py",
   "mimetype": "text/x-python",
   "name": "python",
   "nbconvert_exporter": "python",
   "pygments_lexer": "ipython3",
   "version": "3.11.9"
  }
 },
 "nbformat": 4,
 "nbformat_minor": 5
}
