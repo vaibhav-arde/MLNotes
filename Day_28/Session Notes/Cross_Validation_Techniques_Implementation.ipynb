{
  "cells": [
    {
      "cell_type": "markdown",
      "metadata": {},
      "source": [
        "## **Cross-Validation Techniques**\n",
        "\n",
        "Cross-validation is a statistical method used in machine learning to evaluate and improve the performance of models. It involves partitioning a dataset into multiple subsets and using these subsets to train and validate the model. Cross-validation is especially useful when the available data is limited, as it helps avoid overfitting by ensuring the model generalizes well to unseen data.\n",
        "\n",
        "Here are the key cross-validation techniques:\n",
        "\n",
        "### 1. **Hold-out Method**\n",
        "- The dataset is split into two subsets: one for training and one for testing.\n",
        "- **Example**: 80% of the data is used for training, and 20% is used for testing.\n",
        "- **Advantages**: Simple and fast.\n",
        "- **Disadvantages**: The evaluation result depends heavily on the specific split of data, which can lead to high variance.\n",
        "\n",
        "### 2. **K-Fold Cross-Validation**\n",
        "- The dataset is divided into **K** equally sized folds. The model is trained on **K-1** folds and tested on the remaining fold. This process is repeated **K** times, each time using a different fold for testing. The final performance is the average of the **K** results.\n",
        "- **Example**: If K=5, the data is split into 5 subsets, and the model is trained 5 times, each time with a different fold as the test set.\n",
        "- **Advantages**: More stable performance estimation since every data point is used for both training and testing.\n",
        "- **Disadvantages**: Computationally expensive when K is large.\n",
        "\n",
        "### 3. **Stratified K-Fold Cross-Validation**\n",
        "- Similar to K-Fold Cross-Validation, but ensures that each fold has the same proportion of target labels (class distribution) as the original dataset. This is especially useful in cases of imbalanced datasets.\n",
        "- **Advantages**: Better performance evaluation for imbalanced datasets.\n",
        "- **Disadvantages**: More computational complexity compared to K-Fold.\n",
        "\n",
        "### 4. **Leave-One-Out Cross-Validation (LOOCV)**\n",
        "- A special case of K-Fold where **K** equals the number of data points. In each iteration, the model is trained on all data points except one, and that one data point is used for testing.\n",
        "- **Advantages**: Utilizes the maximum amount of data for training.\n",
        "- **Disadvantages**: Extremely computationally expensive, especially for large datasets.\n",
        "\n",
        "### 5. **Leave-P-Out Cross-Validation (LPOCV)**\n",
        "- Instead of leaving one data point out, **P** data points are left out in each iteration for testing, and the model is trained on the remaining data.\n",
        "- **Advantages**: More thorough evaluation.\n",
        "- **Disadvantages**: Exponentially increases computational cost as **P** increases.\n",
        "\n",
        "### 6. **Time Series Cross-Validation (Rolling Cross-Validation)**\n",
        "- For time-dependent data, traditional cross-validation techniques don’t work well since future data should not be used to predict past events. In this technique, data is split chronologically, and the model is trained on past data and tested on future data.\n",
        "- **Example**: For each fold, the training set consists of all data up to a certain time point, and the test set contains data from the next time interval.\n",
        "- **Advantages**: Suitable for time series data.\n",
        "- **Disadvantages**: May not be useful for non-time-series data.\n",
        "\n",
        "### 7. **Shuffle-Split Cross-Validation**\n",
        "- The dataset is randomly shuffled, and a percentage of data is used for training and the rest for testing. This process is repeated several times.\n",
        "- **Advantages**: Offers more flexibility in controlling the number of training/testing splits.\n",
        "- **Disadvantages**: Similar to the hold-out method but with more randomness; might still lead to a biased evaluation.\n",
        "\n",
        "### Advantages of Cross-Validation:\n",
        "- **Reduces Overfitting**: It provides a more generalized evaluation of the model, reducing the chance of overfitting.\n",
        "- **Better Performance Estimation**: Cross-validation offers a more accurate estimate of model performance by using multiple training and testing splits.\n",
        "  \n",
        "### Disadvantages of Cross-Validation:\n",
        "- **Computationally Expensive**: For large datasets and models, cross-validation can be computationally expensive, especially with techniques like K-Fold or LOOCV.\n",
        "- **Time-Consuming**: Depending on the number of folds and dataset size, it can take a significant amount of time to compute the results.\n",
        "\n",
        "### Example: K-Fold Cross-Validation in Python\n",
        "```python\n",
        "from sklearn.model_selection import KFold\n",
        "from sklearn.linear_model import LogisticRegression\n",
        "from sklearn.metrics import accuracy_score\n",
        "import numpy as np\n",
        "\n",
        "# Dummy dataset\n",
        "X = np.array([[1, 2], [2, 3], [3, 4], [4, 5], [5, 6]])\n",
        "y = np.array([0, 1, 0, 1, 0])\n",
        "\n",
        "kf = KFold(n_splits=5)\n",
        "model = LogisticRegression()\n",
        "\n",
        "# Perform K-Fold Cross-Validation\n",
        "for train_index, test_index in kf.split(X):\n",
        "    X_train, X_test = X[train_index], X[test_index]\n",
        "    y_train, y_test = y[train_index], y[test_index]\n",
        "    \n",
        "    model.fit(X_train, y_train)\n",
        "    y_pred = model.predict(X_test)\n",
        "    \n",
        "    print(f\"Accuracy: {accuracy_score(y_test, y_pred)}\")\n",
        "```\n",
        "\n",
        "This code splits the dataset into 5 folds, trains on 4, and tests on the remaining fold, repeating the process 5 times. The performance is averaged over all splits."
      ]
    },
    {
      "cell_type": "code",
      "execution_count": 1,
      "metadata": {
        "colab": {
          "base_uri": "https://localhost:8080/"
        },
        "id": "FCz4gt3R-P8g",
        "outputId": "bfc90ec2-338a-42f4-cd5c-d99f95507983"
      },
      "outputs": [
        {
          "name": "stdout",
          "output_type": "stream",
          "text": [
            "K-Fold Cross-Validation Scores: [1.         0.96666667 0.93333333 0.93333333 0.96666667]\n",
            "Mean Accuracy: 0.9600000000000002\n"
          ]
        }
      ],
      "source": [
        "from sklearn.datasets import load_iris\n",
        "from sklearn.model_selection import cross_val_score, KFold, StratifiedKFold\n",
        "from sklearn.ensemble import RandomForestClassifier\n",
        "import numpy as np\n",
        "\n",
        "# Load the Iris dataset\n",
        "iris = load_iris()\n",
        "X, y = iris.data, iris.target\n",
        "\n",
        "# Create a RandomForest classifier\n",
        "clf = RandomForestClassifier(random_state=42)\n",
        "\n",
        "# K-Fold Cross-Validation\n",
        "kf = KFold(n_splits=5, shuffle=True, random_state=42)\n",
        "scores = cross_val_score(clf, X, y, cv=kf, scoring='accuracy')\n",
        "\n",
        "print(\"K-Fold Cross-Validation Scores:\", scores)\n",
        "print(\"Mean Accuracy:\", np.mean(scores))"
      ]
    }
  ],
  "metadata": {
    "colab": {
      "provenance": []
    },
    "kernelspec": {
      "display_name": "Python 3",
      "name": "python3"
    },
    "language_info": {
      "codemirror_mode": {
        "name": "ipython",
        "version": 3
      },
      "file_extension": ".py",
      "mimetype": "text/x-python",
      "name": "python",
      "nbconvert_exporter": "python",
      "pygments_lexer": "ipython3",
      "version": "3.10.13"
    }
  },
  "nbformat": 4,
  "nbformat_minor": 0
}
