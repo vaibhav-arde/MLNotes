{
  "cells": [
    {
      "cell_type": "markdown",
      "metadata": {},
      "source": [
        "# **Specialised Machine Learning Techniques 2**"
      ]
    },
    {
      "cell_type": "markdown",
      "metadata": {},
      "source": [
        "## **Power Of Imputers**\n",
        "\n",
        "Imputers in Machine Learning are techniques used to handle missing data in datasets. Missing data is a common problem in real-world datasets, and imputers provide strategies to replace these missing values with appropriate estimates, so that machine learning models can operate without errors. Imputing missing data ensures that the dataset remains complete and that no valuable data points are lost due to missing values.\n",
        "\n",
        "### Why Imputers Are Important:\n",
        "- **Handling Missing Data**: Many machine learning algorithms cannot handle missing values directly and may give errors or produce suboptimal results if missing data is present.\n",
        "- **Improves Model Accuracy**: By properly imputing missing values, the dataset becomes more complete and can lead to better model performance.\n",
        "- **Retains Data**: Imputation allows you to keep as much data as possible instead of discarding rows or columns with missing values, which could reduce the amount of information available for learning.\n",
        "\n",
        "### Types of Imputers\n",
        "\n",
        "1. **Mean/Median/Mode Imputation**:\n",
        "   - **Mean**: For continuous numerical features, missing values are replaced with the mean of the non-missing values.\n",
        "   - **Median**: Replaces missing values with the median, often preferred when there are outliers.\n",
        "   - **Mode**: Used for categorical features, replaces missing values with the most frequent category (the mode).\n",
        "\n",
        "   Example (using `SimpleImputer` from scikit-learn):\n",
        "   ```python\n",
        "   from sklearn.impute import SimpleImputer\n",
        "   import numpy as np\n",
        "   import pandas as pd\n",
        "\n",
        "   # Sample data with missing values\n",
        "   data = {'Age': [25, np.nan, 35, 40, np.nan], \n",
        "           'Gender': ['Male', 'Female', 'Female', np.nan, 'Male']}\n",
        "   df = pd.DataFrame(data)\n",
        "\n",
        "   # Imputing missing numerical data with mean\n",
        "   imputer = SimpleImputer(strategy='mean')\n",
        "   df['Age'] = imputer.fit_transform(df[['Age']])\n",
        "\n",
        "   # Imputing missing categorical data with mode\n",
        "   imputer = SimpleImputer(strategy='most_frequent')\n",
        "   df['Gender'] = imputer.fit_transform(df[['Gender']])\n",
        "\n",
        "   print(df)\n",
        "   ```\n",
        "\n",
        "2. **K-Nearest Neighbors (KNN) Imputation**:\n",
        "   - Uses the K-nearest neighbors algorithm to impute missing values based on the values of the K nearest observations.\n",
        "   - For each missing value, KNN finds K similar instances (rows) based on other feature values and imputes the missing value by averaging (or mode in the case of categorical features) the non-missing values of the neighbors.\n",
        "\n",
        "   Example:\n",
        "   ```python\n",
        "   from sklearn.impute import KNNImputer\n",
        "   import pandas as pd\n",
        "\n",
        "   # Sample data with missing values\n",
        "   df = pd.DataFrame({\n",
        "       'Feature1': [1, 2, np.nan, 4],\n",
        "       'Feature2': [5, np.nan, np.nan, 8],\n",
        "       'Feature3': [10, 11, 12, 13]\n",
        "   })\n",
        "\n",
        "   # Using KNNImputer\n",
        "   imputer = KNNImputer(n_neighbors=2)\n",
        "   df_imputed = imputer.fit_transform(df)\n",
        "\n",
        "   print(df_imputed)\n",
        "   ```\n",
        "\n",
        "3. **Multivariate Imputation by Chained Equations (MICE)**:\n",
        "   - Also called **Iterative Imputer**, this method models each feature with missing values as a function of the other features. It imputes values by drawing multiple imputation steps in a sequence (chained equations).\n",
        "   - More advanced and can capture relationships between variables better than simpler methods like mean or mode imputation.\n",
        "\n",
        "   Example:\n",
        "   ```python\n",
        "   from sklearn.experimental import enable_iterative_imputer\n",
        "   from sklearn.impute import IterativeImputer\n",
        "   import pandas as pd\n",
        "   import numpy as np\n",
        "\n",
        "   # Sample data with missing values\n",
        "   df = pd.DataFrame({\n",
        "       'Feature1': [1, 2, np.nan, 4],\n",
        "       'Feature2': [5, np.nan, np.nan, 8],\n",
        "       'Feature3': [10, 11, 12, 13]\n",
        "   })\n",
        "\n",
        "   # Using Iterative Imputer\n",
        "   imputer = IterativeImputer()\n",
        "   df_imputed = imputer.fit_transform(df)\n",
        "\n",
        "   print(df_imputed)\n",
        "   ```\n",
        "\n",
        "4. **Constant Imputation**:\n",
        "   - This method allows missing values to be filled with a constant value, often used when you want to replace missing values with a domain-specific constant.\n",
        "   - For example, you can fill missing values with `0` for numerical data or `'Unknown'` for categorical data.\n",
        "\n",
        "   Example:\n",
        "   ```python\n",
        "   imputer = SimpleImputer(strategy='constant', fill_value=0)\n",
        "   df['Age'] = imputer.fit_transform(df[['Age']])\n",
        "   ```\n",
        "\n",
        "### Summary of Imputation Strategies:\n",
        "\n",
        "| Method             | When to Use                                                                 |\n",
        "|--------------------|-----------------------------------------------------------------------------|\n",
        "| **Mean**           | When the feature is continuous, and the data distribution is not skewed.     |\n",
        "| **Median**         | When the feature is continuous, especially if the data contains outliers.    |\n",
        "| **Mode**           | For categorical features.                                                   |\n",
        "| **KNN Imputation** | When the missing data is correlated with other features and patterns can be learned. |\n",
        "| **MICE**           | When the dataset is complex, and relationships between features are important to preserve. |\n",
        "| **Constant Imputation** | When a specific value makes sense for your domain, e.g., 0 for missing numerical data or \"Unknown\" for missing categorical data. |\n",
        "\n",
        "### Pros and Cons of Imputation\n",
        "\n",
        "| Pros                                  | Cons                                                       |\n",
        "|---------------------------------------|-------------------------------------------------------------|\n",
        "| Retains valuable data                 | Can introduce bias (especially with simple methods like mean imputation) |\n",
        "| Improves model performance            | KNN and MICE imputers are computationally expensive         |\n",
        "| Prevents loss of data when values are missing | Can distort the data distribution                           |\n",
        "\n",
        "### Best Practices\n",
        "- Always evaluate the nature of your data and choose the imputation method carefully.\n",
        "- Simple methods like mean and mode may work well for small datasets, but advanced methods like KNN or MICE may be better for larger datasets with complex patterns.\n"
      ]
    },
    {
      "cell_type": "markdown",
      "metadata": {
        "id": "xN7UEd_ub_9c"
      },
      "source": [
        "Import all the required packages"
      ]
    },
    {
      "cell_type": "code",
      "execution_count": 1,
      "metadata": {
        "id": "h49ULZIWREcW"
      },
      "outputs": [],
      "source": [
        "import pandas as pd\n",
        "import numpy as np"
      ]
    },
    {
      "cell_type": "markdown",
      "metadata": {
        "id": "b_Ol7X8zcK_3"
      },
      "source": [
        "Create a dummy data to understand the data imputation"
      ]
    },
    {
      "cell_type": "code",
      "execution_count": 2,
      "metadata": {
        "colab": {
          "base_uri": "https://localhost:8080/",
          "height": 206
        },
        "id": "SYmN67X3cKfW",
        "outputId": "4a859ca4-125b-41c7-e47f-198df2cd3958"
      },
      "outputs": [
        {
          "data": {
            "text/html": [
              "<div>\n",
              "<style scoped>\n",
              "    .dataframe tbody tr th:only-of-type {\n",
              "        vertical-align: middle;\n",
              "    }\n",
              "\n",
              "    .dataframe tbody tr th {\n",
              "        vertical-align: top;\n",
              "    }\n",
              "\n",
              "    .dataframe thead th {\n",
              "        text-align: right;\n",
              "    }\n",
              "</style>\n",
              "<table border=\"1\" class=\"dataframe\">\n",
              "  <thead>\n",
              "    <tr style=\"text-align: right;\">\n",
              "      <th></th>\n",
              "      <th>age</th>\n",
              "      <th>salary</th>\n",
              "    </tr>\n",
              "  </thead>\n",
              "  <tbody>\n",
              "    <tr>\n",
              "      <th>0</th>\n",
              "      <td>25.0</td>\n",
              "      <td>50000.0</td>\n",
              "    </tr>\n",
              "    <tr>\n",
              "      <th>1</th>\n",
              "      <td>NaN</td>\n",
              "      <td>60000.0</td>\n",
              "    </tr>\n",
              "    <tr>\n",
              "      <th>2</th>\n",
              "      <td>30.0</td>\n",
              "      <td>NaN</td>\n",
              "    </tr>\n",
              "    <tr>\n",
              "      <th>3</th>\n",
              "      <td>NaN</td>\n",
              "      <td>90000.0</td>\n",
              "    </tr>\n",
              "    <tr>\n",
              "      <th>4</th>\n",
              "      <td>35.0</td>\n",
              "      <td>NaN</td>\n",
              "    </tr>\n",
              "  </tbody>\n",
              "</table>\n",
              "</div>"
            ],
            "text/plain": [
              "    age   salary\n",
              "0  25.0  50000.0\n",
              "1   NaN  60000.0\n",
              "2  30.0      NaN\n",
              "3   NaN  90000.0\n",
              "4  35.0      NaN"
            ]
          },
          "execution_count": 2,
          "metadata": {},
          "output_type": "execute_result"
        }
      ],
      "source": [
        "data = {'age':[25, np.nan, 30, np.nan, 35],\n",
        "        'salary': [50000, 60000, np.nan, 90000, np.nan]}\n",
        "\n",
        "dataframe = pd.DataFrame(data)\n",
        "dataframe"
      ]
    },
    {
      "cell_type": "markdown",
      "metadata": {
        "id": "4LnwE9JRcqGz"
      },
      "source": [
        "Data Imputation via Mean, Median or Mode"
      ]
    },
    {
      "cell_type": "code",
      "execution_count": 3,
      "metadata": {
        "colab": {
          "base_uri": "https://localhost:8080/"
        },
        "id": "Q83cYRZschFW",
        "outputId": "dc8bc833-9126-4fac-eb45-3cba7b44fa42"
      },
      "outputs": [
        {
          "name": "stdout",
          "output_type": "stream",
          "text": [
            "    age        salary\n",
            "0  25.0  50000.000000\n",
            "1  30.0  60000.000000\n",
            "2  30.0  66666.666667\n",
            "3  30.0  90000.000000\n",
            "4  35.0  66666.666667\n"
          ]
        }
      ],
      "source": [
        "from sklearn.impute import SimpleImputer\n",
        "imputer = SimpleImputer(strategy='mean')\n",
        "imputed_data = imputer.fit_transform(dataframe)\n",
        "imputed_df = pd.DataFrame(imputed_data, columns = dataframe.columns)\n",
        "print(imputed_df)"
      ]
    },
    {
      "cell_type": "markdown",
      "metadata": {
        "id": "q5hUYAzIdXtf"
      },
      "source": [
        "Data Imputation via KNN Imputer"
      ]
    },
    {
      "cell_type": "code",
      "execution_count": 4,
      "metadata": {
        "colab": {
          "base_uri": "https://localhost:8080/"
        },
        "id": "w2l8RriAdIgm",
        "outputId": "7feb76e6-27ba-4351-c438-4adda3d6e8cb"
      },
      "outputs": [
        {
          "name": "stdout",
          "output_type": "stream",
          "text": [
            "    age   salary\n",
            "0  25.0  50000.0\n",
            "1  27.5  60000.0\n",
            "2  30.0  55000.0\n",
            "3  27.5  90000.0\n",
            "4  35.0  55000.0\n"
          ]
        }
      ],
      "source": [
        "from sklearn.impute import KNNImputer\n",
        "imputer = KNNImputer(n_neighbors=2)\n",
        "imputed_data = imputer.fit_transform(dataframe)\n",
        "imputed_df = pd.DataFrame(imputed_data, columns = dataframe.columns)\n",
        "print(imputed_df)"
      ]
    },
    {
      "cell_type": "markdown",
      "metadata": {},
      "source": [
        "---"
      ]
    },
    {
      "cell_type": "markdown",
      "metadata": {},
      "source": [
        "## **Log normalization**\n",
        "\n",
        "Log normalization is a technique used to transform skewed data into a more normalized distribution by applying the logarithm function. It is commonly used to handle data where the values span several orders of magnitude and are highly skewed, such as in financial data or datasets with exponential growth.\n",
        "\n",
        "### Why Use Log Normalization?\n",
        "- **Reduces Skewness**: Log normalization is particularly useful for datasets where values are heavily skewed, typically with a long tail of high values. By applying the logarithm function, large values are compressed, and the distribution becomes more symmetric or \"normal.\"\n",
        "- **Improves Model Performance**: Machine learning models often perform better when input data is normalized or has a more balanced distribution, especially algorithms that assume normally distributed data (like linear regression or k-nearest neighbors).\n",
        "- **Makes Data Easier to Interpret**: Log-normalized data may reveal patterns or relationships that were previously hidden due to extreme values.\n",
        "\n",
        "### Formula for Log Normalization\n",
        "\n",
        "Log normalization applies the logarithmic function to each value in the dataset. For a value \\( x \\), the log-normalized value \\( y \\) is computed as:\n",
        "\n",
        "```python\n",
        "y = log(x)\n",
        "```\n",
        "\n",
        "Typically, a base of 10 or the natural logarithm (base \\( e \\)) is used. However, the log function cannot handle 0 or negative values, so it's common to add a small constant \\( \\epsilon \\) to the values to avoid issues.\n",
        "\n",
        "#### Adjusted Formula:\n",
        "```python\n",
        "y = log(x + \\epsilon)\n",
        "```\n",
        "Where \\( \\epsilon \\) is a small constant, often something like 1e-9, to ensure that all values are positive.\n",
        "\n",
        "### Example of Log Normalization in Python\n",
        "\n",
        "Let's see how log normalization works with a dataset:\n",
        "\n",
        "```python\n",
        "import numpy as np\n",
        "import pandas as pd\n",
        "\n",
        "# Example dataset with a large range of values\n",
        "data = {'Value': [1, 10, 100, 1000, 10000, 100000]}\n",
        "df = pd.DataFrame(data)\n",
        "\n",
        "# Applying log normalization\n",
        "df['LogNormalized'] = np.log(df['Value'] + 1e-9)  # Adding a small epsilon to avoid log(0)\n",
        "\n",
        "print(df)\n",
        "```\n",
        "\n",
        "### Output:\n",
        "```\n",
        "     Value  LogNormalized\n",
        "0        1       0.000000\n",
        "1       10       2.302585\n",
        "2      100       4.605170\n",
        "3     1000       6.907755\n",
        "4    10000       9.210340\n",
        "5   100000      11.512925\n",
        "```\n",
        "\n",
        "Here, you can see that the original data has large differences between values, while the log-transformed data compresses these differences, making them more manageable.\n",
        "\n",
        "### When to Use Log Normalization?\n",
        "\n",
        "- **When the data is highly skewed**: If your data contains outliers or is heavily skewed with a few very large values and many small ones, log normalization can help.\n",
        "- **When values are spread across several orders of magnitude**: In cases where the scale of your data spans large ranges (e.g., from 1 to 1,000,000), log normalization compresses this range.\n",
        "- **When you're using models that assume normality**: Models like linear regression perform better with normally distributed data, and log normalization can help transform skewed data into a more normal distribution.\n",
        "\n",
        "### Pros and Cons\n",
        "\n",
        "| Pros                                  | Cons                                                      |\n",
        "|---------------------------------------|------------------------------------------------------------|\n",
        "| Reduces the effect of large values    | Cannot handle zero or negative values without adjustment    |\n",
        "| Helps normalize skewed distributions  | Interpretation of log-transformed data may not be straightforward |\n",
        "| Makes patterns easier to see          | May not be suitable for data with values near zero          |\n",
        "\n",
        "### Summary:\n",
        "Log normalization is an effective technique to handle data with large ranges or skewed distributions. By applying the logarithmic transformation, large values are compressed, and the dataset becomes more manageable for machine learning models. However, it requires careful handling of zero and negative values to avoid computation errors."
      ]
    },
    {
      "cell_type": "markdown",
      "metadata": {},
      "source": [
        "## **Log Transformation for Positive or Right Skewed Data**"
      ]
    },
    {
      "cell_type": "code",
      "execution_count": 5,
      "metadata": {},
      "outputs": [],
      "source": [
        "# Import pandas library \n",
        "import pandas as pd\n",
        "import numpy as np\n",
        "import seaborn as sns\n",
        "\n",
        "# create a list of data \n",
        "data = [1,1,10,10,15,15,20,20,30,50,120,130,120,50,30,30,25,20,20,15,15,13,11,9,7,6,6,5,5,5,4,4,4,4,3,3,3,3,2,2,2,2,2,1,1,1,1,1,1,\n",
        "1] \n",
        "  \n",
        "# Create the pandas DataFrame \n",
        "df = pd.DataFrame(data, columns = ['Positive Skewed']) \n",
        "  \n",
        "# print dataframe. \n",
        "# df "
      ]
    },
    {
      "cell_type": "code",
      "execution_count": 6,
      "metadata": {},
      "outputs": [
        {
          "data": {
            "image/png": "[encoded data removed]",
            "text/plain": [
              "<Figure size 640x480 with 1 Axes>"
            ]
          },
          "metadata": {},
          "output_type": "display_data"
        }
      ],
      "source": [
        "#Boxplot showing three outliers\n",
        "from matplotlib import pyplot as plt\n",
        "df.boxplot(column='Positive Skewed')\n",
        "plt.show()"
      ]
    },
    {
      "cell_type": "code",
      "execution_count": 7,
      "metadata": {},
      "outputs": [
        {
          "data": {
            "image/png": "[encoded data removed]",
            "text/plain": [
              "<Figure size 640x480 with 1 Axes>"
            ]
          },
          "metadata": {},
          "output_type": "display_data"
        }
      ],
      "source": [
        "sns.histplot(kde=True)\n",
        "plt.show()"
      ]
    },
    {
      "cell_type": "code",
      "execution_count": 8,
      "metadata": {},
      "outputs": [],
      "source": [
        "#Creating input data from dataframe df on variable Positive Skewness with input values ranging from 1 to 130\n",
        "inp_array = df \n",
        "# print (\"Input array : \", inp_array)"
      ]
    },
    {
      "cell_type": "code",
      "execution_count": 9,
      "metadata": {},
      "outputs": [],
      "source": [
        "#Applying log10 transformation with output values ranging from 0 to 2+\n",
        "out_array = np.log10(inp_array) \n",
        "# print (\"Output array : \", out_array)"
      ]
    },
    {
      "cell_type": "code",
      "execution_count": 10,
      "metadata": {},
      "outputs": [
        {
          "data": {
            "image/png": "[encoded data removed]",
            "text/plain": [
              "<Figure size 640x480 with 1 Axes>"
            ]
          },
          "metadata": {},
          "output_type": "display_data"
        }
      ],
      "source": [
        "#Boxplot showing No outliers with all of them treated by doing log10 transformation.\n",
        "out_array.boxplot(column='Positive Skewed')\n",
        "plt.show()"
      ]
    },
    {
      "cell_type": "code",
      "execution_count": 11,
      "metadata": {},
      "outputs": [
        {
          "data": {
            "image/png": "[encoded data removed]",
            "text/plain": [
              "<Figure size 640x480 with 1 Axes>"
            ]
          },
          "metadata": {},
          "output_type": "display_data"
        }
      ],
      "source": [
        "sns.histplot(kde=True)\n",
        "plt.show()"
      ]
    },
    {
      "cell_type": "code",
      "execution_count": 12,
      "metadata": {},
      "outputs": [],
      "source": [
        "#If wants to revert back log10 values to original value for interpretation purpose then just raise 10 to the power \n",
        "#log10 values as shown below.\n",
        "original_val = (10**out_array) \n",
        "# print (\"Original Values : \", original_val)"
      ]
    },
    {
      "cell_type": "markdown",
      "metadata": {},
      "source": [
        "# Square Root Transformation for Positive or Right Skewed Data"
      ]
    },
    {
      "cell_type": "code",
      "execution_count": 13,
      "metadata": {},
      "outputs": [],
      "source": [
        "# Import pandas library \n",
        "import pandas as pd\n",
        "import numpy as np\n",
        "import seaborn as sns\n",
        "\n",
        "# Create a list of data. Here, we have included zeros as well in the data\n",
        "data = [0,0,1,1,10,10,15,15,20,20,30,50,120,130,120,50,30,30,25,20,20,15,15,13,11,9,7,6,6,5,5,5,4,4,4,4,3,3,3,3,2,2,2,2,2,1,1,1,1,1,1,\n",
        "1,0,0] \n",
        "  \n",
        "# Create the pandas DataFrame \n",
        "df2 = pd.DataFrame(data, columns = ['Positive Skewed']) \n",
        "  \n",
        "# print dataframe. \n",
        "# df2 "
      ]
    },
    {
      "cell_type": "code",
      "execution_count": 14,
      "metadata": {},
      "outputs": [
        {
          "data": {
            "image/png": "[encoded data removed]",
            "text/plain": [
              "<Figure size 640x480 with 1 Axes>"
            ]
          },
          "metadata": {},
          "output_type": "display_data"
        }
      ],
      "source": [
        "#Boxplot showing three outliers\n",
        "df2.boxplot(column='Positive Skewed')\n",
        "plt.show()"
      ]
    },
    {
      "cell_type": "code",
      "execution_count": 17,
      "metadata": {},
      "outputs": [
        {
          "data": {
            "image/png": "[encoded data removed]",
            "text/plain": [
              "<Figure size 640x480 with 1 Axes>"
            ]
          },
          "metadata": {},
          "output_type": "display_data"
        }
      ],
      "source": [
        "sns.histplot(df2, kde=True, )\n",
        "plt.show()"
      ]
    },
    {
      "cell_type": "code",
      "execution_count": 18,
      "metadata": {},
      "outputs": [],
      "source": [
        "#Creating input data from dataframe df on variable Positive Skewness with input values ranging from 0 to 130\n",
        "inp_array2 = df2 \n",
        "# print (\"Input array : \", inp_array2)"
      ]
    },
    {
      "cell_type": "code",
      "execution_count": 19,
      "metadata": {},
      "outputs": [],
      "source": [
        "#Applying Square Root transformation with output values ranging from 0 to 11+\n",
        "out_array2 = np.sqrt(inp_array2) \n",
        "# print (\"Output array : \", out_array2)"
      ]
    },
    {
      "cell_type": "code",
      "execution_count": 20,
      "metadata": {},
      "outputs": [
        {
          "data": {
            "image/png": "[encoded data removed]",
            "text/plain": [
              "<Figure size 640x480 with 1 Axes>"
            ]
          },
          "metadata": {},
          "output_type": "display_data"
        }
      ],
      "source": [
        "#Boxplot showing only Two outliers now, with one of those treated by doing Square Root transformation.\n",
        "out_array2.boxplot(column='Positive Skewed')\n",
        "plt.show()"
      ]
    },
    {
      "cell_type": "code",
      "execution_count": 22,
      "metadata": {},
      "outputs": [
        {
          "data": {
            "image/png": "[encoded data removed]",
            "text/plain": [
              "<Figure size 640x480 with 1 Axes>"
            ]
          },
          "metadata": {},
          "output_type": "display_data"
        }
      ],
      "source": [
        "sns.histplot(out_array2, kde=True)\n",
        "plt.show()"
      ]
    },
    {
      "cell_type": "markdown",
      "metadata": {},
      "source": [
        "---"
      ]
    },
    {
      "cell_type": "markdown",
      "metadata": {},
      "source": [
        "## **Model Selection and Comparison**\n",
        "\n",
        "**Model selection and comparison** are critical steps in the machine learning process that help you choose the best model for a given dataset and problem. These steps involve selecting models, comparing their performance, and tuning them to optimize accuracy, generalization, and other evaluation metrics. Here’s an in-depth explanation of the concepts:\n",
        "\n",
        "### 1. **Why Model Selection is Important?**\n",
        "\n",
        "Model selection is important because different algorithms may perform better depending on the nature of the data and the problem at hand. No one algorithm works best for all problems (this is referred to as the \"no free lunch\" theorem). Some models may generalize better, handle outliers, or deal with missing data differently. Therefore, selecting the right model is key to building a successful machine learning solution.\n",
        "\n",
        "### 2. **Steps in Model Selection:**\n",
        "\n",
        "- **Step 1: Define the Problem**: \n",
        "  First, identify whether it's a classification, regression, clustering, or another type of problem.\n",
        "  \n",
        "- **Step 2: Preprocess the Data**: \n",
        "  Clean the dataset, handle missing values, encode categorical variables, and normalize the data if required. This step ensures that your models receive clean, consistent input data.\n",
        "\n",
        "- **Step 3: Choose a Range of Models**:\n",
        "  Based on the problem type and data, select a range of models that you want to test. For example, for a classification problem, you may want to try:\n",
        "  - Logistic Regression\n",
        "  - Decision Trees\n",
        "  - Random Forest\n",
        "  - k-Nearest Neighbors (k-NN)\n",
        "  - Support Vector Machines (SVM)\n",
        "  - Gradient Boosting methods (like XGBoost)\n",
        "  \n",
        "- **Step 4: Use Cross-Validation for Evaluation**:\n",
        "  Split your data into training and test sets. A common technique for model selection is **k-fold cross-validation**, where the data is split into `k` subsets, and the model is trained on `k-1` subsets and tested on the remaining one. This is repeated `k` times, and the average performance across all folds is used to compare models.\n",
        "  \n",
        "- **Step 5: Evaluate Models Using Performance Metrics**:\n",
        "  Use relevant performance metrics for comparison:\n",
        "  - For classification: Accuracy, Precision, Recall, F1-score, ROC-AUC\n",
        "  - For regression: Mean Squared Error (MSE), Mean Absolute Error (MAE), R-squared\n",
        "  \n",
        "- **Step 6: Compare Models**:\n",
        "  Based on cross-validation results and performance metrics, compare how different models perform. Select the model that best balances generalization (performance on unseen data) and overfitting (complexity of the model).\n",
        "\n",
        "- **Step 7: Hyperparameter Tuning**:\n",
        "  Once the best-performing model is identified, optimize its hyperparameters using techniques like **GridSearchCV** or **RandomizedSearchCV** to further enhance its performance.\n",
        "\n",
        "### 3. **Key Metrics for Model Comparison**\n",
        "\n",
        "- **Accuracy**: The proportion of correctly classified instances.\n",
        "  \n",
        "- **Precision and Recall**: These are important metrics when dealing with imbalanced datasets.\n",
        "  - **Precision**: The proportion of true positives among all predicted positives.\n",
        "  - **Recall**: The proportion of true positives out of all actual positives.\n",
        "\n",
        "- **F1-Score**: Harmonic mean of Precision and Recall, especially useful when the dataset is imbalanced.\n",
        "\n",
        "- **ROC-AUC**: Measures how well the model separates positive and negative classes by plotting the true positive rate (TPR) against the false positive rate (FPR).\n",
        "\n",
        "- **MSE and RMSE**: Mean Squared Error and Root Mean Squared Error for regression tasks to measure the average squared difference between actual and predicted values.\n",
        "\n",
        "- **R-squared**: A statistical measure of how well the model’s predictions approximate the actual data points.\n",
        "\n",
        "### 4. **Overfitting and Underfitting:**\n",
        "- **Overfitting**: A model is too complex (like a deep decision tree) and performs very well on the training data but poorly on new, unseen data. \n",
        "- **Underfitting**: A model is too simple (like linear regression on non-linear data) and fails to capture the patterns in the training data.\n",
        "\n",
        "The goal of model selection is to find a balance where the model is neither underfitting nor overfitting.\n",
        "\n",
        "### 5. **Example: Model Selection Using Cross-Validation**\n",
        "\n",
        "```python\n",
        "from sklearn.model_selection import cross_val_score\n",
        "from sklearn.ensemble import RandomForestClassifier\n",
        "from sklearn.svm import SVC\n",
        "from sklearn.linear_model import LogisticRegression\n",
        "from sklearn.datasets import load_iris\n",
        "from sklearn.model_selection import train_test_split\n",
        "\n",
        "# Load dataset\n",
        "iris = load_iris()\n",
        "X, y = iris.data, iris.target\n",
        "\n",
        "# Split dataset\n",
        "X_train, X_test, y_train, y_test = train_test_split(X, y, test_size=0.3, random_state=42)\n",
        "\n",
        "# Initialize models\n",
        "models = {\n",
        "    'RandomForest': RandomForestClassifier(),\n",
        "    'SVM': SVC(),\n",
        "    'LogisticRegression': LogisticRegression()\n",
        "}\n",
        "\n",
        "# Perform 5-fold cross-validation and compare models\n",
        "for model_name, model in models.items():\n",
        "    scores = cross_val_score(model, X_train, y_train, cv=5)\n",
        "    print(f\"{model_name} Accuracy: {scores.mean():.3f}\")\n",
        "```\n",
        "\n",
        "### 6. **Model Comparison**\n",
        "\n",
        "Once cross-validation is done, the model with the highest cross-validated accuracy can be selected, but this also depends on other metrics (e.g., precision, recall) and business requirements.\n",
        "\n",
        "### 7. **Model Tuning**\n",
        "\n",
        "Once the best model is selected, hyperparameter tuning can be performed. For instance, for RandomForest:\n",
        "\n",
        "```python\n",
        "from sklearn.model_selection import GridSearchCV\n",
        "\n",
        "param_grid = {\n",
        "    'n_estimators': [50, 100, 200],\n",
        "    'max_depth': [10, 20, 30],\n",
        "    'min_samples_split': [2, 5, 10]\n",
        "}\n",
        "\n",
        "grid_search = GridSearchCV(RandomForestClassifier(), param_grid, cv=5)\n",
        "grid_search.fit(X_train, y_train)\n",
        "\n",
        "print(f\"Best Parameters: {grid_search.best_params_}\")\n",
        "```\n",
        "\n",
        "### 8. **Final Comparison and Model Selection**\n",
        "\n",
        "After tuning, compare the final model's performance on the test set. For example, calculate accuracy, precision, recall, and AUC scores for the chosen model, and make your final selection.\n",
        "\n",
        "### Summary of Model Selection:\n",
        "\n",
        "- **Cross-validation** helps ensure that the model generalizes well.\n",
        "- **Multiple metrics** should be used for model comparison.\n",
        "- **Hyperparameter tuning** refines the selected model's performance.\n",
        "- **Business context** and interpretability of the model should also be considered when selecting the final model.\n",
        "\n",
        "This process ensures that the chosen model is the best suited for your problem, balances performance with simplicity, and generalizes well to new, unseen data."
      ]
    },
    {
      "cell_type": "markdown",
      "metadata": {},
      "source": [
        "Import all the required frameworks"
      ]
    },
    {
      "cell_type": "code",
      "execution_count": 23,
      "metadata": {},
      "outputs": [],
      "source": [
        "import pandas as pd\n",
        "import numpy as np\n",
        "import matplotlib.pyplot as plt\n",
        "import seaborn as sns\n",
        "from sklearn.ensemble import RandomForestClassifier\n",
        "from sklearn.model_selection import train_test_split\n",
        "from sklearn.metrics import accuracy_score\n",
        "from sklearn.neighbors import KNeighborsClassifier\n",
        "from sklearn.metrics import confusion_matrix\n",
        "from sklearn.metrics import classification_report\n",
        "from sklearn.preprocessing import StandardScaler\n",
        "from sklearn.linear_model import LogisticRegression\n",
        "from sklearn.svm import SVC"
      ]
    },
    {
      "cell_type": "markdown",
      "metadata": {},
      "source": [
        "Load the data: Breast Cancer Dataset[classification problem]"
      ]
    },
    {
      "cell_type": "code",
      "execution_count": 24,
      "metadata": {},
      "outputs": [],
      "source": [
        "from sklearn.datasets import load_breast_cancer\n",
        "data = load_breast_cancer() #loading the data\n",
        "# print(data)"
      ]
    },
    {
      "cell_type": "markdown",
      "metadata": {},
      "source": [
        "Data Split: Splitting of a give data into input features and target variable\n"
      ]
    },
    {
      "cell_type": "code",
      "execution_count": 25,
      "metadata": {},
      "outputs": [],
      "source": [
        "X = data.data\n",
        "y = data.target\n",
        "# print(X)\n",
        "# print(y)"
      ]
    },
    {
      "cell_type": "markdown",
      "metadata": {},
      "source": [
        "Data Splitting into train set and test set"
      ]
    },
    {
      "cell_type": "code",
      "execution_count": 26,
      "metadata": {},
      "outputs": [],
      "source": [
        "X_train, X_test, y_train, y_test = train_test_split(X, y, test_size=0.2, random_state=0)\n",
        "\n",
        "## Data Normalization\n",
        "scaler = StandardScaler()\n",
        "X_train = scaler.fit_transform(X_train)\n",
        "X_test = scaler.transform(X_test)"
      ]
    },
    {
      "cell_type": "markdown",
      "metadata": {},
      "source": [
        "Data Modeling"
      ]
    },
    {
      "cell_type": "code",
      "execution_count": 27,
      "metadata": {},
      "outputs": [
        {
          "name": "stdout",
          "output_type": "stream",
          "text": [
            "Random Forest trained successfully.\n",
            "KNN trained successfully.\n",
            "Logistic Regression trained successfully.\n",
            "SVM trained successfully.\n"
          ]
        }
      ],
      "source": [
        "models = {\n",
        "    'Random Forest': RandomForestClassifier(),\n",
        "    'KNN': KNeighborsClassifier(),\n",
        "    'Logistic Regression': LogisticRegression(),\n",
        "    'SVM': SVC(probability=True)\n",
        "}\n",
        "\n",
        "\n",
        "# Train models\n",
        "for name, model in models.items():\n",
        "    model.fit(X_train, y_train)\n",
        "    print(f'{name} trained successfully.')"
      ]
    },
    {
      "cell_type": "code",
      "execution_count": 28,
      "metadata": {},
      "outputs": [
        {
          "name": "stdout",
          "output_type": "stream",
          "text": [
            "                     Accuracy  Precision    Recall  F1 Score   ROC AUC\n",
            "Random Forest        0.956140   0.969697  0.955224  0.962406  0.995554\n",
            "KNN                  0.956140   0.930556  1.000000  0.964029  0.982375\n",
            "Logistic Regression  0.964912   0.970149  0.970149  0.970149  0.993331\n",
            "SVM                  0.982456   0.971014  1.000000  0.985294  0.999047\n"
          ]
        }
      ],
      "source": [
        "from sklearn.metrics import accuracy_score, precision_score, recall_score, f1_score, roc_auc_score\n",
        "# Evaluate models\n",
        "results = {}\n",
        "\n",
        "for name, model in models.items():\n",
        "    y_pred = model.predict(X_test)\n",
        "    y_prob = model.predict_proba(X_test)[:, 1] if hasattr(model, 'predict_proba') else None\n",
        "\n",
        "    results[name] = {\n",
        "        'Accuracy': accuracy_score(y_test, y_pred),\n",
        "        'Precision': precision_score(y_test, y_pred),\n",
        "        'Recall': recall_score(y_test, y_pred),\n",
        "        'F1 Score': f1_score(y_test, y_pred),\n",
        "        'ROC AUC': roc_auc_score(y_test, y_prob) if y_prob is not None else 'N/A'\n",
        "    }\n",
        "\n",
        "# Display results\n",
        "results_df = pd.DataFrame(results).T\n",
        "print(results_df)"
      ]
    },
    {
      "cell_type": "code",
      "execution_count": 29,
      "metadata": {},
      "outputs": [
        {
          "name": "stdout",
          "output_type": "stream",
          "text": [
            "Model Comparison:\n",
            "                     Accuracy  Precision    Recall  F1 Score   ROC AUC\n",
            "Random Forest        0.956140   0.969697  0.955224  0.962406  0.995554\n",
            "KNN                  0.956140   0.930556  1.000000  0.964029  0.982375\n",
            "Logistic Regression  0.964912   0.970149  0.970149  0.970149  0.993331\n",
            "SVM                  0.982456   0.971014  1.000000  0.985294  0.999047\n"
          ]
        }
      ],
      "source": [
        "# Compare models\n",
        "print('Model Comparison:')\n",
        "print(results_df)"
      ]
    }
  ],
  "metadata": {
    "colab": {
      "provenance": []
    },
    "kernelspec": {
      "display_name": "Python 3",
      "name": "python3"
    },
    "language_info": {
      "codemirror_mode": {
        "name": "ipython",
        "version": 3
      },
      "file_extension": ".py",
      "mimetype": "text/x-python",
      "name": "python",
      "nbconvert_exporter": "python",
      "pygments_lexer": "ipython3",
      "version": "3.10.13"
    }
  },
  "nbformat": 4,
  "nbformat_minor": 0
}
