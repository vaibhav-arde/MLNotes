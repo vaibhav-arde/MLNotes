{
  "cells": [
    {
      "cell_type": "markdown",
      "metadata": {},
      "source": [
        "## **Power Of Imputers**\n",
        "\n",
        "Imputers in Machine Learning are techniques used to handle missing data in datasets. Missing data is a common problem in real-world datasets, and imputers provide strategies to replace these missing values with appropriate estimates, so that machine learning models can operate without errors. Imputing missing data ensures that the dataset remains complete and that no valuable data points are lost due to missing values.\n",
        "\n",
        "### Why Imputers Are Important:\n",
        "- **Handling Missing Data**: Many machine learning algorithms cannot handle missing values directly and may give errors or produce suboptimal results if missing data is present.\n",
        "- **Improves Model Accuracy**: By properly imputing missing values, the dataset becomes more complete and can lead to better model performance.\n",
        "- **Retains Data**: Imputation allows you to keep as much data as possible instead of discarding rows or columns with missing values, which could reduce the amount of information available for learning.\n",
        "\n",
        "### Types of Imputers\n",
        "\n",
        "1. **Mean/Median/Mode Imputation**:\n",
        "   - **Mean**: For continuous numerical features, missing values are replaced with the mean of the non-missing values.\n",
        "   - **Median**: Replaces missing values with the median, often preferred when there are outliers.\n",
        "   - **Mode**: Used for categorical features, replaces missing values with the most frequent category (the mode).\n",
        "\n",
        "   Example (using `SimpleImputer` from scikit-learn):\n",
        "   ```python\n",
        "   from sklearn.impute import SimpleImputer\n",
        "   import numpy as np\n",
        "   import pandas as pd\n",
        "\n",
        "   # Sample data with missing values\n",
        "   data = {'Age': [25, np.nan, 35, 40, np.nan], \n",
        "           'Gender': ['Male', 'Female', 'Female', np.nan, 'Male']}\n",
        "   df = pd.DataFrame(data)\n",
        "\n",
        "   # Imputing missing numerical data with mean\n",
        "   imputer = SimpleImputer(strategy='mean')\n",
        "   df['Age'] = imputer.fit_transform(df[['Age']])\n",
        "\n",
        "   # Imputing missing categorical data with mode\n",
        "   imputer = SimpleImputer(strategy='most_frequent')\n",
        "   df['Gender'] = imputer.fit_transform(df[['Gender']])\n",
        "\n",
        "   print(df)\n",
        "   ```\n",
        "\n",
        "2. **K-Nearest Neighbors (KNN) Imputation**:\n",
        "   - Uses the K-nearest neighbors algorithm to impute missing values based on the values of the K nearest observations.\n",
        "   - For each missing value, KNN finds K similar instances (rows) based on other feature values and imputes the missing value by averaging (or mode in the case of categorical features) the non-missing values of the neighbors.\n",
        "\n",
        "   Example:\n",
        "   ```python\n",
        "   from sklearn.impute import KNNImputer\n",
        "   import pandas as pd\n",
        "\n",
        "   # Sample data with missing values\n",
        "   df = pd.DataFrame({\n",
        "       'Feature1': [1, 2, np.nan, 4],\n",
        "       'Feature2': [5, np.nan, np.nan, 8],\n",
        "       'Feature3': [10, 11, 12, 13]\n",
        "   })\n",
        "\n",
        "   # Using KNNImputer\n",
        "   imputer = KNNImputer(n_neighbors=2)\n",
        "   df_imputed = imputer.fit_transform(df)\n",
        "\n",
        "   print(df_imputed)\n",
        "   ```\n",
        "\n",
        "3. **Multivariate Imputation by Chained Equations (MICE)**:\n",
        "   - Also called **Iterative Imputer**, this method models each feature with missing values as a function of the other features. It imputes values by drawing multiple imputation steps in a sequence (chained equations).\n",
        "   - More advanced and can capture relationships between variables better than simpler methods like mean or mode imputation.\n",
        "\n",
        "   Example:\n",
        "   ```python\n",
        "   from sklearn.experimental import enable_iterative_imputer\n",
        "   from sklearn.impute import IterativeImputer\n",
        "   import pandas as pd\n",
        "   import numpy as np\n",
        "\n",
        "   # Sample data with missing values\n",
        "   df = pd.DataFrame({\n",
        "       'Feature1': [1, 2, np.nan, 4],\n",
        "       'Feature2': [5, np.nan, np.nan, 8],\n",
        "       'Feature3': [10, 11, 12, 13]\n",
        "   })\n",
        "\n",
        "   # Using Iterative Imputer\n",
        "   imputer = IterativeImputer()\n",
        "   df_imputed = imputer.fit_transform(df)\n",
        "\n",
        "   print(df_imputed)\n",
        "   ```\n",
        "\n",
        "4. **Constant Imputation**:\n",
        "   - This method allows missing values to be filled with a constant value, often used when you want to replace missing values with a domain-specific constant.\n",
        "   - For example, you can fill missing values with `0` for numerical data or `'Unknown'` for categorical data.\n",
        "\n",
        "   Example:\n",
        "   ```python\n",
        "   imputer = SimpleImputer(strategy='constant', fill_value=0)\n",
        "   df['Age'] = imputer.fit_transform(df[['Age']])\n",
        "   ```\n",
        "\n",
        "### Summary of Imputation Strategies:\n",
        "\n",
        "| Method             | When to Use                                                                 |\n",
        "|--------------------|-----------------------------------------------------------------------------|\n",
        "| **Mean**           | When the feature is continuous, and the data distribution is not skewed.     |\n",
        "| **Median**         | When the feature is continuous, especially if the data contains outliers.    |\n",
        "| **Mode**           | For categorical features.                                                   |\n",
        "| **KNN Imputation** | When the missing data is correlated with other features and patterns can be learned. |\n",
        "| **MICE**           | When the dataset is complex, and relationships between features are important to preserve. |\n",
        "| **Constant Imputation** | When a specific value makes sense for your domain, e.g., 0 for missing numerical data or \"Unknown\" for missing categorical data. |\n",
        "\n",
        "### Pros and Cons of Imputation\n",
        "\n",
        "| Pros                                  | Cons                                                       |\n",
        "|---------------------------------------|-------------------------------------------------------------|\n",
        "| Retains valuable data                 | Can introduce bias (especially with simple methods like mean imputation) |\n",
        "| Improves model performance            | KNN and MICE imputers are computationally expensive         |\n",
        "| Prevents loss of data when values are missing | Can distort the data distribution                           |\n",
        "\n",
        "### Best Practices\n",
        "- Always evaluate the nature of your data and choose the imputation method carefully.\n",
        "- Simple methods like mean and mode may work well for small datasets, but advanced methods like KNN or MICE may be better for larger datasets with complex patterns.\n"
      ]
    },
    {
      "cell_type": "markdown",
      "metadata": {
        "id": "xN7UEd_ub_9c"
      },
      "source": [
        "Import all the required packages"
      ]
    },
    {
      "cell_type": "code",
      "execution_count": 1,
      "metadata": {
        "id": "h49ULZIWREcW"
      },
      "outputs": [],
      "source": [
        "import pandas as pd\n",
        "import numpy as np"
      ]
    },
    {
      "cell_type": "markdown",
      "metadata": {
        "id": "b_Ol7X8zcK_3"
      },
      "source": [
        "Create a dummy data to understand the data imputation"
      ]
    },
    {
      "cell_type": "code",
      "execution_count": 2,
      "metadata": {
        "colab": {
          "base_uri": "https://localhost:8080/",
          "height": 206
        },
        "id": "SYmN67X3cKfW",
        "outputId": "4a859ca4-125b-41c7-e47f-198df2cd3958"
      },
      "outputs": [
        {
          "data": {
            "text/html": [
              "<div>\n",
              "<style scoped>\n",
              "    .dataframe tbody tr th:only-of-type {\n",
              "        vertical-align: middle;\n",
              "    }\n",
              "\n",
              "    .dataframe tbody tr th {\n",
              "        vertical-align: top;\n",
              "    }\n",
              "\n",
              "    .dataframe thead th {\n",
              "        text-align: right;\n",
              "    }\n",
              "</style>\n",
              "<table border=\"1\" class=\"dataframe\">\n",
              "  <thead>\n",
              "    <tr style=\"text-align: right;\">\n",
              "      <th></th>\n",
              "      <th>age</th>\n",
              "      <th>salary</th>\n",
              "    </tr>\n",
              "  </thead>\n",
              "  <tbody>\n",
              "    <tr>\n",
              "      <th>0</th>\n",
              "      <td>25.0</td>\n",
              "      <td>50000.0</td>\n",
              "    </tr>\n",
              "    <tr>\n",
              "      <th>1</th>\n",
              "      <td>NaN</td>\n",
              "      <td>60000.0</td>\n",
              "    </tr>\n",
              "    <tr>\n",
              "      <th>2</th>\n",
              "      <td>30.0</td>\n",
              "      <td>NaN</td>\n",
              "    </tr>\n",
              "    <tr>\n",
              "      <th>3</th>\n",
              "      <td>NaN</td>\n",
              "      <td>90000.0</td>\n",
              "    </tr>\n",
              "    <tr>\n",
              "      <th>4</th>\n",
              "      <td>35.0</td>\n",
              "      <td>NaN</td>\n",
              "    </tr>\n",
              "  </tbody>\n",
              "</table>\n",
              "</div>"
            ],
            "text/plain": [
              "    age   salary\n",
              "0  25.0  50000.0\n",
              "1   NaN  60000.0\n",
              "2  30.0      NaN\n",
              "3   NaN  90000.0\n",
              "4  35.0      NaN"
            ]
          },
          "execution_count": 2,
          "metadata": {},
          "output_type": "execute_result"
        }
      ],
      "source": [
        "data = {'age':[25, np.nan, 30, np.nan, 35],\n",
        "        'salary': [50000, 60000, np.nan, 90000, np.nan]}\n",
        "\n",
        "dataframe = pd.DataFrame(data)\n",
        "dataframe"
      ]
    },
    {
      "cell_type": "markdown",
      "metadata": {
        "id": "4LnwE9JRcqGz"
      },
      "source": [
        "Data Imputation via Mean, Median or Mode"
      ]
    },
    {
      "cell_type": "code",
      "execution_count": 3,
      "metadata": {
        "colab": {
          "base_uri": "https://localhost:8080/"
        },
        "id": "Q83cYRZschFW",
        "outputId": "dc8bc833-9126-4fac-eb45-3cba7b44fa42"
      },
      "outputs": [
        {
          "name": "stdout",
          "output_type": "stream",
          "text": [
            "    age        salary\n",
            "0  25.0  50000.000000\n",
            "1  30.0  60000.000000\n",
            "2  30.0  66666.666667\n",
            "3  30.0  90000.000000\n",
            "4  35.0  66666.666667\n"
          ]
        }
      ],
      "source": [
        "from sklearn.impute import SimpleImputer\n",
        "imputer = SimpleImputer(strategy='mean')\n",
        "imputed_data = imputer.fit_transform(dataframe)\n",
        "imputed_df = pd.DataFrame(imputed_data, columns = dataframe.columns)\n",
        "print(imputed_df)"
      ]
    },
    {
      "cell_type": "markdown",
      "metadata": {
        "id": "q5hUYAzIdXtf"
      },
      "source": [
        "Data Imputation via KNN Imputer"
      ]
    },
    {
      "cell_type": "code",
      "execution_count": 4,
      "metadata": {
        "colab": {
          "base_uri": "https://localhost:8080/"
        },
        "id": "w2l8RriAdIgm",
        "outputId": "7feb76e6-27ba-4351-c438-4adda3d6e8cb"
      },
      "outputs": [
        {
          "name": "stdout",
          "output_type": "stream",
          "text": [
            "    age   salary\n",
            "0  25.0  50000.0\n",
            "1  27.5  60000.0\n",
            "2  30.0  55000.0\n",
            "3  27.5  90000.0\n",
            "4  35.0  55000.0\n"
          ]
        }
      ],
      "source": [
        "from sklearn.impute import KNNImputer\n",
        "imputer = KNNImputer(n_neighbors=2)\n",
        "imputed_data = imputer.fit_transform(dataframe)\n",
        "imputed_df = pd.DataFrame(imputed_data, columns = dataframe.columns)\n",
        "print(imputed_df)"
      ]
    }
  ],
  "metadata": {
    "colab": {
      "provenance": []
    },
    "kernelspec": {
      "display_name": "Python 3",
      "name": "python3"
    },
    "language_info": {
      "codemirror_mode": {
        "name": "ipython",
        "version": 3
      },
      "file_extension": ".py",
      "mimetype": "text/x-python",
      "name": "python",
      "nbconvert_exporter": "python",
      "pygments_lexer": "ipython3",
      "version": "3.10.13"
    }
  },
  "nbformat": 4,
  "nbformat_minor": 0
}
